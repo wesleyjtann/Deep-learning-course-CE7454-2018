{
 "cells": [
  {
   "cell_type": "markdown",
   "metadata": {},
   "source": [
    "# Lab 02: LSTM - exercise"
   ]
  },
  {
   "cell_type": "code",
   "execution_count": 3,
   "metadata": {},
   "outputs": [],
   "source": [
    "import torch\n",
    "import torch.nn.functional as F\n",
    "import torch.nn as nn\n",
    "import math\n",
    "import time\n",
    "import utils"
   ]
  },
  {
   "cell_type": "markdown",
   "metadata": {},
   "source": [
    "### With or without GPU?\n",
    "\n",
    "It is recommended to run this code on GPU:<br> \n",
    "* Time for 1 epoch on CPU : 274 sec ( 4.56 min)<br> \n",
    "* Time for 1 epoch on GPU : 10.1 sec w/ GeForce GTX 1080 Ti <br>"
   ]
  },
  {
   "cell_type": "code",
   "execution_count": 4,
   "metadata": {},
   "outputs": [
    {
     "name": "stdout",
     "output_type": "stream",
     "text": [
      "cuda\n"
     ]
    }
   ],
   "source": [
    "device= torch.device(\"cuda\")\n",
    "#device= torch.device(\"cpu\")\n",
    "print(device)"
   ]
  },
  {
   "cell_type": "markdown",
   "metadata": {},
   "source": [
    "### Download Penn Tree Bank (the tensor train_data should consists of 20 columns of ~50,000 words)"
   ]
  },
  {
   "cell_type": "code",
   "execution_count": 5,
   "metadata": {},
   "outputs": [
    {
     "name": "stdout",
     "output_type": "stream",
     "text": [
      "torch.Size([46479, 20])\n",
      "torch.Size([4121, 20])\n"
     ]
    }
   ],
   "source": [
    "from utils import check_ptb_dataset_exists\n",
    "data_path=check_ptb_dataset_exists()\n",
    "\n",
    "train_data  =  torch.load(data_path+'ptb/train_data.pt')\n",
    "test_data   =  torch.load(data_path+'ptb/test_data.pt')\n",
    "\n",
    "print(  train_data.size()  )\n",
    "print(  test_data.size()   )"
   ]
  },
  {
   "cell_type": "markdown",
   "metadata": {},
   "source": [
    "### Some constants associated with the data set"
   ]
  },
  {
   "cell_type": "code",
   "execution_count": 6,
   "metadata": {},
   "outputs": [],
   "source": [
    "bs = 20\n",
    "\n",
    "vocab_size = 10000\n"
   ]
  },
  {
   "cell_type": "markdown",
   "metadata": {},
   "source": [
    "### Make a recurrent net class"
   ]
  },
  {
   "cell_type": "code",
   "execution_count": 7,
   "metadata": {},
   "outputs": [],
   "source": [
    "class three_layer_recurrent_net(nn.Module):\n",
    "\n",
    "    def __init__(self, hidden_size):\n",
    "        super(three_layer_recurrent_net, self).__init__()\n",
    "        \n",
    "        self.layer1 = nn.Embedding(vocab_size, hidden_size) # COMPLETE HERE\n",
    "        self.layer2 = nn.LSTM(hidden_size, hidden_size) # COMPLETE HERE\n",
    "        self.layer3 = nn.Linear(hidden_size, vocab_size) # COMPLETE HERE\n",
    "\n",
    "        \n",
    "    def forward(self, word_seq, h_init, c_init ):\n",
    "        \n",
    "        g_seq                      = self.layer1(word_seq)  # COMPLETE HERE\n",
    "        h_seq , (h_final,c_final)  = self.layer2(g_seq, (h_init, c_init))  # COMPLETE HERE (don't forget the extra parenthesis around h_init and c_init)\n",
    "        score_seq                  = self.layer3(h_seq)  # COMPLETE HERE\n",
    "        \n",
    "        return score_seq,  h_final , c_final\n"
   ]
  },
  {
   "cell_type": "markdown",
   "metadata": {},
   "source": [
    "### Build the net. Choose the hidden size to be 300. How many parameters in total?"
   ]
  },
  {
   "cell_type": "code",
   "execution_count": 8,
   "metadata": {},
   "outputs": [
    {
     "name": "stdout",
     "output_type": "stream",
     "text": [
      "three_layer_recurrent_net(\n",
      "  (layer1): Embedding(10000, 300)\n",
      "  (layer2): LSTM(300, 300)\n",
      "  (layer3): Linear(in_features=300, out_features=10000, bias=True)\n",
      ")\n",
      "There are 6732400 (6.73 million) parameters in this neural network\n"
     ]
    }
   ],
   "source": [
    "hidden_size = 300 # COMPLETE HERE\n",
    "\n",
    "net = three_layer_recurrent_net( hidden_size )\n",
    "\n",
    "print(net)\n",
    "\n",
    "utils.display_num_param(net)"
   ]
  },
  {
   "cell_type": "markdown",
   "metadata": {},
   "source": [
    "### Send the weights of the networks to the GPU"
   ]
  },
  {
   "cell_type": "code",
   "execution_count": 9,
   "metadata": {},
   "outputs": [],
   "source": [
    "net = net.to(device)"
   ]
  },
  {
   "cell_type": "markdown",
   "metadata": {},
   "source": [
    "### Set up manually the weights of the embedding module and Linear module"
   ]
  },
  {
   "cell_type": "code",
   "execution_count": 10,
   "metadata": {},
   "outputs": [
    {
     "name": "stdout",
     "output_type": "stream",
     "text": [
      "\n"
     ]
    }
   ],
   "source": [
    "net.layer1.weight.data.uniform_(-0.1, 0.1)\n",
    "\n",
    "net.layer3.weight.data.uniform_(-0.1, 0.1)\n",
    "\n",
    "print('')"
   ]
  },
  {
   "cell_type": "markdown",
   "metadata": {},
   "source": [
    "### Choose the criterion, as well as the following important hyperparameters: \n",
    "* initial learning rate = 5\n",
    "* sequence length = 35"
   ]
  },
  {
   "cell_type": "code",
   "execution_count": 11,
   "metadata": {},
   "outputs": [],
   "source": [
    "criterion = nn.CrossEntropyLoss()\n",
    "\n",
    "my_lr = 5 # COMPLETE HERE\n",
    "\n",
    "seq_length = 35 # COMPLETE HERE"
   ]
  },
  {
   "cell_type": "markdown",
   "metadata": {},
   "source": [
    "### Function to evaluate the network on the test set"
   ]
  },
  {
   "cell_type": "code",
   "execution_count": 12,
   "metadata": {},
   "outputs": [],
   "source": [
    "def eval_on_test_set():\n",
    "\n",
    "    running_loss=0\n",
    "    num_batches=0    \n",
    "       \n",
    "    h = torch.zeros(1, bs, hidden_size)\n",
    "    c = torch.zeros(1, bs, hidden_size)\n",
    "   \n",
    "    h=h.to(device)\n",
    "    c=c.to(device)\n",
    "       \n",
    "    for count in range( 0 , 4120-seq_length ,  seq_length) :\n",
    "               \n",
    "        minibatch_data =  test_data[ count   : count+seq_length   ]\n",
    "        minibatch_label = test_data[ count+1 : count+seq_length+1 ]\n",
    "        \n",
    "        minibatch_data=minibatch_data.to(device)\n",
    "        minibatch_label=minibatch_label.to(device)\n",
    "                                  \n",
    "        scores, h, c  = net( minibatch_data, h , c)\n",
    "        \n",
    "        minibatch_label =   minibatch_label.view(  bs*seq_length ) \n",
    "        scores          =            scores.view(  bs*seq_length , vocab_size)\n",
    "        \n",
    "        loss = criterion(  scores ,  minibatch_label )    \n",
    "        \n",
    "        h=h.detach()\n",
    "        c=c.detach()\n",
    "            \n",
    "        running_loss += loss.item()\n",
    "        num_batches += 1        \n",
    "    \n",
    "    total_loss = running_loss/num_batches \n",
    "    print('test: exp(loss) = ', math.exp(total_loss)  )\n",
    "        "
   ]
  },
  {
   "cell_type": "markdown",
   "metadata": {},
   "source": [
    "### Do 8 passes through the training set."
   ]
  },
  {
   "cell_type": "code",
   "execution_count": 13,
   "metadata": {},
   "outputs": [
    {
     "name": "stdout",
     "output_type": "stream",
     "text": [
      "\n",
      "epoch= 0 \t time= 8.211996078491211 \t lr= 5 \t exp(loss)= 279.4402583954013\n",
      "test: exp(loss) =  176.30351187373043\n",
      "\n",
      "epoch= 1 \t time= 16.67081379890442 \t lr= 5 \t exp(loss)= 126.98750670975554\n",
      "test: exp(loss) =  133.53573246141025\n",
      "\n",
      "epoch= 2 \t time= 25.035041570663452 \t lr= 1.6666666666666667 \t exp(loss)= 81.04688879221932\n",
      "test: exp(loss) =  114.37226256739952\n",
      "\n",
      "epoch= 3 \t time= 33.40575385093689 \t lr= 0.5555555555555556 \t exp(loss)= 66.8743564567243\n",
      "test: exp(loss) =  110.30347768024261\n",
      "\n",
      "epoch= 4 \t time= 41.72743630409241 \t lr= 0.1851851851851852 \t exp(loss)= 62.0367803181859\n",
      "test: exp(loss) =  109.05039854876053\n",
      "\n",
      "epoch= 5 \t time= 50.10138535499573 \t lr= 0.0617283950617284 \t exp(loss)= 60.293079923380624\n",
      "test: exp(loss) =  108.4714515010681\n",
      "\n",
      "epoch= 6 \t time= 58.443538665771484 \t lr= 0.0205761316872428 \t exp(loss)= 59.663322203579135\n",
      "test: exp(loss) =  108.07592236509308\n",
      "\n",
      "epoch= 7 \t time= 66.77264189720154 \t lr= 0.006858710562414266 \t exp(loss)= 59.437707806218725\n",
      "test: exp(loss) =  107.80424795800211\n"
     ]
    }
   ],
   "source": [
    "start=time.time()\n",
    "\n",
    "for epoch in range(8):\n",
    "    \n",
    "    # keep the learning rate to 1 during the first 2 epochs, then divide by 3 at every epoch    \n",
    "    if epoch >= 2:\n",
    "        my_lr = my_lr / 3 # COMPLETE HERE\n",
    "        \n",
    "    \n",
    "    # create a new optimizer at the beginning of each epoch: give the current learning rate.   \n",
    "    optimizer=torch.optim.SGD( net.parameters() , lr=my_lr )\n",
    "        \n",
    "    # set the running quatities to zero at the beginning of the epoch\n",
    "    running_loss=0\n",
    "    num_batches=0    \n",
    "       \n",
    "    # set the initial h and c to be the zero vector\n",
    "    h = torch.zeros(1, bs, hidden_size)\n",
    "    c = torch.zeros(1, bs, hidden_size)\n",
    "\n",
    "    # send them to the gpu    \n",
    "    h=h.to(device)\n",
    "    c=c.to(device)\n",
    "    \n",
    "    for count in range( 0 , 46478-seq_length ,  seq_length):\n",
    "        \n",
    "        # Set the gradients to zeros\n",
    "        optimizer.zero_grad()\n",
    "        \n",
    "        # create a minibatch\n",
    "        minibatch_data = train_data[count:count+seq_length]  # COMPLETE HERE\n",
    "        minibatch_label = train_data[count+1:count+seq_length+1] # COMPLETE HERE      \n",
    "        \n",
    "        # send them to the gpu\n",
    "        minibatch_data=minibatch_data.to(device)\n",
    "        minibatch_label=minibatch_label.to(device)\n",
    "        \n",
    "        # Detach to prevent from backpropagating all the way to the beginning\n",
    "        # Then tell Pytorch to start tracking all operations that will be done on h and c\n",
    "        h=h.detach() # COMPLETE HERE\n",
    "        c=c.detach() # COMPLETE HERE\n",
    "        h=h.requires_grad_() # COMPLETE HERE\n",
    "        c=c.requires_grad_() # COMPLETE HERE\n",
    "                       \n",
    "        # forward the minibatch through the net        \n",
    "        scores, h, c  = net(minibatch_data, h, c) # COMPLETE HERE\n",
    "        \n",
    "        # reshape the scores and labels to huge batch of size bs*seq_length\n",
    "        scores          = scores.view(bs*seq_length, vocab_size) # COMPLETE HERE          \n",
    "        minibatch_label = minibatch_label.view(bs*seq_length) # COMPLETE HERE       \n",
    "        \n",
    "        # Compute the average of the losses of the data points in this huge batch\n",
    "        loss = criterion(scores, minibatch_label) # COMPLETE HERE\n",
    "        \n",
    "        # backward pass to compute dL/dR, dL/dV and dL/dW\n",
    "        loss.backward() # COMPLETE HERE\n",
    "\n",
    "        # do one step of stochastic gradient descent: R=R-lr(dL/dR), V=V-lr(dL/dV), ...\n",
    "        utils.normalize_gradient(net)\n",
    "        optimizer.step() # COMPLETE HERE\n",
    "        \n",
    "            \n",
    "        # update the running loss  \n",
    "        running_loss += loss.item()\n",
    "        num_batches += 1\n",
    "        \n",
    "        \n",
    "        \n",
    "    # compute stats for the full training set\n",
    "    total_loss = running_loss/num_batches\n",
    "    elapsed = time.time()-start\n",
    "    \n",
    "    print('')\n",
    "    print('epoch=',epoch, '\\t time=', elapsed,'\\t lr=', my_lr, '\\t exp(loss)=',  math.exp(total_loss))\n",
    "    eval_on_test_set() \n"
   ]
  },
  {
   "cell_type": "markdown",
   "metadata": {},
   "source": [
    "### Choose one sentence (taken from the test set)"
   ]
  },
  {
   "cell_type": "code",
   "execution_count": 14,
   "metadata": {},
   "outputs": [],
   "source": [
    "sentence1 = \"some analysts expect oil prices to remain relatively\"\n",
    "\n",
    "sentence2 = \"over the next days and weeks they say investors should look for stocks to\"\n",
    "\n",
    "sentence3 = \"prices averaging roughly $ N a barrel higher in the third\"\n",
    "\n",
    "sentence4 = \"i think my line has been very consistent mrs. hills said at a news\"\n",
    "\n",
    "sentence5 = \"this appears particularly true at gm which had strong sales in\"\n",
    "\n",
    "# or make your own sentence.  No capital letter or punctuation allowed. Each word must be in the allowed vocabulary.\n",
    "sentence6= \"he was very\"\n",
    "\n",
    "# SELECT THE SENTENCE HERE\n",
    "mysentence = sentence2"
   ]
  },
  {
   "cell_type": "markdown",
   "metadata": {},
   "source": [
    "### Convert the sentence into a vector, then send to GPU"
   ]
  },
  {
   "cell_type": "code",
   "execution_count": 15,
   "metadata": {},
   "outputs": [
    {
     "name": "stdout",
     "output_type": "stream",
     "text": [
      "tensor([[ 301],\n",
      "        [  32],\n",
      "        [ 528],\n",
      "        [ 363],\n",
      "        [  48],\n",
      "        [1193],\n",
      "        [ 374],\n",
      "        [ 674],\n",
      "        [ 410],\n",
      "        [ 238],\n",
      "        [2460],\n",
      "        [ 181],\n",
      "        [1709],\n",
      "        [  64]], device='cuda:0')\n"
     ]
    }
   ],
   "source": [
    "minibatch_data=utils.sentence2vector(mysentence)\n",
    "      \n",
    "minibatch_data=minibatch_data.to(device)\n",
    "\n",
    "print(minibatch_data)"
   ]
  },
  {
   "cell_type": "markdown",
   "metadata": {},
   "source": [
    "### Set the initial hidden state to zero, then run the LSTM."
   ]
  },
  {
   "cell_type": "code",
   "execution_count": 16,
   "metadata": {},
   "outputs": [],
   "source": [
    "h = torch.zeros(1, 1, hidden_size)\n",
    "c = torch.zeros(1, 1, hidden_size)\n",
    "h=h.to(device)\n",
    "c=c.to(device)\n",
    "\n",
    "scores , h, c = net(minibatch_data , h, c)"
   ]
  },
  {
   "cell_type": "markdown",
   "metadata": {},
   "source": [
    "### Display the network prediction for the next word"
   ]
  },
  {
   "cell_type": "code",
   "execution_count": 17,
   "metadata": {},
   "outputs": [
    {
     "name": "stdout",
     "output_type": "stream",
     "text": [
      "over the next days and weeks they say investors should look for stocks to ... \n",
      "\n",
      "7.2%\t buy\n",
      "4.2%\t be\n",
      "3.8%\t sell\n",
      "3.2%\t get\n",
      "2.6%\t pay\n",
      "2.3%\t <unk>\n",
      "2.2%\t do\n",
      "2.2%\t continue\n",
      "2.0%\t make\n",
      "1.8%\t keep\n",
      "1.6%\t take\n",
      "1.5%\t raise\n",
      "1.4%\t market\n",
      "1.0%\t focus\n",
      "1.0%\t boost\n",
      "0.9%\t come\n",
      "0.9%\t meet\n",
      "0.9%\t help\n",
      "0.8%\t put\n",
      "0.8%\t finance\n",
      "0.8%\t give\n",
      "0.8%\t stay\n",
      "0.8%\t see\n",
      "0.7%\t provide\n",
      "0.7%\t consider\n",
      "0.7%\t say\n",
      "0.7%\t reduce\n",
      "0.7%\t try\n",
      "0.6%\t go\n",
      "0.6%\t avoid\n"
     ]
    }
   ],
   "source": [
    "print(mysentence, '... \\n')\n",
    "\n",
    "utils.show_next_word(scores)"
   ]
  },
  {
   "cell_type": "code",
   "execution_count": null,
   "metadata": {},
   "outputs": [],
   "source": []
  }
 ],
 "metadata": {
  "kernelspec": {
   "display_name": "dl_CE7454",
   "language": "python",
   "name": "dl_ce7454"
  },
  "language_info": {
   "codemirror_mode": {
    "name": "ipython",
    "version": 3
   },
   "file_extension": ".py",
   "mimetype": "text/x-python",
   "name": "python",
   "nbconvert_exporter": "python",
   "pygments_lexer": "ipython3",
   "version": "3.6.6"
  }
 },
 "nbformat": 4,
 "nbformat_minor": 2
}
