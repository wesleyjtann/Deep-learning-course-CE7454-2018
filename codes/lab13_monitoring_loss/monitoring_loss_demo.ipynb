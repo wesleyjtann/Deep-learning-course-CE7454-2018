{
 "cells": [
  {
   "cell_type": "markdown",
   "metadata": {},
   "source": [
    "# Lab 13: Loss and error rate -- demo"
   ]
  },
  {
   "cell_type": "code",
   "execution_count": 1,
   "metadata": {},
   "outputs": [],
   "source": [
    "import torch\n",
    "import torch.nn as nn\n",
    "import torch.nn.functional as F\n",
    "import torch.optim as optim\n",
    "from random import randint\n",
    "import utils"
   ]
  },
  {
   "cell_type": "markdown",
   "metadata": {},
   "source": [
    "### Download the data and print the sizes"
   ]
  },
  {
   "cell_type": "code",
   "execution_count": 2,
   "metadata": {},
   "outputs": [],
   "source": [
    "train_data=torch.load('../data/mnist/train_data.pt')\n",
    "train_label=torch.load('../data/mnist/train_label.pt')\n",
    "test_data=torch.load('../data/mnist/test_data.pt')"
   ]
  },
  {
   "cell_type": "markdown",
   "metadata": {},
   "source": [
    "### Make a ONE layer net class. "
   ]
  },
  {
   "cell_type": "code",
   "execution_count": 3,
   "metadata": {},
   "outputs": [],
   "source": [
    "class one_layer_net(nn.Module):\n",
    "\n",
    "    def __init__(self, input_size, output_size):\n",
    "        super(one_layer_net , self).__init__()\n",
    "        self.linear_layer = nn.Linear( input_size, output_size , bias=False)\n",
    "        \n",
    "    def forward(self, x):\n",
    "        scores = self.linear_layer(x)\n",
    "        return scores"
   ]
  },
  {
   "cell_type": "markdown",
   "metadata": {},
   "source": [
    "### Build the net"
   ]
  },
  {
   "cell_type": "code",
   "execution_count": 4,
   "metadata": {},
   "outputs": [
    {
     "name": "stdout",
     "output_type": "stream",
     "text": [
      "one_layer_net(\n",
      "  (linear_layer): Linear(in_features=784, out_features=10, bias=False)\n",
      ")\n"
     ]
    }
   ],
   "source": [
    "net=one_layer_net(784,10)\n",
    "print(net)"
   ]
  },
  {
   "cell_type": "markdown",
   "metadata": {},
   "source": [
    "### Choose the criterion, optimizer, batchsize, learning rate"
   ]
  },
  {
   "cell_type": "code",
   "execution_count": 5,
   "metadata": {},
   "outputs": [],
   "source": [
    "criterion = nn.CrossEntropyLoss()\n",
    "\n",
    "optimizer=torch.optim.SGD( net.parameters() , lr=0.01 )\n",
    "\n",
    "bs=200"
   ]
  },
  {
   "cell_type": "markdown",
   "metadata": {},
   "source": [
    "### Do 30 passes through the training set"
   ]
  },
  {
   "cell_type": "code",
   "execution_count": 6,
   "metadata": {},
   "outputs": [
    {
     "name": "stdout",
     "output_type": "stream",
     "text": [
      "epoch= 0 \t loss= 1.456047242085139 \t error= 28.661666671435036 percent\n",
      "epoch= 1 \t loss= 0.8560971194505691 \t error= 16.808333297570545 percent\n",
      "epoch= 2 \t loss= 0.6884396290779113 \t error= 14.999999781449635 percent\n",
      "epoch= 3 \t loss= 0.6069299148519834 \t error= 14.086666564146677 percent\n",
      "epoch= 4 \t loss= 0.5573330604036649 \t error= 13.459999978542328 percent\n",
      "epoch= 5 \t loss= 0.5234072095155716 \t error= 12.971666554609934 percent\n",
      "epoch= 6 \t loss= 0.4984476919968923 \t error= 12.578333298365274 percent\n",
      "epoch= 7 \t loss= 0.47916398485501605 \t error= 12.243333518505096 percent\n",
      "epoch= 8 \t loss= 0.4636919912695885 \t error= 11.95333343744278 percent\n",
      "epoch= 9 \t loss= 0.4509045133988063 \t error= 11.69833368062973 percent\n",
      "epoch= 10 \t loss= 0.4401584608356158 \t error= 11.545000155766804 percent\n",
      "epoch= 11 \t loss= 0.4309483939409256 \t error= 11.370000123977661 percent\n",
      "epoch= 12 \t loss= 0.42291372656822207 \t error= 11.206666767597198 percent\n",
      "epoch= 13 \t loss= 0.41587640504042306 \t error= 11.028333683808643 percent\n",
      "epoch= 14 \t loss= 0.409591375986735 \t error= 10.96833344300588 percent\n",
      "epoch= 15 \t loss= 0.4039926823973656 \t error= 10.84000039100647 percent\n",
      "epoch= 16 \t loss= 0.39887997061014174 \t error= 10.72666702667872 percent\n",
      "epoch= 17 \t loss= 0.3943039704859257 \t error= 10.645000338554382 percent\n",
      "epoch= 18 \t loss= 0.39009364997347196 \t error= 10.568333645661673 percent\n",
      "epoch= 19 \t loss= 0.38622074991464617 \t error= 10.470000346501667 percent\n",
      "epoch= 20 \t loss= 0.3826483898361524 \t error= 10.421666940053303 percent\n",
      "epoch= 21 \t loss= 0.3792994557817777 \t error= 10.341666758060455 percent\n",
      "epoch= 22 \t loss= 0.37622984101374946 \t error= 10.265000224113464 percent\n",
      "epoch= 23 \t loss= 0.37335135862231256 \t error= 10.21000023682912 percent\n",
      "epoch= 24 \t loss= 0.37065335363149643 \t error= 10.155000468095142 percent\n",
      "epoch= 25 \t loss= 0.36811228781938554 \t error= 10.09000019232432 percent\n",
      "epoch= 26 \t loss= 0.3657337015867233 \t error= 10.043333550294241 percent\n",
      "epoch= 27 \t loss= 0.36348661785324415 \t error= 10.005000134309133 percent\n",
      "epoch= 28 \t loss= 0.3613557571172714 \t error= 9.955000102519989 percent\n",
      "epoch= 29 \t loss= 0.3593396393458049 \t error= 9.920000155766804 percent\n"
     ]
    }
   ],
   "source": [
    "for epoch in range(30):\n",
    "    \n",
    "    running_loss=0\n",
    "    running_error=0\n",
    "    num_batches=0\n",
    "    \n",
    "    shuffled_indices=torch.randperm(60000)\n",
    " \n",
    "    for count in range(0,60000,bs):\n",
    "    \n",
    "        optimizer.zero_grad()\n",
    "        \n",
    "        indices=shuffled_indices[count:count+bs]\n",
    "        minibatch_data =  train_data[indices]\n",
    "        minibatch_label= train_label[indices]\n",
    "\n",
    "        inputs = minibatch_data.view(bs,784)\n",
    "\n",
    "        inputs.requires_grad_()\n",
    "\n",
    "        scores=net( inputs ) \n",
    "\n",
    "        loss =  criterion( scores , minibatch_label) \n",
    "        \n",
    "        loss.backward()\n",
    "\n",
    "        optimizer.step()\n",
    "        \n",
    "        \n",
    "        # compute and accumulate stats\n",
    "        \n",
    "        running_loss += loss.detach().item()\n",
    "               \n",
    "        error = utils.get_error( scores.detach() , minibatch_label)\n",
    "        running_error += error.item()\n",
    "        \n",
    "        num_batches+=1\n",
    "    \n",
    "    \n",
    "    # compute stats for the full training set\n",
    "    total_loss = running_loss/num_batches\n",
    "    total_error = running_error/num_batches\n",
    "    \n",
    "    print('epoch=',epoch, '\\t loss=', total_loss , '\\t error=', total_error*100 ,'percent')\n",
    "        \n",
    "    \n",
    "        \n",
    "        "
   ]
  },
  {
   "cell_type": "markdown",
   "metadata": {},
   "source": [
    "### Choose image at random from the test set and see how good/bad are the predictions"
   ]
  },
  {
   "cell_type": "code",
   "execution_count": 7,
   "metadata": {},
   "outputs": [
    {
     "data": {
      "image/png": "[encoded data removed]",
      "text/plain": [
       "<Figure size 432x288 with 1 Axes>"
      ]
     },
     "metadata": {},
     "output_type": "display_data"
    },
    {
     "data": {
      "image/png": "[encoded data removed]",
      "text/plain": [
       "<Figure size 640x480 with 1 Axes>"
      ]
     },
     "metadata": {},
     "output_type": "display_data"
    }
   ],
   "source": [
    "# choose a picture at random\n",
    "idx=randint(0, 10000-1)\n",
    "im=test_data[idx]\n",
    "\n",
    "# diplay the picture\n",
    "utils.show(im)\n",
    "\n",
    "# feed it to the net and display the confidence scores\n",
    "scores =  net( im.view(1,784)) \n",
    "probs= F.softmax(scores, dim=1)\n",
    "utils.show_prob_mnist(probs)"
   ]
  },
  {
   "cell_type": "code",
   "execution_count": null,
   "metadata": {},
   "outputs": [],
   "source": []
  }
 ],
 "metadata": {
  "kernelspec": {
   "display_name": "Python 3",
   "language": "python",
   "name": "python3"
  },
  "language_info": {
   "codemirror_mode": {
    "name": "ipython",
    "version": 3
   },
   "file_extension": ".py",
   "mimetype": "text/x-python",
   "name": "python",
   "nbconvert_exporter": "python",
   "pygments_lexer": "ipython3",
   "version": "3.6.6"
  }
 },
 "nbformat": 4,
 "nbformat_minor": 2
}
