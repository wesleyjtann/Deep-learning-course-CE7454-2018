{
 "cells": [
  {
   "cell_type": "markdown",
   "metadata": {},
   "source": [
    "# Lab 10.04 : VGG architecture - exercise"
   ]
  },
  {
   "cell_type": "code",
   "execution_count": 1,
   "metadata": {},
   "outputs": [],
   "source": [
    "import torch\n",
    "import torch.nn as nn\n",
    "import torch.nn.functional as F\n",
    "import torch.optim as optim\n",
    "from random import randint\n",
    "import utils\n",
    "import time"
   ]
  },
  {
   "cell_type": "markdown",
   "metadata": {},
   "source": [
    "### With or without GPU?\n",
    "\n",
    "It is recommended to run this code on GPU:<br> \n",
    "* Time for 1 epoch on CPU : 841 sec (14.02 min)<br> \n",
    "* Time for 1 epoch on GPU : 9 sec w/ GeForce GTX 1080 Ti <br>"
   ]
  },
  {
   "cell_type": "code",
   "execution_count": 2,
   "metadata": {},
   "outputs": [
    {
     "name": "stdout",
     "output_type": "stream",
     "text": [
      "cuda\n"
     ]
    }
   ],
   "source": [
    "device= torch.device(\"cuda\")\n",
    "# device= torch.device(\"cpu\")\n",
    "print(device)"
   ]
  },
  {
   "cell_type": "markdown",
   "metadata": {},
   "source": [
    "### Download the CIFAR dataset "
   ]
  },
  {
   "cell_type": "code",
   "execution_count": 3,
   "metadata": {},
   "outputs": [
    {
     "name": "stdout",
     "output_type": "stream",
     "text": [
      "torch.Size([50000, 3, 32, 32])\n",
      "torch.Size([10000, 3, 32, 32])\n"
     ]
    }
   ],
   "source": [
    "from utils import check_cifar_dataset_exists\n",
    "data_path=check_cifar_dataset_exists()\n",
    "\n",
    "train_data=torch.load(data_path+'cifar/train_data.pt')\n",
    "train_label=torch.load(data_path+'cifar/train_label.pt')\n",
    "test_data=torch.load(data_path+'cifar/test_data.pt')\n",
    "test_label=torch.load(data_path+'cifar/test_label.pt')\n",
    "\n",
    "print(train_data.size())\n",
    "print(test_data.size())"
   ]
  },
  {
   "cell_type": "markdown",
   "metadata": {},
   "source": [
    "### Compute mean pixel intensity over all training set and all channels"
   ]
  },
  {
   "cell_type": "code",
   "execution_count": 4,
   "metadata": {},
   "outputs": [
    {
     "name": "stdout",
     "output_type": "stream",
     "text": [
      "tensor(0.4734)\n"
     ]
    }
   ],
   "source": [
    "mean= train_data.mean()\n",
    "\n",
    "print(mean)"
   ]
  },
  {
   "cell_type": "markdown",
   "metadata": {},
   "source": [
    "### Compute standard deviation"
   ]
  },
  {
   "cell_type": "code",
   "execution_count": 5,
   "metadata": {},
   "outputs": [
    {
     "name": "stdout",
     "output_type": "stream",
     "text": [
      "tensor(0.2516)\n"
     ]
    }
   ],
   "source": [
    "std= train_data.std()\n",
    "\n",
    "print(std)"
   ]
  },
  {
   "cell_type": "markdown",
   "metadata": {},
   "source": [
    "### Make a VGG convnet class. "
   ]
  },
  {
   "cell_type": "code",
   "execution_count": 6,
   "metadata": {},
   "outputs": [],
   "source": [
    "class VGG_convnet(nn.Module):\n",
    "\n",
    "    def __init__(self):\n",
    "\n",
    "        super(VGG_convnet, self).__init__()\n",
    "\n",
    "        # block 1:         3 x 32 x 32 --> 64 x 16 x 16        \n",
    "        self.conv1a = nn.Conv2d(3,   64,  kernel_size=3, padding=1 )\n",
    "        self.conv1b = nn.Conv2d(64,  64,  kernel_size=3, padding=1 )\n",
    "        self.pool1  = nn.MaxPool2d(2,2)\n",
    "\n",
    "        # block 2:         64 x 16 x 16 --> 128 x 8 x 8\n",
    "        self.conv2a = nn.Conv2d(64, 128, kernel_size=3, padding=1) # COMPLETE HERE\n",
    "        self.conv2b = nn.Conv2d(128, 128, kernel_size=3, padding=1) # COMPLETE HERE\n",
    "        self.pool2  = nn.MaxPool2d(2,2) # COMPLETE HERE\n",
    "\n",
    "        # block 3:         128 x 8 x 8 --> 256 x 4 x 4        \n",
    "        self.conv3a = nn.Conv2d(128, 256, kernel_size=3, padding=1) # COMPLETE HERE\n",
    "        self.conv3b = nn.Conv2d(256, 256, kernel_size=3, padding=1) # COMPLETE HERE\n",
    "        self.pool3  = nn.MaxPool2d(2,2) # COMPLETE HERE\n",
    "        \n",
    "        #block 4:          256 x 4 x 4 --> 512 x 2 x 2\n",
    "        self.conv4a = nn.Conv2d(256, 512, kernel_size=3, padding=1) # COMPLETE HERE\n",
    "        self.pool4  = nn.MaxPool2d(2,2) # COMPLETE HERE\n",
    "\n",
    "        # linear layers:   512 x 2 x 2 --> 2048 --> 4096 --> 4096 --> 10\n",
    "        self.linear1 = nn.Linear(2048, 4096, bias=True) # COMPLETE HERE\n",
    "        self.linear2 = nn.Linear(4096, 4096, bias=True) # COMPLETE HERE\n",
    "        self.linear3 = nn.Linear(4096, 10, bias=True) # COMPLETE HERE\n",
    "\n",
    "\n",
    "    def forward(self, x):\n",
    "\n",
    "        # block 1:         3 x 32 x 32 --> 64 x 16 x 16\n",
    "        x = self.conv1a(x)\n",
    "        x = F.relu(x)\n",
    "        x = self.conv1b(x)\n",
    "        x = F.relu(x)\n",
    "        x = self.pool1(x)\n",
    "\n",
    "        # block 2:         64 x 16 x 16 --> 128 x 8 x 8\n",
    "        x = self.conv2a(x) # COMPLETE HERE\n",
    "        x = F.relu(x) # COMPLETE HERE\n",
    "        x = self.conv2b(x) # COMPLETE HERE\n",
    "        x = F.relu(x) # COMPLETE HERE\n",
    "        x = self.pool2(x) # COMPLETE HERE\n",
    "\n",
    "        # block 3:         128 x 8 x 8 --> 256 x 4 x 4\n",
    "        x = self.conv3a(x) # COMPLETE HERE\n",
    "        x = F.relu(x) # COMPLETE HERE\n",
    "        x = self.conv3b(x) # COMPLETE HERE\n",
    "        x = F.relu(x) # COMPLETE HERE\n",
    "        x = self.pool3(x) # COMPLETE HERE\n",
    "\n",
    "        #block 4:          256 x 4 x 4 --> 512 x 2 x 2\n",
    "        x = self.conv4a(x) # COMPLETE HERE\n",
    "        x = F.relu(x) # COMPLETE HERE\n",
    "        x = self.pool4(x) # COMPLETE HERE\n",
    "\n",
    "        # linear layers:   512 x 2 x 2 --> 2048 --> 4096 --> 4096 --> 10\n",
    "        x = x.view(-1, 2048) # COMPLETE HERE)\n",
    "        x = self.linear1(x) # COMPLETE HERE\n",
    "        x = F.relu(x) # COMPLETE HERE\n",
    "        x = self.linear2(x) # COMPLETE HERE\n",
    "        x = F.relu(x) # COMPLETE HERE\n",
    "        x = self.linear3(x)# COMPLETE HERE \n",
    "        \n",
    "        return x"
   ]
  },
  {
   "cell_type": "markdown",
   "metadata": {},
   "source": [
    "### Build the net. How many parameters in total? (the three layer net had 2 million parameters)"
   ]
  },
  {
   "cell_type": "code",
   "execution_count": 7,
   "metadata": {},
   "outputs": [
    {
     "name": "stdout",
     "output_type": "stream",
     "text": [
      "VGG_convnet(\n",
      "  (conv1a): Conv2d(3, 64, kernel_size=(3, 3), stride=(1, 1), padding=(1, 1))\n",
      "  (conv1b): Conv2d(64, 64, kernel_size=(3, 3), stride=(1, 1), padding=(1, 1))\n",
      "  (pool1): MaxPool2d(kernel_size=2, stride=2, padding=0, dilation=1, ceil_mode=False)\n",
      "  (conv2a): Conv2d(64, 128, kernel_size=(3, 3), stride=(1, 1), padding=(1, 1))\n",
      "  (conv2b): Conv2d(128, 128, kernel_size=(3, 3), stride=(1, 1), padding=(1, 1))\n",
      "  (pool2): MaxPool2d(kernel_size=2, stride=2, padding=0, dilation=1, ceil_mode=False)\n",
      "  (conv3a): Conv2d(128, 256, kernel_size=(3, 3), stride=(1, 1), padding=(1, 1))\n",
      "  (conv3b): Conv2d(256, 256, kernel_size=(3, 3), stride=(1, 1), padding=(1, 1))\n",
      "  (pool3): MaxPool2d(kernel_size=2, stride=2, padding=0, dilation=1, ceil_mode=False)\n",
      "  (conv4a): Conv2d(256, 512, kernel_size=(3, 3), stride=(1, 1), padding=(1, 1))\n",
      "  (pool4): MaxPool2d(kernel_size=2, stride=2, padding=0, dilation=1, ceil_mode=False)\n",
      "  (linear1): Linear(in_features=2048, out_features=4096, bias=True)\n",
      "  (linear2): Linear(in_features=4096, out_features=4096, bias=True)\n",
      "  (linear3): Linear(in_features=4096, out_features=10, bias=True)\n",
      ")\n",
      "There are 27540554 (27.54 million) parameters in this neural network\n"
     ]
    }
   ],
   "source": [
    "net = VGG_convnet() # COMPLETE HERE\n",
    "\n",
    "print(net)\n",
    "utils.display_num_param(net)"
   ]
  },
  {
   "cell_type": "markdown",
   "metadata": {},
   "source": [
    "### Send the weights of the networks to the GPU (as well as the mean and std)"
   ]
  },
  {
   "cell_type": "code",
   "execution_count": 8,
   "metadata": {},
   "outputs": [],
   "source": [
    "net = net.to(device) # COMPLETE HERE\n",
    "\n",
    "mean = mean.to(device)\n",
    "\n",
    "std = std.to(device)"
   ]
  },
  {
   "cell_type": "markdown",
   "metadata": {},
   "source": [
    "### Choose the criterion, batch size, and initial learning rate. Select the following:\n",
    "* batch size =128\n",
    "* initial learning rate =0.25\n"
   ]
  },
  {
   "cell_type": "code",
   "execution_count": 9,
   "metadata": {},
   "outputs": [],
   "source": [
    "criterion = nn.CrossEntropyLoss()\n",
    "my_lr = 0.25 # COMPLETE HERE\n",
    "bs = 128    # COMPLETE HERE"
   ]
  },
  {
   "cell_type": "markdown",
   "metadata": {},
   "source": [
    "### Function to evaluate the network on the test set"
   ]
  },
  {
   "cell_type": "code",
   "execution_count": 10,
   "metadata": {},
   "outputs": [],
   "source": [
    "def eval_on_test_set():\n",
    "\n",
    "    running_error=0\n",
    "    num_batches=0\n",
    "\n",
    "    for i in range(0,10000,bs):\n",
    "\n",
    "        minibatch_data =  test_data[i:i+bs]\n",
    "        minibatch_label= test_label[i:i+bs]\n",
    "\n",
    "        minibatch_data=minibatch_data.to(device)\n",
    "        minibatch_label=minibatch_label.to(device)\n",
    "        \n",
    "        inputs = (minibatch_data - mean)/std\n",
    "\n",
    "        scores=net( inputs ) \n",
    "\n",
    "        error = utils.get_error( scores , minibatch_label)\n",
    "\n",
    "        running_error += error.item()\n",
    "\n",
    "        num_batches+=1\n",
    "\n",
    "    total_error = running_error/num_batches\n",
    "    print( 'error rate on test set =', total_error*100 ,'percent')"
   ]
  },
  {
   "cell_type": "markdown",
   "metadata": {},
   "source": [
    "### Do 20 passes through the training set. Divide the learning rate by 2 at epoch 10, 14 and 18."
   ]
  },
  {
   "cell_type": "code",
   "execution_count": 15,
   "metadata": {
    "scrolled": true
   },
   "outputs": [
    {
     "name": "stdout",
     "output_type": "stream",
     "text": [
      "epoch= 1 \t time= 0.13403819799423217 min \t lr= 0.0625 \t loss= 2.302643435080643 \t error= 89.92846867312556 percent\n",
      "error rate on test set = 86.84731012658227 percent\n",
      " \n",
      "epoch= 2 \t time= 0.275028395652771 min \t lr= 0.03125 \t loss= 2.301266877547554 \t error= 88.50983056570868 percent\n",
      "error rate on test set = 86.85719936708861 percent\n",
      " \n",
      "epoch= 3 \t time= 0.4160515308380127 min \t lr= 0.015625 \t loss= 2.272110069499296 \t error= 84.64074488491049 percent\n",
      "error rate on test set = 79.40071202531645 percent\n",
      " \n",
      "epoch= 4 \t time= 0.5582334597905477 min \t lr= 0.0078125 \t loss= 2.141821437174707 \t error= 77.1775095968905 percent\n",
      "error rate on test set = 73.63528481012658 percent\n",
      " \n",
      "epoch= 5 \t time= 0.700331183274587 min \t lr= 0.00390625 \t loss= 2.0744270583247895 \t error= 74.13243287054779 percent\n",
      "error rate on test set = 71.64754746835443 percent\n",
      " \n",
      "epoch= 6 \t time= 0.8415851275126139 min \t lr= 0.001953125 \t loss= 2.0448056349668966 \t error= 72.6290760747612 percent\n",
      "error rate on test set = 71.42009493670885 percent\n",
      " \n",
      "epoch= 7 \t time= 0.984716784954071 min \t lr= 0.0009765625 \t loss= 2.0259915395161077 \t error= 72.07560741992862 percent\n",
      "error rate on test set = 70.75751582278481 percent\n",
      " \n",
      "epoch= 8 \t time= 1.1262631297111512 min \t lr= 0.00048828125 \t loss= 2.01577944127495 \t error= 71.71355498111461 percent\n",
      "error rate on test set = 70.58939873417721 percent\n",
      " \n",
      "epoch= 9 \t time= 1.2688820322354635 min \t lr= 0.000244140625 \t loss= 2.0100764575821666 \t error= 71.48697251249152 percent\n",
      "error rate on test set = 70.21360759493672 percent\n",
      " \n",
      "epoch= 10 \t time= 1.4123347083727518 min \t lr= 0.0001220703125 \t loss= 2.0073038412786812 \t error= 71.40105499330994 percent\n",
      "error rate on test set = 70.47072784810126 percent\n",
      " \n",
      "epoch= 11 \t time= 1.5607396841049195 min \t lr= 6.103515625e-05 \t loss= 2.0058817698827487 \t error= 71.35749680306905 percent\n",
      "error rate on test set = 70.32238924050634 percent\n",
      " \n",
      "epoch= 12 \t time= 1.7054030617078146 min \t lr= 3.0517578125e-05 \t loss= 2.0052261846449673 \t error= 71.33312021070124 percent\n",
      "error rate on test set = 70.34216772151899 percent\n",
      " \n",
      "epoch= 13 \t time= 1.8474950313568115 min \t lr= 1.52587890625e-05 \t loss= 2.0046751032704893 \t error= 71.3023497320502 percent\n",
      "error rate on test set = 70.36194620253164 percent\n",
      " \n",
      "epoch= 14 \t time= 1.9953125715255737 min \t lr= 7.62939453125e-06 \t loss= 2.0045493905196716 \t error= 71.2691815917754 percent\n",
      "error rate on test set = 70.36194620253164 percent\n",
      " \n",
      "epoch= 15 \t time= 2.1450478434562683 min \t lr= 3.814697265625e-06 \t loss= 2.004462594266438 \t error= 71.2855658567775 percent\n",
      "error rate on test set = 70.34216772151899 percent\n",
      " \n",
      "epoch= 16 \t time= 2.2938012917836508 min \t lr= 1.9073486328125e-06 \t loss= 2.0044342148334473 \t error= 71.27917200098257 percent\n",
      "error rate on test set = 70.35205696202532 percent\n",
      " \n",
      "epoch= 17 \t time= 2.435257550080617 min \t lr= 9.5367431640625e-07 \t loss= 2.0044911023600935 \t error= 71.2923593380872 percent\n",
      "error rate on test set = 70.35205696202532 percent\n",
      " \n",
      "epoch= 18 \t time= 2.583554216225942 min \t lr= 4.76837158203125e-07 \t loss= 2.004466262010052 \t error= 71.29955242966753 percent\n",
      "error rate on test set = 70.34216772151899 percent\n",
      " \n",
      "epoch= 19 \t time= 2.7269794225692747 min \t lr= 2.384185791015625e-07 \t loss= 2.0044187578703743 \t error= 71.28476662099209 percent\n",
      "error rate on test set = 70.34216772151899 percent\n",
      " \n"
     ]
    }
   ],
   "source": [
    "start=time.time()\n",
    "\n",
    "for epoch in range(1,20):\n",
    "    \n",
    "    # divide the learning rate by 2 at epoch 10, 14 and 18\n",
    "    if not epoch%10 or epoch%14 or epoch%18: # COMPLETE HERE\n",
    "        my_lr = my_lr / 2# COMPLETE HERE\n",
    "    \n",
    "    # create a new optimizer at the beginning of each epoch: give the current learning rate.   \n",
    "    optimizer=torch.optim.SGD(net.parameters() , lr=my_lr) # COMPLETE HERE )\n",
    "        \n",
    "    # set the running quatities to zero at the beginning of the epoch\n",
    "    running_loss=0\n",
    "    running_error=0\n",
    "    num_batches=0\n",
    "    \n",
    "    # set the order in which to visit the image from the training set\n",
    "    shuffled_indices=torch.randperm(50000)\n",
    " \n",
    "    for count in range(0,50000,bs):\n",
    "    \n",
    "        # Set the gradients to zeros\n",
    "        optimizer.zero_grad()\n",
    "        \n",
    "        # create a minibatch       \n",
    "        indices=shuffled_indices[count:count+bs]\n",
    "        minibatch_data =  train_data[indices]\n",
    "        minibatch_label=  train_label[indices]\n",
    "        \n",
    "        # send them to the gpu\n",
    "        minibatch_data = minibatch_data.to(device) # COMPLETE HERE\n",
    "        minibatch_label= minibatch_label.to(device) # COMPLETE HERE\n",
    "        \n",
    "        # normalize the minibatch (this is the only difference compared to before!)\n",
    "        inputs = (minibatch_data - mean) / std # COMPLETE HERE\n",
    "        \n",
    "        # tell Pytorch to start tracking all operations that will be done on \"inputs\"\n",
    "        inputs.requires_grad_()\n",
    "\n",
    "        # forward the minibatch through the net \n",
    "        scores = net(inputs) # COMPLETE HERE \n",
    "\n",
    "        # Compute the average of the losses of the data points in the minibatch\n",
    "        loss = criterion(scores, minibatch_label) # COMPLETE HERE \n",
    "        \n",
    "        # backward pass to compute dL/dU, dL/dV and dL/dW   \n",
    "        loss.backward() # COMPLETE HERE\n",
    "\n",
    "        # do one step of stochastic gradient descent: U=U-lr(dL/dU), V=V-lr(dL/dU), ...\n",
    "        optimizer.step()\n",
    "        \n",
    "\n",
    "        # START COMPUTING STATS\n",
    "        \n",
    "        # add the loss of this batch to the running loss\n",
    "        running_loss += loss.detach().item()\n",
    "        \n",
    "        # compute the error made on this batch and add it to the running error       \n",
    "        error = utils.get_error( scores.detach() , minibatch_label)\n",
    "        running_error += error.item()\n",
    "        \n",
    "        num_batches+=1        \n",
    "    \n",
    "    \n",
    "    # compute stats for the full training set\n",
    "    total_loss = running_loss/num_batches\n",
    "    total_error = running_error/num_batches\n",
    "    elapsed = (time.time()-start)/60\n",
    "    \n",
    "\n",
    "    print('epoch=',epoch, '\\t time=', elapsed,'min','\\t lr=', my_lr  ,'\\t loss=', total_loss , '\\t error=', total_error*100 ,'percent')\n",
    "    eval_on_test_set() \n",
    "    print(' ')\n",
    "    \n",
    "           "
   ]
  },
  {
   "cell_type": "markdown",
   "metadata": {},
   "source": [
    "### Choose image at random from the test set and see how good/bad are the predictions"
   ]
  },
  {
   "cell_type": "code",
   "execution_count": 16,
   "metadata": {},
   "outputs": [
    {
     "data": {
      "image/png": "[encoded data removed]",
      "text/plain": [
       "<Figure size 432x288 with 1 Axes>"
      ]
     },
     "metadata": {},
     "output_type": "display_data"
    },
    {
     "data": {
      "image/png": "[encoded data removed]",
      "text/plain": [
       "<Figure size 640x480 with 1 Axes>"
      ]
     },
     "metadata": {},
     "output_type": "display_data"
    }
   ],
   "source": [
    "# choose a picture at random\n",
    "idx=randint(0, 10000-1)\n",
    "im=test_data[idx]\n",
    "\n",
    "# diplay the picture\n",
    "utils.show(im)\n",
    "\n",
    "# send to device, rescale, and view as a batch of 1 \n",
    "im = im.to(device)\n",
    "im= (im-mean) / std\n",
    "im=im.view(1,3,32,32)\n",
    "\n",
    "# feed it to the net and display the confidence scores\n",
    "scores =  net(im) \n",
    "probs= F.softmax(scores, dim=1)\n",
    "utils.show_prob_cifar(probs.cpu())"
   ]
  },
  {
   "cell_type": "code",
   "execution_count": null,
   "metadata": {},
   "outputs": [],
   "source": []
  }
 ],
 "metadata": {
  "kernelspec": {
   "display_name": "dl_CE7454",
   "language": "python",
   "name": "dl_ce7454"
  },
  "language_info": {
   "codemirror_mode": {
    "name": "ipython",
    "version": 3
   },
   "file_extension": ".py",
   "mimetype": "text/x-python",
   "name": "python",
   "nbconvert_exporter": "python",
   "pygments_lexer": "ipython3",
   "version": "3.6.6"
  }
 },
 "nbformat": 4,
 "nbformat_minor": 2
}
