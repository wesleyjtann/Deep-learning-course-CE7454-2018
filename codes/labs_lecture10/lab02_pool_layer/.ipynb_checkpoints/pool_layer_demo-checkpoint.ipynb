{
 "cells": [
  {
   "cell_type": "markdown",
   "metadata": {},
   "source": [
    "# Lab 10.02 : Pooling layer - demo"
   ]
  },
  {
   "cell_type": "code",
   "execution_count": 1,
   "metadata": {},
   "outputs": [],
   "source": [
    "import torch\n",
    "import torch.nn as nn"
   ]
  },
  {
   "cell_type": "markdown",
   "metadata": {},
   "source": [
    "### Make a pooling module\n",
    "* inputs:  activation maps of size n x n\n",
    "* output:  activation maps of size n/p x n/p\n",
    "* p: pooling size"
   ]
  },
  {
   "cell_type": "code",
   "execution_count": 2,
   "metadata": {},
   "outputs": [],
   "source": [
    "mod = nn.MaxPool2d(2,2)"
   ]
  },
  {
   "cell_type": "markdown",
   "metadata": {},
   "source": [
    "### Make an input 2 x 6 x 6  (two channels, each one has 6 x 6 pixels )"
   ]
  },
  {
   "cell_type": "code",
   "execution_count": 3,
   "metadata": {},
   "outputs": [
    {
     "name": "stdout",
     "output_type": "stream",
     "text": [
      "tensor([[[[0.1453, 0.8173, 0.5072, 0.7980, 0.1385, 0.7756],\n",
      "          [0.8227, 0.8967, 0.1462, 0.8861, 0.5008, 0.5338],\n",
      "          [0.5532, 0.2418, 0.9068, 0.0861, 0.3786, 0.3240],\n",
      "          [0.3407, 0.7971, 0.9489, 0.9468, 0.1298, 0.3708],\n",
      "          [0.6123, 0.0472, 0.6754, 0.8283, 0.6773, 0.3411],\n",
      "          [0.0187, 0.3688, 0.3693, 0.4886, 0.4651, 0.4118]],\n",
      "\n",
      "         [[0.6274, 0.1433, 0.7494, 0.4199, 0.5484, 0.5819],\n",
      "          [0.8657, 0.3243, 0.7988, 0.9507, 0.1265, 0.5537],\n",
      "          [0.9615, 0.8344, 0.9383, 0.8348, 0.1812, 0.8689],\n",
      "          [0.6416, 0.2865, 0.4572, 0.6541, 0.7255, 0.1986],\n",
      "          [0.3519, 0.7656, 0.6592, 0.5745, 0.3144, 0.0026],\n",
      "          [0.4523, 0.6093, 0.1994, 0.1042, 0.2319, 0.8419]]]])\n",
      "torch.Size([1, 2, 6, 6])\n"
     ]
    }
   ],
   "source": [
    "bs=1\n",
    "\n",
    "x=torch.rand(bs,2,6,6)\n",
    "\n",
    "\n",
    "print(x)\n",
    "print(x.size())"
   ]
  },
  {
   "cell_type": "markdown",
   "metadata": {},
   "source": [
    "### Feed it to the pooling layer: the output size should be divided by 2 "
   ]
  },
  {
   "cell_type": "code",
   "execution_count": 4,
   "metadata": {},
   "outputs": [
    {
     "name": "stdout",
     "output_type": "stream",
     "text": [
      "tensor([[[[0.8967, 0.8861, 0.7756],\n",
      "          [0.7971, 0.9489, 0.3786],\n",
      "          [0.6123, 0.8283, 0.6773]],\n",
      "\n",
      "         [[0.8657, 0.9507, 0.5819],\n",
      "          [0.9615, 0.9383, 0.8689],\n",
      "          [0.7656, 0.6592, 0.8419]]]])\n",
      "torch.Size([1, 2, 3, 3])\n"
     ]
    }
   ],
   "source": [
    "y=mod(x)\n",
    "\n",
    "print(y)\n",
    "print(y.size())"
   ]
  },
  {
   "cell_type": "code",
   "execution_count": null,
   "metadata": {},
   "outputs": [],
   "source": []
  },
  {
   "cell_type": "code",
   "execution_count": null,
   "metadata": {},
   "outputs": [],
   "source": []
  }
 ],
 "metadata": {
  "kernelspec": {
   "display_name": "Python 3",
   "language": "python",
   "name": "python3"
  },
  "language_info": {
   "codemirror_mode": {
    "name": "ipython",
    "version": 3
   },
   "file_extension": ".py",
   "mimetype": "text/x-python",
   "name": "python",
   "nbconvert_exporter": "python",
   "pygments_lexer": "ipython3",
   "version": "3.6.6"
  }
 },
 "nbformat": 4,
 "nbformat_minor": 2
}
