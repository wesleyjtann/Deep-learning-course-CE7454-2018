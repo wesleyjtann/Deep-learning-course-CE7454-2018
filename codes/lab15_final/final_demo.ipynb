{
 "cells": [
  {
   "cell_type": "markdown",
   "metadata": {},
   "source": [
    "# Lab 15: Final code -- demo"
   ]
  },
  {
   "cell_type": "code",
   "execution_count": 1,
   "metadata": {},
   "outputs": [],
   "source": [
    "import torch\n",
    "import torch.nn as nn\n",
    "import torch.nn.functional as F\n",
    "import torch.optim as optim\n",
    "from random import randint\n",
    "import time\n",
    "import utils"
   ]
  },
  {
   "cell_type": "markdown",
   "metadata": {},
   "source": [
    "### Download the data"
   ]
  },
  {
   "cell_type": "code",
   "execution_count": 2,
   "metadata": {},
   "outputs": [],
   "source": [
    "train_data=torch.load('../data/mnist/train_data.pt')\n",
    "train_label=torch.load('../data/mnist/train_label.pt')\n",
    "test_data=torch.load('../data/mnist/test_data.pt')\n",
    "test_label=torch.load('../data/mnist/test_label.pt')"
   ]
  },
  {
   "cell_type": "markdown",
   "metadata": {},
   "source": [
    "### Make a one layer net class. "
   ]
  },
  {
   "cell_type": "code",
   "execution_count": 3,
   "metadata": {},
   "outputs": [],
   "source": [
    "class one_layer_net(nn.Module):\n",
    "\n",
    "    def __init__(self, input_size, output_size):\n",
    "        super(one_layer_net , self).__init__()\n",
    "        self.linear_layer = nn.Linear( input_size, output_size , bias=False)\n",
    "        \n",
    "    def forward(self, x):\n",
    "        scores = self.linear_layer(x)\n",
    "        return scores"
   ]
  },
  {
   "cell_type": "markdown",
   "metadata": {},
   "source": [
    "### Build the net"
   ]
  },
  {
   "cell_type": "code",
   "execution_count": 4,
   "metadata": {},
   "outputs": [
    {
     "name": "stdout",
     "output_type": "stream",
     "text": [
      "one_layer_net(\n",
      "  (linear_layer): Linear(in_features=784, out_features=10, bias=False)\n",
      ")\n",
      "There are 7840 (0.01 million) parameters in this neural network\n"
     ]
    }
   ],
   "source": [
    "net=one_layer_net(784,10)\n",
    "\n",
    "print(net)\n",
    "utils.display_num_param(net)"
   ]
  },
  {
   "cell_type": "markdown",
   "metadata": {},
   "source": [
    "### Choose the criterion, optimizer, batchsize, learning rate"
   ]
  },
  {
   "cell_type": "code",
   "execution_count": 5,
   "metadata": {},
   "outputs": [],
   "source": [
    "criterion = nn.CrossEntropyLoss()\n",
    "\n",
    "optimizer=torch.optim.SGD( net.parameters() , lr=0.01 )\n",
    "\n",
    "bs=200"
   ]
  },
  {
   "cell_type": "markdown",
   "metadata": {},
   "source": [
    "### Evaluate on test set"
   ]
  },
  {
   "cell_type": "code",
   "execution_count": 6,
   "metadata": {},
   "outputs": [],
   "source": [
    "def eval_on_test_set():\n",
    "\n",
    "    running_error=0\n",
    "    num_batches=0\n",
    "\n",
    "    for i in range(0,10000,bs):\n",
    "\n",
    "        minibatch_data =  test_data[i:i+bs]\n",
    "        minibatch_label= test_label[i:i+bs]\n",
    "\n",
    "        inputs = minibatch_data.view(bs,784)\n",
    "\n",
    "        scores=net( inputs ) \n",
    "\n",
    "        error = utils.get_error( scores , minibatch_label)\n",
    "\n",
    "        running_error += error.item()\n",
    "\n",
    "        num_batches+=1\n",
    "\n",
    "\n",
    "    total_error = running_error/num_batches\n",
    "    print( 'test error  = ', total_error*100 ,'percent')"
   ]
  },
  {
   "cell_type": "markdown",
   "metadata": {},
   "source": [
    "### Training loop"
   ]
  },
  {
   "cell_type": "code",
   "execution_count": 7,
   "metadata": {},
   "outputs": [
    {
     "name": "stdout",
     "output_type": "stream",
     "text": [
      " \n",
      "epoch= 0 \t time= 0.3809468746185303 \t loss= 1.4571514199177424 \t error= 28.119999885559082 percent\n",
      "test error  =  17.5900000333786 percent\n",
      " \n",
      "epoch= 10 \t time= 3.7637059688568115 \t loss= 0.43962617655595143 \t error= 11.538333634535473 percent\n",
      "test error  =  10.739999890327454 percent\n",
      " \n",
      "epoch= 20 \t time= 7.424351930618286 \t loss= 0.3823430960377057 \t error= 10.411666889985401 percent\n",
      "test error  =  9.72000002861023 percent\n",
      " \n",
      "epoch= 30 \t time= 10.84817099571228 \t loss= 0.35720027327537535 \t error= 9.846666673819223 percent\n",
      "test error  =  9.31000018119812 percent\n",
      " \n",
      "epoch= 40 \t time= 14.281636953353882 \t loss= 0.3421800045669079 \t error= 9.454999804496765 percent\n",
      "test error  =  8.999999761581421 percent\n",
      " \n",
      "epoch= 50 \t time= 17.735618829727173 \t loss= 0.3319054275751114 \t error= 9.183333436648052 percent\n",
      "test error  =  8.71999979019165 percent\n",
      " \n",
      "epoch= 60 \t time= 21.26997399330139 \t loss= 0.3242997075617313 \t error= 8.994999945163727 percent\n",
      "test error  =  8.649999856948853 percent\n",
      " \n",
      "epoch= 70 \t time= 24.838530778884888 \t loss= 0.3183387773732344 \t error= 8.823333323001862 percent\n",
      "test error  =  8.519999742507935 percent\n",
      " \n",
      "epoch= 80 \t time= 28.543743133544922 \t loss= 0.31351637388269105 \t error= 8.663333276907604 percent\n",
      "test error  =  8.399999976158142 percent\n",
      " \n",
      "epoch= 90 \t time= 32.21918606758118 \t loss= 0.3095395297308763 \t error= 8.590000092983246 percent\n",
      "test error  =  8.179999589920044 percent\n",
      " \n",
      "epoch= 100 \t time= 35.83531093597412 \t loss= 0.3061168913543224 \t error= 8.468333065509796 percent\n",
      "test error  =  8.229999661445618 percent\n",
      " \n",
      "epoch= 110 \t time= 39.3112268447876 \t loss= 0.3031913794577122 \t error= 8.411666492621105 percent\n",
      "test error  =  8.129999876022339 percent\n",
      " \n",
      "epoch= 120 \t time= 42.84476089477539 \t loss= 0.3005984692275524 \t error= 8.35666654507319 percent\n",
      "test error  =  8.099999904632568 percent\n",
      " \n",
      "epoch= 130 \t time= 46.39928698539734 \t loss= 0.29829649557669957 \t error= 8.274999777475992 percent\n",
      "test error  =  8.119999885559082 percent\n",
      " \n",
      "epoch= 140 \t time= 49.886728048324585 \t loss= 0.2962391685942809 \t error= 8.229999800523121 percent\n",
      "test error  =  8.109999775886536 percent\n",
      " \n",
      "epoch= 150 \t time= 53.379271030426025 \t loss= 0.2943832049767176 \t error= 8.166666547457377 percent\n",
      "test error  =  8.090000033378601 percent\n",
      " \n",
      "epoch= 160 \t time= 56.883896827697754 \t loss= 0.29268361200888954 \t error= 8.129999995231628 percent\n",
      "test error  =  8.129999995231628 percent\n",
      " \n",
      "epoch= 170 \t time= 60.33203315734863 \t loss= 0.2911260758837064 \t error= 8.069999794165293 percent\n",
      "test error  =  8.049999952316284 percent\n",
      " \n",
      "epoch= 180 \t time= 63.779508113861084 \t loss= 0.2896970515449842 \t error= 8.029999891916912 percent\n",
      "test error  =  7.96999979019165 percent\n",
      " \n",
      "epoch= 190 \t time= 67.23937273025513 \t loss= 0.2883524267375469 \t error= 7.993333220481873 percent\n",
      "test error  =  7.979999780654907 percent\n"
     ]
    }
   ],
   "source": [
    "start = time.time()\n",
    "\n",
    "for epoch in range(200):\n",
    "    \n",
    "    running_loss=0\n",
    "    running_error=0\n",
    "    num_batches=0\n",
    "    \n",
    "    shuffled_indices=torch.randperm(60000)\n",
    " \n",
    "    for count in range(0,60000,bs):\n",
    "        \n",
    "        # forward and backward pass\n",
    "    \n",
    "        optimizer.zero_grad()\n",
    "        \n",
    "        indices=shuffled_indices[count:count+bs]\n",
    "        minibatch_data =  train_data[indices]\n",
    "        minibatch_label= train_label[indices]\n",
    "\n",
    "        inputs = minibatch_data.view(bs,784)\n",
    "\n",
    "        inputs.requires_grad_()\n",
    "\n",
    "        scores=net( inputs ) \n",
    "\n",
    "        loss =  criterion( scores , minibatch_label) \n",
    "        \n",
    "        loss.backward()\n",
    "\n",
    "        optimizer.step()\n",
    "        \n",
    "        \n",
    "        # compute some stats\n",
    "        \n",
    "        running_loss += loss.detach().item()\n",
    "               \n",
    "        error = utils.get_error( scores.detach() , minibatch_label)\n",
    "        running_error += error.item()\n",
    "        \n",
    "        num_batches+=1\n",
    "    \n",
    "    \n",
    "    # once the epoch is finished we divide the \"running quantities\"\n",
    "    # by the number of batches\n",
    "    \n",
    "    total_loss = running_loss/num_batches\n",
    "    total_error = running_error/num_batches\n",
    "    elapsed_time = time.time() - start\n",
    "    \n",
    "    # every 10 epoch we display the stats \n",
    "    # and compute the error rate on the test set  \n",
    "    \n",
    "    if epoch % 10 == 0 : \n",
    "    \n",
    "        print(' ')\n",
    "        \n",
    "        print('epoch=',epoch, '\\t time=', elapsed_time,\n",
    "              '\\t loss=', total_loss , '\\t error=', total_error*100 ,'percent')\n",
    "        \n",
    "        eval_on_test_set()\n",
    "               "
   ]
  },
  {
   "cell_type": "markdown",
   "metadata": {},
   "source": [
    "### Choose image at random from the test set and see how good/bad are the predictions"
   ]
  },
  {
   "cell_type": "code",
   "execution_count": 8,
   "metadata": {},
   "outputs": [
    {
     "data": {
      "image/png": "[encoded data removed]",
      "text/plain": [
       "<Figure size 432x288 with 1 Axes>"
      ]
     },
     "metadata": {},
     "output_type": "display_data"
    },
    {
     "data": {
      "image/png": "[encoded data removed]",
      "text/plain": [
       "<Figure size 640x480 with 1 Axes>"
      ]
     },
     "metadata": {},
     "output_type": "display_data"
    }
   ],
   "source": [
    "# choose a picture at random\n",
    "idx=randint(0, 10000-1)\n",
    "im=test_data[idx]\n",
    "\n",
    "# diplay the picture\n",
    "utils.show(im)\n",
    "\n",
    "# feed it to the net and display the confidence scores\n",
    "scores =  net( im.view(1,784)) \n",
    "probs= F.softmax(scores, dim=1)\n",
    "utils.show_prob_mnist(probs)"
   ]
  },
  {
   "cell_type": "code",
   "execution_count": null,
   "metadata": {},
   "outputs": [],
   "source": []
  }
 ],
 "metadata": {
  "kernelspec": {
   "display_name": "Python 3",
   "language": "python",
   "name": "python3"
  },
  "language_info": {
   "codemirror_mode": {
    "name": "ipython",
    "version": 3
   },
   "file_extension": ".py",
   "mimetype": "text/x-python",
   "name": "python",
   "nbconvert_exporter": "python",
   "pygments_lexer": "ipython3",
   "version": "3.6.6"
  }
 },
 "nbformat": 4,
 "nbformat_minor": 2
}
