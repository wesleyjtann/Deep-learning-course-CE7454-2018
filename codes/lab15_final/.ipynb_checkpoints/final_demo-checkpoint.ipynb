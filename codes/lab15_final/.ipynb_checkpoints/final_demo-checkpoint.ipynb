{
 "cells": [
  {
   "cell_type": "markdown",
   "metadata": {},
   "source": [
    "# Lab 15: Final code -- demo"
   ]
  },
  {
   "cell_type": "code",
   "execution_count": 1,
   "metadata": {},
   "outputs": [],
   "source": [
    "import torch\n",
    "import torch.nn as nn\n",
    "import torch.nn.functional as F\n",
    "import torch.optim as optim\n",
    "from random import randint\n",
    "import time\n",
    "import utils"
   ]
  },
  {
   "cell_type": "markdown",
   "metadata": {},
   "source": [
    "### Download the data"
   ]
  },
  {
   "cell_type": "code",
   "execution_count": 2,
   "metadata": {},
   "outputs": [],
   "source": [
    "train_data=torch.load('../data/mnist/train_data.pt')\n",
    "train_label=torch.load('../data/mnist/train_label.pt')\n",
    "test_data=torch.load('../data/mnist/test_data.pt')\n",
    "test_label=torch.load('../data/mnist/test_label.pt')"
   ]
  },
  {
   "cell_type": "markdown",
   "metadata": {},
   "source": [
    "### Make a one layer net class. "
   ]
  },
  {
   "cell_type": "code",
   "execution_count": 3,
   "metadata": {},
   "outputs": [],
   "source": [
    "class one_layer_net(nn.Module):\n",
    "\n",
    "    def __init__(self, input_size, output_size):\n",
    "        super(one_layer_net , self).__init__()\n",
    "        self.linear_layer = nn.Linear( input_size, output_size , bias=False)\n",
    "        \n",
    "    def forward(self, x):\n",
    "        scores = self.linear_layer(x)\n",
    "        return scores"
   ]
  },
  {
   "cell_type": "markdown",
   "metadata": {},
   "source": [
    "### Build the net"
   ]
  },
  {
   "cell_type": "code",
   "execution_count": 4,
   "metadata": {},
   "outputs": [
    {
     "name": "stdout",
     "output_type": "stream",
     "text": [
      "one_layer_net(\n",
      "  (linear_layer): Linear(in_features=784, out_features=10, bias=False)\n",
      ")\n",
      "There are 7840 (0.01 million) parameters in this neural network\n"
     ]
    }
   ],
   "source": [
    "net=one_layer_net(784,10)\n",
    "\n",
    "print(net)\n",
    "utils.display_num_param(net)"
   ]
  },
  {
   "cell_type": "markdown",
   "metadata": {},
   "source": [
    "### Choose the criterion, optimizer, batchsize, learning rate"
   ]
  },
  {
   "cell_type": "code",
   "execution_count": 5,
   "metadata": {},
   "outputs": [],
   "source": [
    "criterion = nn.CrossEntropyLoss()\n",
    "\n",
    "optimizer=torch.optim.SGD( net.parameters() , lr=0.01 )\n",
    "\n",
    "bs=200"
   ]
  },
  {
   "cell_type": "markdown",
   "metadata": {},
   "source": [
    "### Evaluate on test set"
   ]
  },
  {
   "cell_type": "code",
   "execution_count": 6,
   "metadata": {},
   "outputs": [],
   "source": [
    "def eval_on_test_set():\n",
    "\n",
    "    running_error=0\n",
    "    num_batches=0\n",
    "\n",
    "    for i in range(0,10000,bs):\n",
    "\n",
    "        minibatch_data =  test_data[i:i+bs]\n",
    "        minibatch_label= test_label[i:i+bs]\n",
    "\n",
    "        inputs = minibatch_data.view(bs,784)\n",
    "\n",
    "        scores=net( inputs ) \n",
    "\n",
    "        error = utils.get_error( scores , minibatch_label)\n",
    "\n",
    "        running_error += error.item()\n",
    "\n",
    "        num_batches+=1\n",
    "\n",
    "\n",
    "    total_error = running_error/num_batches\n",
    "    print( 'test error  = ', total_error*100 ,'percent')"
   ]
  },
  {
   "cell_type": "markdown",
   "metadata": {},
   "source": [
    "### Training loop"
   ]
  },
  {
   "cell_type": "code",
   "execution_count": 7,
   "metadata": {},
   "outputs": [
    {
     "name": "stdout",
     "output_type": "stream",
     "text": [
      " \n",
      "epoch= 0 \t time= 0.7970294952392578 \t loss= 1.4482087415456772 \t error= 28.521666606267292 percent\n",
      "test error  =  17.690000295639038 percent\n",
      " \n",
      "epoch= 10 \t time= 17.0895357131958 \t loss= 0.4396816305319468 \t error= 11.501666645208996 percent\n",
      "test error  =  10.65999984741211 percent\n",
      " \n",
      "epoch= 20 \t time= 25.66741943359375 \t loss= 0.38225814551115034 \t error= 10.360000431537628 percent\n",
      "test error  =  9.68000042438507 percent\n",
      " \n",
      "epoch= 30 \t time= 47.375444650650024 \t loss= 0.3570861627161503 \t error= 9.791666805744171 percent\n",
      "test error  =  9.269999980926514 percent\n",
      " \n",
      "epoch= 40 \t time= 63.585453748703 \t loss= 0.3420949919025103 \t error= 9.456666847070059 percent\n",
      "test error  =  9.039999842643738 percent\n",
      " \n",
      "epoch= 50 \t time= 74.89592266082764 \t loss= 0.33180489256978035 \t error= 9.196666717529297 percent\n",
      "test error  =  8.820000052452087 percent\n",
      " \n",
      "epoch= 60 \t time= 90.37469100952148 \t loss= 0.3242057022452354 \t error= 9.000000019868216 percent\n",
      "test error  =  8.619999647140503 percent\n",
      " \n",
      "epoch= 70 \t time= 100.9855375289917 \t loss= 0.31825483972827595 \t error= 8.871666709582012 percent\n",
      "test error  =  8.449999570846558 percent\n",
      " \n",
      "epoch= 80 \t time= 108.92558073997498 \t loss= 0.31346438358227413 \t error= 8.739999969800314 percent\n",
      "test error  =  8.37999963760376 percent\n",
      " \n",
      "epoch= 90 \t time= 117.8071014881134 \t loss= 0.3094400477906068 \t error= 8.613333205382029 percent\n",
      "test error  =  8.239999771118164 percent\n",
      " \n",
      "epoch= 100 \t time= 144.0443844795227 \t loss= 0.3060473282635212 \t error= 8.508333245913189 percent\n",
      "test error  =  8.209999680519104 percent\n",
      " \n",
      "epoch= 110 \t time= 164.46045470237732 \t loss= 0.3030872405072053 \t error= 8.421666602293651 percent\n",
      "test error  =  8.179999828338623 percent\n",
      " \n",
      "epoch= 120 \t time= 189.84766340255737 \t loss= 0.30051627988616625 \t error= 8.34833308060964 percent\n",
      "test error  =  8.139999866485596 percent\n",
      " \n",
      "epoch= 130 \t time= 202.49443316459656 \t loss= 0.2982298679153125 \t error= 8.306666553020477 percent\n",
      "test error  =  8.15999972820282 percent\n",
      " \n",
      "epoch= 140 \t time= 212.46384286880493 \t loss= 0.2961500901480516 \t error= 8.23333324988683 percent\n",
      "test error  =  8.099999904632568 percent\n",
      " \n",
      "epoch= 150 \t time= 221.74045372009277 \t loss= 0.29432357599337894 \t error= 8.199999690055847 percent\n",
      "test error  =  8.139999866485596 percent\n",
      " \n",
      "epoch= 160 \t time= 228.30081009864807 \t loss= 0.29262909437219303 \t error= 8.129999975363415 percent\n",
      "test error  =  8.090000033378601 percent\n",
      " \n",
      "epoch= 170 \t time= 247.82059955596924 \t loss= 0.29106787100434306 \t error= 8.093333005905151 percent\n",
      "test error  =  8.050000071525574 percent\n",
      " \n",
      "epoch= 180 \t time= 261.85339546203613 \t loss= 0.2896392967800299 \t error= 8.06666648387909 percent\n",
      "test error  =  7.9999998807907104 percent\n",
      " \n",
      "epoch= 190 \t time= 283.67722272872925 \t loss= 0.2883002368112405 \t error= 8.019999742507935 percent\n",
      "test error  =  8.009999871253967 percent\n"
     ]
    }
   ],
   "source": [
    "start = time.time()\n",
    "\n",
    "for epoch in range(200):\n",
    "    \n",
    "    running_loss=0\n",
    "    running_error=0\n",
    "    num_batches=0\n",
    "    \n",
    "    shuffled_indices=torch.randperm(60000)\n",
    " \n",
    "    for count in range(0,60000,bs):\n",
    "        \n",
    "        # forward and backward pass\n",
    "    \n",
    "        optimizer.zero_grad()\n",
    "        \n",
    "        indices=shuffled_indices[count:count+bs]\n",
    "        minibatch_data =  train_data[indices]\n",
    "        minibatch_label= train_label[indices]\n",
    "\n",
    "        inputs = minibatch_data.view(bs,784)\n",
    "\n",
    "        inputs.requires_grad_()\n",
    "\n",
    "        scores=net( inputs ) \n",
    "\n",
    "        loss =  criterion( scores , minibatch_label) \n",
    "        \n",
    "        loss.backward()\n",
    "\n",
    "        optimizer.step()\n",
    "        \n",
    "        \n",
    "        # compute some stats\n",
    "        \n",
    "        running_loss += loss.detach().item()\n",
    "               \n",
    "        error = utils.get_error( scores.detach() , minibatch_label)\n",
    "        running_error += error.item()\n",
    "        \n",
    "        num_batches+=1\n",
    "    \n",
    "    \n",
    "    # once the epoch is finished we divide the \"running quantities\"\n",
    "    # by the number of batches\n",
    "    \n",
    "    total_loss = running_loss/num_batches\n",
    "    total_error = running_error/num_batches\n",
    "    elapsed_time = time.time() - start\n",
    "    \n",
    "    # every 10 epoch we display the stats \n",
    "    # and compute the error rate on the test set  \n",
    "    \n",
    "    if epoch % 10 == 0 : \n",
    "    \n",
    "        print(' ')\n",
    "        \n",
    "        print('epoch=',epoch, '\\t time=', elapsed_time,\n",
    "              '\\t loss=', total_loss , '\\t error=', total_error*100 ,'percent')\n",
    "        \n",
    "        eval_on_test_set()\n",
    "               "
   ]
  },
  {
   "cell_type": "markdown",
   "metadata": {},
   "source": [
    "### Choose image at random from the test set and see how good/bad are the predictions"
   ]
  },
  {
   "cell_type": "code",
   "execution_count": 8,
   "metadata": {},
   "outputs": [
    {
     "data": {
      "image/png": "[encoded data removed]",
      "text/plain": [
       "<Figure size 432x288 with 1 Axes>"
      ]
     },
     "metadata": {},
     "output_type": "display_data"
    },
    {
     "data": {
      "image/png": "[encoded data removed]",
      "text/plain": [
       "<Figure size 640x480 with 1 Axes>"
      ]
     },
     "metadata": {},
     "output_type": "display_data"
    }
   ],
   "source": [
    "# choose a picture at random\n",
    "idx=randint(0, 10000-1)\n",
    "im=test_data[idx]\n",
    "\n",
    "# diplay the picture\n",
    "utils.show(im)\n",
    "\n",
    "# feed it to the net and display the confidence scores\n",
    "scores =  net( im.view(1,784)) \n",
    "probs= F.softmax(scores, dim=1)\n",
    "utils.show_prob_mnist(probs)"
   ]
  },
  {
   "cell_type": "code",
   "execution_count": null,
   "metadata": {},
   "outputs": [],
   "source": []
  }
 ],
 "metadata": {
  "kernelspec": {
   "display_name": "dl_CE7454",
   "language": "python",
   "name": "dl_ce7454"
  },
  "language_info": {
   "codemirror_mode": {
    "name": "ipython",
    "version": 3
   },
   "file_extension": ".py",
   "mimetype": "text/x-python",
   "name": "python",
   "nbconvert_exporter": "python",
   "pygments_lexer": "ipython3",
   "version": "3.6.6"
  }
 },
 "nbformat": 4,
 "nbformat_minor": 2
}
