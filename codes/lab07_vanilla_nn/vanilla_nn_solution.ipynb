{
 "cells": [
  {
   "cell_type": "markdown",
   "metadata": {},
   "source": [
    "# Lab 07: Vanilla neural networks -- solution\n",
    "\n",
    "# Creating a one-layer network"
   ]
  },
  {
   "cell_type": "code",
   "execution_count": 1,
   "metadata": {},
   "outputs": [],
   "source": [
    "import torch\n",
    "import torch.nn as nn\n",
    "import torch.nn.functional as F"
   ]
  },
  {
   "cell_type": "markdown",
   "metadata": {},
   "source": [
    "### Make a class for a one layer network. Let's call the layer \"mylayer\". And let's give it a bias."
   ]
  },
  {
   "cell_type": "code",
   "execution_count": 2,
   "metadata": {},
   "outputs": [],
   "source": [
    "class one_layer_net(nn.Module):\n",
    "\n",
    "    def __init__(self,  input_size, output_size  ):\n",
    "        super(one_layer_net , self).__init__()\n",
    "        \n",
    "        self.mylayer=nn.Linear(input_size,output_size, bias=True)\n",
    "        \n",
    "        \n",
    "    def forward(self, x):\n",
    "        \n",
    "        x = self.mylayer(x)\n",
    "        p = F.softmax(x,dim=0)\n",
    "        \n",
    "        return p"
   ]
  },
  {
   "cell_type": "markdown",
   "metadata": {},
   "source": [
    "### Create an instance of a one layer net that take input of size 2 and return output of size 2"
   ]
  },
  {
   "cell_type": "code",
   "execution_count": 3,
   "metadata": {},
   "outputs": [
    {
     "name": "stdout",
     "output_type": "stream",
     "text": [
      "one_layer_net(\n",
      "  (mylayer): Linear(in_features=2, out_features=2, bias=True)\n",
      ")\n"
     ]
    }
   ],
   "source": [
    "net= one_layer_net(2,2)\n",
    "print(net)"
   ]
  },
  {
   "cell_type": "markdown",
   "metadata": {},
   "source": [
    "### Make a vector $x=\\begin{bmatrix}1\\\\1 \\end{bmatrix}$ and feed it to the network. What is the output probability?"
   ]
  },
  {
   "cell_type": "code",
   "execution_count": 4,
   "metadata": {},
   "outputs": [
    {
     "name": "stdout",
     "output_type": "stream",
     "text": [
      "tensor([1., 1.])\n",
      "tensor([0.5447, 0.4553], grad_fn=<SoftmaxBackward>)\n",
      "tensor(1., grad_fn=<SumBackward0>)\n"
     ]
    }
   ],
   "source": [
    "x= torch.Tensor([1,1])\n",
    "print(x)\n",
    "p =  net(x)\n",
    "print(p)\n",
    "print(p.sum() )"
   ]
  },
  {
   "cell_type": "markdown",
   "metadata": {},
   "source": [
    "### Print the weights as well as the bias of the unique layer of this network. Be careful to use the correct name for this unique layer "
   ]
  },
  {
   "cell_type": "code",
   "execution_count": 5,
   "metadata": {},
   "outputs": [
    {
     "name": "stdout",
     "output_type": "stream",
     "text": [
      "Parameter containing:\n",
      "tensor([[-0.3148,  0.5843],\n",
      "        [ 0.3549, -0.1694]], requires_grad=True)\n",
      "Parameter containing:\n",
      "tensor([0.3936, 0.2985], requires_grad=True)\n"
     ]
    }
   ],
   "source": [
    "print(net.mylayer.weight)\n",
    "print(net.mylayer.bias)"
   ]
  },
  {
   "cell_type": "markdown",
   "metadata": {},
   "source": [
    "### Change the internal parameters of your network so that the weights are now equal to $\n",
    "W=\\begin{bmatrix}\n",
    "1&2 \\\\ 3&4 \n",
    "\\end{bmatrix}\n",
    "$ and the bias is equal to  $\n",
    "b=\\begin{bmatrix}\n",
    "1 \\\\ 1 \n",
    "\\end{bmatrix}\n",
    "$ "
   ]
  },
  {
   "cell_type": "code",
   "execution_count": 6,
   "metadata": {},
   "outputs": [
    {
     "name": "stdout",
     "output_type": "stream",
     "text": [
      "Parameter containing:\n",
      "tensor([[1., 2.],\n",
      "        [3., 4.]], grad_fn=<CopySlices>)\n",
      "Parameter containing:\n",
      "tensor([1., 1.], grad_fn=<CopySlices>)\n"
     ]
    }
   ],
   "source": [
    "net.mylayer.weight[0,0]=1\n",
    "net.mylayer.weight[0,1]=2\n",
    "net.mylayer.weight[1,0]=3\n",
    "net.mylayer.weight[1,1]=4\n",
    "\n",
    "net.mylayer.bias[0]=1\n",
    "net.mylayer.bias[1]=1\n",
    "\n",
    "print(net.mylayer.weight)\n",
    "print(net.mylayer.bias)"
   ]
  },
  {
   "cell_type": "markdown",
   "metadata": {},
   "source": [
    "### Feed the vector x to your network with updated parameters. What is the output? (you should get p= [2% 98%])"
   ]
  },
  {
   "cell_type": "code",
   "execution_count": 7,
   "metadata": {},
   "outputs": [
    {
     "name": "stdout",
     "output_type": "stream",
     "text": [
      "tensor([0.0180, 0.9820], grad_fn=<SoftmaxBackward>)\n"
     ]
    }
   ],
   "source": [
    "p=net(x)\n",
    "print(p)"
   ]
  },
  {
   "cell_type": "code",
   "execution_count": null,
   "metadata": {},
   "outputs": [],
   "source": []
  },
  {
   "cell_type": "code",
   "execution_count": null,
   "metadata": {},
   "outputs": [],
   "source": []
  }
 ],
 "metadata": {
  "kernelspec": {
   "display_name": "Python 3",
   "language": "python",
   "name": "python3"
  },
  "language_info": {
   "codemirror_mode": {
    "name": "ipython",
    "version": 3
   },
   "file_extension": ".py",
   "mimetype": "text/x-python",
   "name": "python",
   "nbconvert_exporter": "python",
   "pygments_lexer": "ipython3",
   "version": "3.6.6"
  }
 },
 "nbformat": 4,
 "nbformat_minor": 2
}
