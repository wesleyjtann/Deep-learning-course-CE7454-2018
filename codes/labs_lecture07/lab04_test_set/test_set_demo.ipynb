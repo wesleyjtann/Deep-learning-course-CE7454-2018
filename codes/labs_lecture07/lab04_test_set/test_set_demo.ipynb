{
 "cells": [
  {
   "cell_type": "markdown",
   "metadata": {},
   "source": [
    "# Lab 14: Test set evaluation -- demo"
   ]
  },
  {
   "cell_type": "code",
   "execution_count": 1,
   "metadata": {},
   "outputs": [],
   "source": [
    "import torch\n",
    "import torch.nn as nn\n",
    "import torch.nn.functional as F\n",
    "import torch.optim as optim\n",
    "from random import randint\n",
    "import utils"
   ]
  },
  {
   "cell_type": "markdown",
   "metadata": {},
   "source": [
    "### Download the data and print the sizes"
   ]
  },
  {
   "cell_type": "code",
   "execution_count": 2,
   "metadata": {},
   "outputs": [],
   "source": [
    "train_data=torch.load('../data/mnist/train_data.pt')\n",
    "train_label=torch.load('../data/mnist/train_label.pt')\n",
    "test_data=torch.load('../data/mnist/test_data.pt')\n",
    "test_label=torch.load('../data/mnist/test_label.pt')"
   ]
  },
  {
   "cell_type": "markdown",
   "metadata": {},
   "source": [
    "### Make a ONE layer net class. "
   ]
  },
  {
   "cell_type": "code",
   "execution_count": 3,
   "metadata": {},
   "outputs": [],
   "source": [
    "class one_layer_net(nn.Module):\n",
    "\n",
    "    def __init__(self, input_size, output_size):\n",
    "        super(one_layer_net , self).__init__()\n",
    "        self.linear_layer = nn.Linear( input_size, output_size , bias=False)\n",
    "        \n",
    "    def forward(self, x):\n",
    "        scores = self.linear_layer(x)\n",
    "        return scores"
   ]
  },
  {
   "cell_type": "markdown",
   "metadata": {},
   "source": [
    "### Build the net"
   ]
  },
  {
   "cell_type": "code",
   "execution_count": 4,
   "metadata": {},
   "outputs": [
    {
     "name": "stdout",
     "output_type": "stream",
     "text": [
      "one_layer_net(\n",
      "  (linear_layer): Linear(in_features=784, out_features=10, bias=False)\n",
      ")\n"
     ]
    }
   ],
   "source": [
    "net=one_layer_net(784,10)\n",
    "print(net)"
   ]
  },
  {
   "cell_type": "markdown",
   "metadata": {},
   "source": [
    "### Choose the criterion, optimizer, batchsize, learning rate"
   ]
  },
  {
   "cell_type": "code",
   "execution_count": 5,
   "metadata": {},
   "outputs": [],
   "source": [
    "criterion = nn.CrossEntropyLoss()\n",
    "\n",
    "optimizer=torch.optim.SGD( net.parameters() , lr=0.01 )\n",
    "\n",
    "bs=200"
   ]
  },
  {
   "cell_type": "markdown",
   "metadata": {},
   "source": [
    "### Do 30 passes through the training set"
   ]
  },
  {
   "cell_type": "code",
   "execution_count": 6,
   "metadata": {},
   "outputs": [
    {
     "name": "stdout",
     "output_type": "stream",
     "text": [
      "epoch= 0 \t loss= 1.4684505041440328 \t error= 30.008333424727123 percent\n",
      "epoch= 1 \t loss= 0.8564613926410675 \t error= 16.839999973773956 percent\n",
      "epoch= 2 \t loss= 0.6868373988072077 \t error= 14.933333218097685 percent\n",
      "epoch= 3 \t loss= 0.605110855102539 \t error= 13.984999656677246 percent\n",
      "epoch= 4 \t loss= 0.5555406566460928 \t error= 13.373333096504211 percent\n",
      "epoch= 5 \t loss= 0.5218008504311243 \t error= 12.863333423932394 percent\n",
      "epoch= 6 \t loss= 0.49696191052595773 \t error= 12.485000014305115 percent\n",
      "epoch= 7 \t loss= 0.4778312099973361 \t error= 12.136666735013325 percent\n",
      "epoch= 8 \t loss= 0.4624840295314789 \t error= 11.886666735013327 percent\n",
      "epoch= 9 \t loss= 0.4498103124896685 \t error= 11.656666855017345 percent\n",
      "epoch= 10 \t loss= 0.4391136873761813 \t error= 11.566666980584463 percent\n",
      "epoch= 11 \t loss= 0.42996521989504494 \t error= 11.388333658377329 percent\n",
      "epoch= 12 \t loss= 0.4219842804471652 \t error= 11.235000193119049 percent\n",
      "epoch= 13 \t loss= 0.41503328015406926 \t error= 11.100000341733297 percent\n",
      "epoch= 14 \t loss= 0.40877720693747205 \t error= 10.94833360115687 percent\n",
      "epoch= 15 \t loss= 0.4032208156585693 \t error= 10.801666855812073 percent\n",
      "epoch= 16 \t loss= 0.39817363063494365 \t error= 10.710000256697336 percent\n",
      "epoch= 17 \t loss= 0.39360576182603835 \t error= 10.621666848659515 percent\n",
      "epoch= 18 \t loss= 0.38941252648830416 \t error= 10.533333559830984 percent\n",
      "epoch= 19 \t loss= 0.38555791984001797 \t error= 10.453333636124928 percent\n",
      "epoch= 20 \t loss= 0.38201582511266075 \t error= 10.346666971842449 percent\n",
      "epoch= 21 \t loss= 0.3787171320617199 \t error= 10.27833354473114 percent\n",
      "epoch= 22 \t loss= 0.37563293904066086 \t error= 10.210000375906626 percent\n",
      "epoch= 23 \t loss= 0.3727933439115683 \t error= 10.161666870117188 percent\n",
      "epoch= 24 \t loss= 0.3701192660133044 \t error= 10.11166669925054 percent\n",
      "epoch= 25 \t loss= 0.36760630453626314 \t error= 10.028333445390066 percent\n",
      "epoch= 26 \t loss= 0.36521513839562736 \t error= 9.971666971842447 percent\n",
      "epoch= 27 \t loss= 0.36297007381916047 \t error= 9.93500018119812 percent\n",
      "epoch= 28 \t loss= 0.36087442845106127 \t error= 9.865000228087109 percent\n",
      "epoch= 29 \t loss= 0.358873764226834 \t error= 9.84166693687439 percent\n"
     ]
    }
   ],
   "source": [
    "for epoch in range(30):\n",
    "    \n",
    "    running_loss=0\n",
    "    running_error=0\n",
    "    num_batches=0\n",
    "    \n",
    "    shuffled_indices=torch.randperm(60000)\n",
    " \n",
    "    for count in range(0,60000,bs):\n",
    "    \n",
    "        optimizer.zero_grad()\n",
    "        \n",
    "        indices=shuffled_indices[count:count+bs]\n",
    "        minibatch_data =  train_data[indices]\n",
    "        minibatch_label= train_label[indices]\n",
    "\n",
    "        inputs = minibatch_data.view(bs,784)\n",
    "\n",
    "        inputs.requires_grad_()\n",
    "\n",
    "        scores=net( inputs ) \n",
    "\n",
    "        loss =  criterion( scores , minibatch_label) \n",
    "        \n",
    "        loss.backward()\n",
    "\n",
    "        optimizer.step()\n",
    "        \n",
    "        \n",
    "        # compute and accumulate stats\n",
    "        \n",
    "        running_loss += loss.detach().item()\n",
    "               \n",
    "        error = utils.get_error( scores.detach() , minibatch_label)\n",
    "        running_error += error.item()\n",
    "        \n",
    "        num_batches+=1\n",
    "    \n",
    "    \n",
    "    # compute stats for the full training set\n",
    "    total_loss = running_loss/num_batches\n",
    "    total_error = running_error/num_batches\n",
    "    \n",
    "    print('epoch=',epoch, '\\t loss=', total_loss , '\\t error=', total_error*100 ,'percent')\n",
    "        \n",
    "    \n",
    "        \n",
    "        "
   ]
  },
  {
   "cell_type": "markdown",
   "metadata": {},
   "source": [
    "### Now that the network is trained and do 10% of error on the training set, we are going to see how well it is doing on the test set..."
   ]
  },
  {
   "cell_type": "code",
   "execution_count": 7,
   "metadata": {},
   "outputs": [
    {
     "name": "stdout",
     "output_type": "stream",
     "text": [
      "error rate on test set = 9.3100004196167 percent\n"
     ]
    }
   ],
   "source": [
    "running_error=0\n",
    "num_batches=0\n",
    "\n",
    "\n",
    "for i in range(0,10000,bs):\n",
    "\n",
    "    # extract the minibatch\n",
    "    minibatch_data =  test_data[i:i+bs]\n",
    "    minibatch_label= test_label[i:i+bs]\n",
    "\n",
    "    # reshape the minibatch\n",
    "    inputs = minibatch_data.view(bs,784)\n",
    "\n",
    "    # feed it to the network\n",
    "    scores=net( inputs ) \n",
    "\n",
    "    # compute the error made on this batch\n",
    "    error = utils.get_error( scores , minibatch_label)\n",
    "    \n",
    "    # add it to the running error\n",
    "    running_error += error.item()\n",
    "\n",
    "    num_batches+=1\n",
    "\n",
    "\n",
    "    \n",
    "# compute error rate on the full test set\n",
    "total_error = running_error/num_batches\n",
    "\n",
    "print( 'error rate on test set =', total_error*100 ,'percent')\n",
    "\n",
    "      "
   ]
  },
  {
   "cell_type": "markdown",
   "metadata": {},
   "source": [
    "### Choose image at random from the test set and see how good/bad are the predictions"
   ]
  },
  {
   "cell_type": "code",
   "execution_count": 8,
   "metadata": {},
   "outputs": [
    {
     "data": {
      "image/png": "[encoded data removed]",
      "text/plain": [
       "<Figure size 432x288 with 1 Axes>"
      ]
     },
     "metadata": {},
     "output_type": "display_data"
    },
    {
     "data": {
      "image/png": "[encoded data removed]",
      "text/plain": [
       "<Figure size 640x480 with 1 Axes>"
      ]
     },
     "metadata": {},
     "output_type": "display_data"
    }
   ],
   "source": [
    "# choose a picture at random\n",
    "idx=randint(0, 10000-1)\n",
    "im=test_data[idx]\n",
    "\n",
    "# diplay the picture\n",
    "utils.show(im)\n",
    "\n",
    "# feed it to the net and display the confidence scores\n",
    "scores =  net( im.view(1,784)) \n",
    "probs= F.softmax(scores, dim=1)\n",
    "utils.show_prob_mnist(probs)"
   ]
  },
  {
   "cell_type": "code",
   "execution_count": null,
   "metadata": {},
   "outputs": [],
   "source": []
  }
 ],
 "metadata": {
  "kernelspec": {
   "display_name": "Python 3",
   "language": "python",
   "name": "python3"
  },
  "language_info": {
   "codemirror_mode": {
    "name": "ipython",
    "version": 3
   },
   "file_extension": ".py",
   "mimetype": "text/x-python",
   "name": "python",
   "nbconvert_exporter": "python",
   "pygments_lexer": "ipython3",
   "version": "3.6.6"
  }
 },
 "nbformat": 4,
 "nbformat_minor": 2
}
