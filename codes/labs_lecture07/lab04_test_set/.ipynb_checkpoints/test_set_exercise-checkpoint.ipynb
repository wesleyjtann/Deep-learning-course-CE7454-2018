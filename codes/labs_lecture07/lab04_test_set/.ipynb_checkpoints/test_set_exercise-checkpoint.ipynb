{
 "cells": [
  {
   "cell_type": "markdown",
   "metadata": {},
   "source": [
    "# Lab 14: Test set evaluation -- exercise"
   ]
  },
  {
   "cell_type": "code",
   "execution_count": 1,
   "metadata": {},
   "outputs": [],
   "source": [
    "import torch\n",
    "import torch.nn as nn\n",
    "import torch.nn.functional as F\n",
    "import torch.optim as optim\n",
    "from random import randint\n",
    "import utils"
   ]
  },
  {
   "cell_type": "markdown",
   "metadata": {},
   "source": [
    "### Download the CIFAR dataset -- check the size carefully!"
   ]
  },
  {
   "cell_type": "code",
   "execution_count": 2,
   "metadata": {},
   "outputs": [
    {
     "name": "stdout",
     "output_type": "stream",
     "text": [
      "torch.Size([50000, 3, 32, 32])\n"
     ]
    }
   ],
   "source": [
    "train_data=torch.load('../data/cifar/train_data.pt')\n",
    "train_label=torch.load('../data/cifar/train_label.pt')\n",
    "test_data=torch.load('../data/cifar/test_data.pt')\n",
    "test_label=torch.load('../data/cifar/test_label.pt')\n",
    "\n",
    "print(train_data.size())"
   ]
  },
  {
   "cell_type": "markdown",
   "metadata": {},
   "source": [
    "### Make a ONE layer net class. "
   ]
  },
  {
   "cell_type": "code",
   "execution_count": 3,
   "metadata": {},
   "outputs": [],
   "source": [
    "class one_layer_net(nn.Module):\n",
    "\n",
    "    def __init__(self, input_size, output_size):\n",
    "        super(one_layer_net , self).__init__()\n",
    "        self.linear_layer = nn.Linear( input_size, output_size , bias=True)\n",
    "        \n",
    "    def forward(self, x):\n",
    "        scores = self.linear_layer(x)\n",
    "        return scores"
   ]
  },
  {
   "cell_type": "markdown",
   "metadata": {},
   "source": [
    "### Build the net. "
   ]
  },
  {
   "cell_type": "code",
   "execution_count": 4,
   "metadata": {},
   "outputs": [
    {
     "name": "stdout",
     "output_type": "stream",
     "text": [
      "one_layer_net(\n",
      "  (linear_layer): Linear(in_features=3072, out_features=10, bias=True)\n",
      ")\n"
     ]
    }
   ],
   "source": [
    "net=one_layer_net(3072,10)\n",
    "print(net)"
   ]
  },
  {
   "cell_type": "markdown",
   "metadata": {},
   "source": [
    "### Choose the criterion and optimizer. Also choose:\n"
   ]
  },
  {
   "cell_type": "code",
   "execution_count": 5,
   "metadata": {},
   "outputs": [],
   "source": [
    "criterion = nn.CrossEntropyLoss()\n",
    "optimizer=torch.optim.SGD( net.parameters() , lr=0.01 )\n",
    "bs=20"
   ]
  },
  {
   "cell_type": "markdown",
   "metadata": {},
   "source": [
    "### Do 50 passes through the training set."
   ]
  },
  {
   "cell_type": "code",
   "execution_count": 6,
   "metadata": {},
   "outputs": [
    {
     "name": "stdout",
     "output_type": "stream",
     "text": [
      "epoch= 0 \t loss= 1.9539871606826782 \t error= 69.27799996852875 percent\n",
      "epoch= 1 \t loss= 1.8651045877933503 \t error= 65.38800000905991 percent\n",
      "epoch= 2 \t loss= 1.8377020114898681 \t error= 64.2359999704361 percent\n",
      "epoch= 3 \t loss= 1.818741117334366 \t error= 63.28199999809265 percent\n",
      "epoch= 4 \t loss= 1.804862730407715 \t error= 62.84600003004074 percent\n",
      "epoch= 5 \t loss= 1.7981151681900025 \t error= 62.32200001001358 percent\n",
      "epoch= 6 \t loss= 1.7908881655216218 \t error= 61.98199993133545 percent\n",
      "epoch= 7 \t loss= 1.7866151567459105 \t error= 62.0479999756813 percent\n",
      "epoch= 8 \t loss= 1.7805430395126343 \t error= 61.6659999537468 percent\n",
      "epoch= 9 \t loss= 1.7735966236829757 \t error= 61.21999999284744 percent\n",
      "epoch= 10 \t loss= 1.7676957679271699 \t error= 61.0900000333786 percent\n",
      "epoch= 11 \t loss= 1.7646081033468246 \t error= 60.99800002813339 percent\n",
      "epoch= 12 \t loss= 1.7646656943321228 \t error= 61.03800004720688 percent\n",
      "epoch= 13 \t loss= 1.7622845555305482 \t error= 60.83199999332428 percent\n",
      "epoch= 14 \t loss= 1.7576578027486802 \t error= 60.92199996471405 percent\n",
      "epoch= 15 \t loss= 1.7562080720663071 \t error= 60.50199999809265 percent\n",
      "epoch= 16 \t loss= 1.74988076441288 \t error= 60.47999998569489 percent\n",
      "epoch= 17 \t loss= 1.7443187075853348 \t error= 60.18999997854233 percent\n",
      "epoch= 18 \t loss= 1.7483422976016998 \t error= 60.5020000076294 percent\n",
      "epoch= 19 \t loss= 1.7440627453565598 \t error= 59.98000001430511 percent\n",
      "epoch= 20 \t loss= 1.7429402142763137 \t error= 59.842000033855435 percent\n",
      "epoch= 21 \t loss= 1.739577346944809 \t error= 59.67600003004074 percent\n",
      "epoch= 22 \t loss= 1.741829918694496 \t error= 59.9499999499321 percent\n",
      "epoch= 23 \t loss= 1.7355850570917128 \t error= 59.76399999380112 percent\n",
      "epoch= 24 \t loss= 1.7376988016843795 \t error= 60.03400000095367 percent\n",
      "epoch= 25 \t loss= 1.7342859158277513 \t error= 59.75200002670288 percent\n",
      "epoch= 26 \t loss= 1.7323014142751694 \t error= 59.558000040054324 percent\n",
      "epoch= 27 \t loss= 1.729642953300476 \t error= 59.49200001001358 percent\n",
      "epoch= 28 \t loss= 1.7299309453964233 \t error= 59.59399998426438 percent\n",
      "epoch= 29 \t loss= 1.732946013045311 \t error= 59.71800003528595 percent\n",
      "epoch= 30 \t loss= 1.7253155853509903 \t error= 59.432000012397765 percent\n",
      "epoch= 31 \t loss= 1.7278293636322022 \t error= 59.47599999189377 percent\n",
      "epoch= 32 \t loss= 1.7244830833911895 \t error= 59.27599999189377 percent\n",
      "epoch= 33 \t loss= 1.7271325235843658 \t error= 59.52200002908706 percent\n",
      "epoch= 34 \t loss= 1.7250449008703233 \t error= 59.27400002002716 percent\n",
      "epoch= 35 \t loss= 1.7239761333227157 \t error= 59.29000001907349 percent\n",
      "epoch= 36 \t loss= 1.7234111900806428 \t error= 59.35200000524521 percent\n",
      "epoch= 37 \t loss= 1.7228932216405868 \t error= 59.452000014781945 percent\n",
      "epoch= 38 \t loss= 1.7220822702646255 \t error= 59.286000056266786 percent\n",
      "epoch= 39 \t loss= 1.7209357996940613 \t error= 59.10200002431869 percent\n",
      "epoch= 40 \t loss= 1.7178280143976212 \t error= 59.139999995231626 percent\n",
      "epoch= 41 \t loss= 1.716306125664711 \t error= 58.90200003147126 percent\n",
      "epoch= 42 \t loss= 1.7144890805006028 \t error= 58.756000065803526 percent\n",
      "epoch= 43 \t loss= 1.7159471769809722 \t error= 58.97400005340576 percent\n",
      "epoch= 44 \t loss= 1.7172306090831757 \t error= 58.85600002765655 percent\n",
      "epoch= 45 \t loss= 1.7100832291126251 \t error= 58.80400003671647 percent\n",
      "epoch= 46 \t loss= 1.7128856110572814 \t error= 58.78200007677078 percent\n",
      "epoch= 47 \t loss= 1.7128894632339478 \t error= 58.986000020503994 percent\n",
      "epoch= 48 \t loss= 1.7115482318162918 \t error= 58.89600004911423 percent\n",
      "epoch= 49 \t loss= 1.7111990297079087 \t error= 58.98399997472763 percent\n"
     ]
    }
   ],
   "source": [
    "for epoch in range(50):\n",
    "    \n",
    "    running_loss=0\n",
    "    running_error=0\n",
    "    num_batches=0\n",
    "    \n",
    "    shuffled_indices=torch.randperm(50000)\n",
    " \n",
    "    for count in range(0,50000,bs):\n",
    "    \n",
    "        # Set the gradients to zeros\n",
    "        optimizer.zero_grad()\n",
    "        \n",
    "        # create a minibatch       \n",
    "        indices=shuffled_indices[count:count+bs]\n",
    "        minibatch_data =  train_data[indices]\n",
    "        minibatch_label= train_label[indices]\n",
    "\n",
    "        # reshape the minibatch\n",
    "        inputs = minibatch_data.view(bs,3072)\n",
    "\n",
    "        # tell Pytorch to start tracking all operations that will be done on \"inputs\"\n",
    "        inputs.requires_grad_()\n",
    "\n",
    "        # forward the minibatch through the net \n",
    "        scores=net( inputs ) \n",
    "\n",
    "        # Compute the average of the losses of the data points in the minibatch\n",
    "        loss =  criterion( scores , minibatch_label) \n",
    "        \n",
    "        # backward pass to compute dL/dU, dL/dV and dL/dW   \n",
    "        loss.backward()\n",
    "\n",
    "        # do one step of stochastic gradient descent: U=U-lr(dL/dU), V=V-lr(dL/dU), ...\n",
    "        optimizer.step()\n",
    "        \n",
    "        # START COMPUTING STATS\n",
    "        \n",
    "        # add the loss of this batch to the running loss\n",
    "        running_loss += loss.detach().item()\n",
    "        \n",
    "        # compute the error made on this batch and add it to the running error       \n",
    "        error = utils.get_error( scores.detach() , minibatch_label)\n",
    "        running_error += error.item()\n",
    "        \n",
    "        num_batches+=1\n",
    "    \n",
    "    \n",
    "    # compute stats for the full training set\n",
    "    total_loss = running_loss/num_batches\n",
    "    total_error = running_error/num_batches\n",
    "    \n",
    "    print('epoch=',epoch, '\\t loss=', total_loss , '\\t error=', total_error*100 ,'percent')\n",
    "        \n",
    "    "
   ]
  },
  {
   "cell_type": "markdown",
   "metadata": {},
   "source": [
    "# You only have to complete this cell"
   ]
  },
  {
   "cell_type": "markdown",
   "metadata": {},
   "source": [
    "### So we are doing around 59% error on the training set. BUT how much are we doing on test set?"
   ]
  },
  {
   "cell_type": "code",
   "execution_count": 7,
   "metadata": {
    "scrolled": true
   },
   "outputs": [
    {
     "name": "stdout",
     "output_type": "stream",
     "text": [
      "error rate on test set = 61.069999873638146 percent\n"
     ]
    }
   ],
   "source": [
    "running_error=0\n",
    "num_batches=0\n",
    "\n",
    "\n",
    "for i in range(0,10000,bs): # COMPLETE HERE\n",
    "\n",
    "    # extract the minibatch\n",
    "    minibatch_data = test_data[i:i+bs]  # COMPLETE HERE\n",
    "    minibatch_label = test_label[i:i+bs]  # COMPLETE HERE\n",
    "\n",
    "    # reshape the minibatch\n",
    "    inputs = minibatch_data.view(bs, 3072) # COMPLETE HERE\n",
    "\n",
    "    # feed it to the network\n",
    "    scores = net(inputs) # COMPLETE HERE\n",
    "\n",
    "    # compute the error made on this batch\n",
    "    error = utils.get_error(scores, minibatch_label) # COMPLETE HERE\n",
    "    \n",
    "    # add it to the running error\n",
    "    running_error += error.item()  # COMPLETE HERE\n",
    "\n",
    "    num_batches+=1\n",
    "\n",
    "\n",
    "# compute error rate on the full test set\n",
    "total_error = running_error/num_batches # COMPLETE HERE\n",
    "\n",
    "print( 'error rate on test set =', total_error*100 ,'percent')"
   ]
  },
  {
   "cell_type": "markdown",
   "metadata": {},
   "source": [
    "### Choose image at random from the test set and see how good/bad are the predictions"
   ]
  },
  {
   "cell_type": "code",
   "execution_count": 10,
   "metadata": {},
   "outputs": [
    {
     "data": {
      "image/png": "[encoded data removed]",
      "text/plain": [
       "<Figure size 640x480 with 1 Axes>"
      ]
     },
     "metadata": {},
     "output_type": "display_data"
    },
    {
     "data": {
      "image/png": "[encoded data removed]",
      "text/plain": [
       "<Figure size 640x480 with 1 Axes>"
      ]
     },
     "metadata": {},
     "output_type": "display_data"
    }
   ],
   "source": [
    "# choose a picture at random\n",
    "idx=randint(0, 10000-1)\n",
    "im=test_data[idx]\n",
    "\n",
    "# diplay the picture\n",
    "utils.show(im)\n",
    "\n",
    "# feed it to the net and display the confidence scores\n",
    "scores =  net( im.view(1,3072)) \n",
    "probs= F.softmax(scores, dim=1)\n",
    "utils.show_prob_cifar(probs)"
   ]
  },
  {
   "cell_type": "code",
   "execution_count": null,
   "metadata": {},
   "outputs": [],
   "source": []
  }
 ],
 "metadata": {
  "kernelspec": {
   "display_name": "Python 3",
   "language": "python",
   "name": "python3"
  },
  "language_info": {
   "codemirror_mode": {
    "name": "ipython",
    "version": 3
   },
   "file_extension": ".py",
   "mimetype": "text/x-python",
   "name": "python",
   "nbconvert_exporter": "python",
   "pygments_lexer": "ipython3",
   "version": "3.6.6"
  }
 },
 "nbformat": 4,
 "nbformat_minor": 2
}
