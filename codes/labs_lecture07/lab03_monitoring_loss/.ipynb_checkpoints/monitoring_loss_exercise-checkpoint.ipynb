{
 "cells": [
  {
   "cell_type": "markdown",
   "metadata": {},
   "source": [
    "# Lab 13: Loss and error rate -- exercise"
   ]
  },
  {
   "cell_type": "code",
   "execution_count": 1,
   "metadata": {},
   "outputs": [],
   "source": [
    "import torch\n",
    "import torch.nn as nn\n",
    "import torch.nn.functional as F\n",
    "import torch.optim as optim\n",
    "from random import randint\n",
    "import utils"
   ]
  },
  {
   "cell_type": "markdown",
   "metadata": {},
   "source": [
    "### Download the CIFAR dataset -- check the size carefully!"
   ]
  },
  {
   "cell_type": "code",
   "execution_count": 2,
   "metadata": {},
   "outputs": [
    {
     "name": "stdout",
     "output_type": "stream",
     "text": [
      "torch.Size([50000, 3, 32, 32])\n"
     ]
    }
   ],
   "source": [
    "train_data=torch.load('../data/cifar/train_data.pt')\n",
    "train_label=torch.load('../data/cifar/train_label.pt')\n",
    "test_data=torch.load('../data/cifar/test_data.pt')\n",
    "\n",
    "print(train_data.size())"
   ]
  },
  {
   "cell_type": "markdown",
   "metadata": {},
   "source": [
    "### Make a ONE layer net class. "
   ]
  },
  {
   "cell_type": "code",
   "execution_count": 3,
   "metadata": {},
   "outputs": [],
   "source": [
    "class one_layer_net(nn.Module):\n",
    "\n",
    "    def __init__(self, input_size, output_size):\n",
    "        super(one_layer_net , self).__init__()\n",
    "        self.linear_layer = nn.Linear( input_size, output_size , bias=True)\n",
    "        \n",
    "    def forward(self, x):\n",
    "        scores = self.linear_layer(x)\n",
    "        return scores"
   ]
  },
  {
   "cell_type": "markdown",
   "metadata": {},
   "source": [
    "### Build the net.   "
   ]
  },
  {
   "cell_type": "code",
   "execution_count": 4,
   "metadata": {},
   "outputs": [
    {
     "name": "stdout",
     "output_type": "stream",
     "text": [
      "one_layer_net(\n",
      "  (linear_layer): Linear(in_features=3072, out_features=10, bias=True)\n",
      ")\n"
     ]
    }
   ],
   "source": [
    "net= one_layer_net(3072,10)\n",
    "\n",
    "print(net)"
   ]
  },
  {
   "cell_type": "markdown",
   "metadata": {},
   "source": [
    "### Choose the criterion and optimizer. Also choose:\n",
    "\n",
    "### batchsize = 20\n",
    "\n",
    "### learning rate = 0.01"
   ]
  },
  {
   "cell_type": "code",
   "execution_count": 5,
   "metadata": {},
   "outputs": [],
   "source": [
    "criterion = nn.CrossEntropyLoss()\n",
    "\n",
    "optimizer=torch.optim.SGD( net.parameters() , lr=0.01 )\n",
    "\n",
    "bs=20"
   ]
  },
  {
   "cell_type": "markdown",
   "metadata": {},
   "source": [
    "# You only have to complete this cell\n",
    "\n",
    "### Do 40 passes through the training set (which contains 50,000 images -- not 60,000 like mnist!)"
   ]
  },
  {
   "cell_type": "code",
   "execution_count": 6,
   "metadata": {},
   "outputs": [
    {
     "name": "stdout",
     "output_type": "stream",
     "text": [
      "epoch= 0 \t loss= 1.9472437519550323 \t error= 69.31399996519089 percent\n",
      "epoch= 1 \t loss= 1.8594528948783875 \t error= 65.07199996709824 percent\n",
      "epoch= 2 \t loss= 1.8317759383678436 \t error= 63.959999976158144 percent\n",
      "epoch= 3 \t loss= 1.819987227511406 \t error= 63.70599999427795 percent\n",
      "epoch= 4 \t loss= 1.7962177780151367 \t error= 62.45999997854233 percent\n",
      "epoch= 5 \t loss= 1.8010968384742736 \t error= 62.32399999856949 percent\n",
      "epoch= 6 \t loss= 1.7970056261062621 \t error= 62.295999946594236 percent\n",
      "epoch= 7 \t loss= 1.7766493052959442 \t error= 61.84199997901917 percent\n",
      "epoch= 8 \t loss= 1.7730819158315658 \t error= 61.66599992752075 percent\n",
      "epoch= 9 \t loss= 1.7663123992919922 \t error= 61.03200000047684 percent\n",
      "epoch= 10 \t loss= 1.760024786567688 \t error= 60.726000018119805 percent\n",
      "epoch= 11 \t loss= 1.7538342939853668 \t error= 60.48999996900558 percent\n",
      "epoch= 12 \t loss= 1.7531664197683334 \t error= 60.44799996137618 percent\n",
      "epoch= 13 \t loss= 1.7488296341180802 \t error= 60.39799998760223 percent\n",
      "epoch= 14 \t loss= 1.75385695977211 \t error= 60.534000029563906 percent\n",
      "epoch= 15 \t loss= 1.7469462282896042 \t error= 60.21800000190735 percent\n",
      "epoch= 16 \t loss= 1.749140938615799 \t error= 60.170000009536736 percent\n",
      "epoch= 17 \t loss= 1.7517232946872712 \t error= 60.17800004482269 percent\n",
      "epoch= 18 \t loss= 1.7428058482646942 \t error= 60.036000020504 percent\n",
      "epoch= 19 \t loss= 1.7465856902837753 \t error= 60.18599997520446 percent\n",
      "epoch= 20 \t loss= 1.7360423887252807 \t error= 59.84999998807907 percent\n",
      "epoch= 21 \t loss= 1.7363156846284866 \t error= 59.88199998617172 percent\n",
      "epoch= 22 \t loss= 1.7340663202047348 \t error= 59.65200003862381 percent\n",
      "epoch= 23 \t loss= 1.731678223347664 \t error= 59.8799999833107 percent\n",
      "epoch= 24 \t loss= 1.728097526216507 \t error= 59.39200003623962 percent\n",
      "epoch= 25 \t loss= 1.7312998609542847 \t error= 59.15400000095368 percent\n",
      "epoch= 26 \t loss= 1.7311021124839783 \t error= 59.41000007152557 percent\n",
      "epoch= 27 \t loss= 1.7229766227722167 \t error= 59.32200005292893 percent\n",
      "epoch= 28 \t loss= 1.7347209165096282 \t error= 59.48600000619888 percent\n",
      "epoch= 29 \t loss= 1.7336183397769929 \t error= 59.51400003671646 percent\n",
      "epoch= 30 \t loss= 1.7229529017925262 \t error= 59.23800000667572 percent\n",
      "epoch= 31 \t loss= 1.7129747430801392 \t error= 58.96600000143051 percent\n",
      "epoch= 32 \t loss= 1.7212990367412566 \t error= 59.1660000038147 percent\n",
      "epoch= 33 \t loss= 1.7238760444164276 \t error= 59.26000002384186 percent\n",
      "epoch= 34 \t loss= 1.7249777143478393 \t error= 59.167999987602236 percent\n",
      "epoch= 35 \t loss= 1.7100541485309602 \t error= 58.83200001239777 percent\n",
      "epoch= 36 \t loss= 1.7174349598407745 \t error= 59.14600006103515 percent\n",
      "epoch= 37 \t loss= 1.722543626499176 \t error= 59.410000040531166 percent\n",
      "epoch= 38 \t loss= 1.7179093671798706 \t error= 59.3960000038147 percent\n",
      "epoch= 39 \t loss= 1.7088279007434846 \t error= 58.970000016689305 percent\n"
     ]
    }
   ],
   "source": [
    "for epoch in range(40): # COMPLETE HERE\n",
    "    \n",
    "    running_loss=0\n",
    "    running_error=0\n",
    "    num_batches=0\n",
    "    \n",
    "    shuffled_indices= torch.randperm(50000)# COMPLETE HERE\n",
    " \n",
    "    for count in range(0,50000,bs): # COMPLETE HERE\n",
    "    \n",
    "        optimizer.zero_grad()\n",
    "        \n",
    "        # create a minibatch       \n",
    "        indices = torch.LongTensor(bs).random_(0,50000)          # COMPLETE HERE\n",
    "        minibatch_data = train_data[indices]   # COMPLETE HERE\n",
    "        minibatch_label= train_label[indices]   # COMPLETE HERE\n",
    "\n",
    "        # reshape the minibatch\n",
    "        inputs = minibatch_data.view(bs, 3072) # COMPLETE HERE\n",
    "\n",
    "        # tell Pytorch to start tracking all operations that will be done on \"inputs\"\n",
    "        inputs.requires_grad_()\n",
    "\n",
    "        # forward the minibatch through the net \n",
    "        scores = net(inputs) # COMPLETE HERE\n",
    "\n",
    "        # Compute the average of the losses of the data points in the minibatch\n",
    "        loss = criterion(scores, minibatch_label) # COMPLETE HERE \n",
    "        \n",
    "        # backward pass to compute dL/dU, dL/dV and dL/dW   \n",
    "        loss.backward()\n",
    "\n",
    "        # do one step of stochastic gradient descent: U=U-lr(dL/dU), V=V-lr(dL/dU), ...\n",
    "        optimizer.step()\n",
    "        \n",
    "        # add the loss of this batch to the running loss\n",
    "        running_loss += loss.detach().item() # COMPLETE HERE\n",
    "        \n",
    "        # compute the error made on this batch and add it to the running error       \n",
    "        error = utils.get_error(scores.detach(), minibatch_label)          # COMPLETE HERE\n",
    "        running_error += error.item() # COMPLETE HERE\n",
    "        \n",
    "        num_batches+=1\n",
    "    \n",
    "    \n",
    "    # compute stats for the full training set\n",
    "    total_loss = running_loss / num_batches    # COMPLETE HERE\n",
    "    total_error = running_error / num_batches  # COMPLETE HERE\n",
    "    \n",
    "    print('epoch=',epoch, '\\t loss=', total_loss , '\\t error=', total_error*100 ,'percent')\n",
    "        \n",
    "    \n",
    "        \n",
    "        "
   ]
  },
  {
   "cell_type": "markdown",
   "metadata": {},
   "source": [
    "### Choose image at random from the test set and see how good/bad are the predictions"
   ]
  },
  {
   "cell_type": "code",
   "execution_count": 7,
   "metadata": {},
   "outputs": [
    {
     "data": {
      "image/png": "[encoded data removed]",
      "text/plain": [
       "<Figure size 432x288 with 1 Axes>"
      ]
     },
     "metadata": {},
     "output_type": "display_data"
    },
    {
     "data": {
      "image/png": "[encoded data removed]",
      "text/plain": [
       "<Figure size 640x480 with 1 Axes>"
      ]
     },
     "metadata": {},
     "output_type": "display_data"
    }
   ],
   "source": [
    "# choose a picture at random\n",
    "idx=randint(0, 10000-1)\n",
    "im=test_data[idx]\n",
    "\n",
    "# diplay the picture\n",
    "utils.show(im)\n",
    "\n",
    "# feed it to the net and display the confidence scores\n",
    "scores =  net( im.view(1,3072)) \n",
    "probs= F.softmax(scores, dim=1)\n",
    "utils.show_prob_cifar(probs)"
   ]
  },
  {
   "cell_type": "code",
   "execution_count": null,
   "metadata": {},
   "outputs": [],
   "source": []
  }
 ],
 "metadata": {
  "kernelspec": {
   "display_name": "dl_CE7454",
   "language": "python",
   "name": "dl_ce7454"
  },
  "language_info": {
   "codemirror_mode": {
    "name": "ipython",
    "version": 3
   },
   "file_extension": ".py",
   "mimetype": "text/x-python",
   "name": "python",
   "nbconvert_exporter": "python",
   "pygments_lexer": "ipython3",
   "version": "3.6.6"
  }
 },
 "nbformat": 4,
 "nbformat_minor": 2
}
