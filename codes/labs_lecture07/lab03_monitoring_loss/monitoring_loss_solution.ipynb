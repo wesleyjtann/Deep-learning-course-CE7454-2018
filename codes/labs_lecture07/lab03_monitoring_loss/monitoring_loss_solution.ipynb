{
 "cells": [
  {
   "cell_type": "markdown",
   "metadata": {},
   "source": [
    "# Lab 13: Loss and error rate -- solution"
   ]
  },
  {
   "cell_type": "code",
   "execution_count": 1,
   "metadata": {},
   "outputs": [],
   "source": [
    "import torch\n",
    "import torch.nn as nn\n",
    "import torch.nn.functional as F\n",
    "import torch.optim as optim\n",
    "from random import randint\n",
    "import utils"
   ]
  },
  {
   "cell_type": "markdown",
   "metadata": {},
   "source": [
    "### Download the CIFAR dataset -- check the size carefully!"
   ]
  },
  {
   "cell_type": "code",
   "execution_count": 2,
   "metadata": {},
   "outputs": [
    {
     "name": "stdout",
     "output_type": "stream",
     "text": [
      "torch.Size([50000, 3, 32, 32])\n"
     ]
    }
   ],
   "source": [
    "train_data=torch.load('../data/cifar/train_data.pt')\n",
    "train_label=torch.load('../data/cifar/train_label.pt')\n",
    "test_data=torch.load('../data/cifar/test_data.pt')\n",
    "\n",
    "print(train_data.size())"
   ]
  },
  {
   "cell_type": "markdown",
   "metadata": {},
   "source": [
    "### Make a ONE layer net class. "
   ]
  },
  {
   "cell_type": "code",
   "execution_count": 3,
   "metadata": {},
   "outputs": [],
   "source": [
    "class one_layer_net(nn.Module):\n",
    "\n",
    "    def __init__(self, input_size, output_size):\n",
    "        super(one_layer_net , self).__init__()\n",
    "        self.linear_layer = nn.Linear( input_size, output_size , bias=True)\n",
    "        \n",
    "    def forward(self, x):\n",
    "        scores = self.linear_layer(x)\n",
    "        return scores"
   ]
  },
  {
   "cell_type": "markdown",
   "metadata": {},
   "source": [
    "### Build the net. \n",
    "\n",
    "### We are dealing with RGB pictures that are 3 x 32 x 32 \n",
    "\n",
    "### On picture contains a total of 3 x 32 x 32 = 3072 values"
   ]
  },
  {
   "cell_type": "code",
   "execution_count": 4,
   "metadata": {},
   "outputs": [
    {
     "name": "stdout",
     "output_type": "stream",
     "text": [
      "one_layer_net(\n",
      "  (linear_layer): Linear(in_features=3072, out_features=10, bias=True)\n",
      ")\n"
     ]
    }
   ],
   "source": [
    "net=one_layer_net(3072,10)\n",
    "print(net)"
   ]
  },
  {
   "cell_type": "markdown",
   "metadata": {},
   "source": [
    "### Choose the criterion and optimizer. Also choose:\n",
    "\n",
    "### batchsize = 20\n",
    "\n",
    "### learning rate = 0.01"
   ]
  },
  {
   "cell_type": "code",
   "execution_count": 5,
   "metadata": {},
   "outputs": [],
   "source": [
    "criterion = nn.CrossEntropyLoss()\n",
    "\n",
    "optimizer=torch.optim.SGD( net.parameters() , lr=0.01 )\n",
    "\n",
    "bs=20"
   ]
  },
  {
   "cell_type": "markdown",
   "metadata": {},
   "source": [
    "### Do 50 passes through the training set (which contains 50,000 images -- not 60,000 like mnist!)"
   ]
  },
  {
   "cell_type": "code",
   "execution_count": 6,
   "metadata": {
    "scrolled": false
   },
   "outputs": [
    {
     "name": "stdout",
     "output_type": "stream",
     "text": [
      "epoch= 0 \t loss= 1.954665689086914 \t error= 69.63199994087219 percent\n",
      "epoch= 1 \t loss= 1.8646688885688782 \t error= 65.13599997997284 percent\n",
      "epoch= 2 \t loss= 1.836110137271881 \t error= 64.03000000476837 percent\n",
      "epoch= 3 \t loss= 1.8177983387947083 \t error= 63.353999953269955 percent\n",
      "epoch= 4 \t loss= 1.8070404544591903 \t error= 63.06799996614456 percent\n",
      "epoch= 5 \t loss= 1.7962632564544678 \t error= 62.494000000953676 percent\n",
      "epoch= 6 \t loss= 1.7927866859674453 \t error= 62.15200001239777 percent\n",
      "epoch= 7 \t loss= 1.783716656923294 \t error= 61.73999993801117 percent\n",
      "epoch= 8 \t loss= 1.7786528691768646 \t error= 61.7080000090599 percent\n",
      "epoch= 9 \t loss= 1.776407633638382 \t error= 61.46399993658066 percent\n",
      "epoch= 10 \t loss= 1.7750350419044494 \t error= 61.47400002479553 percent\n",
      "epoch= 11 \t loss= 1.7649152191400528 \t error= 61.076000053882595 percent\n",
      "epoch= 12 \t loss= 1.76221912317276 \t error= 61.02399995803833 percent\n",
      "epoch= 13 \t loss= 1.7594321469783782 \t error= 60.89800001144409 percent\n",
      "epoch= 14 \t loss= 1.7567370230674744 \t error= 60.50800003290176 percent\n",
      "epoch= 15 \t loss= 1.7555255643844605 \t error= 60.764000022411345 percent\n",
      "epoch= 16 \t loss= 1.7503839772939682 \t error= 60.44800000190735 percent\n",
      "epoch= 17 \t loss= 1.7461750159740448 \t error= 60.243999974727636 percent\n",
      "epoch= 18 \t loss= 1.7481274552583694 \t error= 60.03199999809266 percent\n",
      "epoch= 19 \t loss= 1.7475391889095306 \t error= 60.16800005197525 percent\n",
      "epoch= 20 \t loss= 1.7435538448572159 \t error= 60.22400002241135 percent\n",
      "epoch= 21 \t loss= 1.7372526337385177 \t error= 60.11800001382828 percent\n",
      "epoch= 22 \t loss= 1.743199548459053 \t error= 60.30000002145767 percent\n",
      "epoch= 23 \t loss= 1.734398981165886 \t error= 59.64399996995926 percent\n",
      "epoch= 24 \t loss= 1.737912394475937 \t error= 59.79200001716614 percent\n",
      "epoch= 25 \t loss= 1.7344762832164764 \t error= 59.51400004863739 percent\n",
      "epoch= 26 \t loss= 1.729613891005516 \t error= 59.514000051021576 percent\n",
      "epoch= 27 \t loss= 1.73249902946949 \t error= 59.901999938488004 percent\n",
      "epoch= 28 \t loss= 1.7304100330591201 \t error= 59.65599997043609 percent\n",
      "epoch= 29 \t loss= 1.7295421964406967 \t error= 59.41200003385544 percent\n",
      "epoch= 30 \t loss= 1.7293495479106904 \t error= 59.484000024795535 percent\n",
      "epoch= 31 \t loss= 1.7238370179653169 \t error= 59.32000004053116 percent\n",
      "epoch= 32 \t loss= 1.7237388938426972 \t error= 59.461999912261966 percent\n",
      "epoch= 33 \t loss= 1.7249787596464157 \t error= 59.384000060558314 percent\n",
      "epoch= 34 \t loss= 1.7233400937080383 \t error= 59.12199994802475 percent\n",
      "epoch= 35 \t loss= 1.7259277231693269 \t error= 59.40000002384186 percent\n",
      "epoch= 36 \t loss= 1.7201577535152435 \t error= 59.422000000476835 percent\n",
      "epoch= 37 \t loss= 1.7220727381229401 \t error= 59.24799997329712 percent\n",
      "epoch= 38 \t loss= 1.7203999578952789 \t error= 59.33400003433228 percent\n",
      "epoch= 39 \t loss= 1.717971261024475 \t error= 59.03400000810623 percent\n",
      "epoch= 40 \t loss= 1.717010343503952 \t error= 59.12800004482269 percent\n",
      "epoch= 41 \t loss= 1.7176978282690047 \t error= 59.11600000619889 percent\n",
      "epoch= 42 \t loss= 1.716300483083725 \t error= 59.19599998235703 percent\n",
      "epoch= 43 \t loss= 1.7188770436763763 \t error= 59.345999948978424 percent\n",
      "epoch= 44 \t loss= 1.7154541992664336 \t error= 58.91999998569488 percent\n",
      "epoch= 45 \t loss= 1.7151677150726319 \t error= 58.97600003480912 percent\n",
      "epoch= 46 \t loss= 1.7164283729553222 \t error= 59.21999998569488 percent\n",
      "epoch= 47 \t loss= 1.7141650067806244 \t error= 58.93400010108948 percent\n",
      "epoch= 48 \t loss= 1.7136690459012984 \t error= 59.04000000238418 percent\n",
      "epoch= 49 \t loss= 1.7122646871089935 \t error= 58.79599998474121 percent\n"
     ]
    }
   ],
   "source": [
    "for epoch in range(50):\n",
    "    \n",
    "    running_loss=0\n",
    "    running_error=0\n",
    "    num_batches=0\n",
    "    \n",
    "    shuffled_indices=torch.randperm(50000)\n",
    " \n",
    "    for count in range(0,50000,bs):\n",
    "    \n",
    "        # Set the gradients to zeros\n",
    "        optimizer.zero_grad()\n",
    "        \n",
    "        # create a minibatch       \n",
    "        indices=shuffled_indices[count:count+bs]\n",
    "        minibatch_data =  train_data[indices]\n",
    "        minibatch_label= train_label[indices]\n",
    "\n",
    "        # reshape the minibatch\n",
    "        inputs = minibatch_data.view(bs,3072)\n",
    "\n",
    "        # tell Pytorch to start tracking all operations that will be done on \"inputs\"\n",
    "        inputs.requires_grad_()\n",
    "\n",
    "        # forward the minibatch through the net \n",
    "        scores=net( inputs ) \n",
    "\n",
    "        # Compute the average of the losses of the data points in the minibatch\n",
    "        loss =  criterion( scores , minibatch_label) \n",
    "        \n",
    "        # backward pass to compute dL/dU, dL/dV and dL/dW   \n",
    "        loss.backward()\n",
    "\n",
    "        # do one step of stochastic gradient descent: U=U-lr(dL/dU), V=V-lr(dL/dU), ...\n",
    "        optimizer.step()\n",
    "        \n",
    "        # START COMPUTING STATS\n",
    "        \n",
    "        # add the loss of this batch to the running loss\n",
    "        running_loss += loss.detach().item()\n",
    "        \n",
    "        # compute the error made on this batch and add it to the running error       \n",
    "        error = utils.get_error( scores.detach() , minibatch_label)\n",
    "        running_error += error.item()\n",
    "        \n",
    "        num_batches+=1\n",
    "    \n",
    "    \n",
    "    # compute stats for the full training set\n",
    "    total_loss = running_loss/num_batches\n",
    "    total_error = running_error/num_batches\n",
    "    \n",
    "    print('epoch=',epoch, '\\t loss=', total_loss , '\\t error=', total_error*100 ,'percent')\n",
    "        \n",
    "    \n",
    "        \n",
    "        "
   ]
  },
  {
   "cell_type": "markdown",
   "metadata": {},
   "source": [
    "### Choose image at random from the test set and see how good/bad are the predictions"
   ]
  },
  {
   "cell_type": "code",
   "execution_count": 7,
   "metadata": {},
   "outputs": [
    {
     "data": {
      "image/png": "[encoded data removed]",
      "text/plain": [
       "<Figure size 432x288 with 1 Axes>"
      ]
     },
     "metadata": {},
     "output_type": "display_data"
    },
    {
     "data": {
      "image/png": "[encoded data removed]",
      "text/plain": [
       "<Figure size 640x480 with 1 Axes>"
      ]
     },
     "metadata": {},
     "output_type": "display_data"
    }
   ],
   "source": [
    "# choose a picture at random\n",
    "idx=randint(0, 10000-1)\n",
    "im=test_data[idx]\n",
    "\n",
    "# diplay the picture\n",
    "utils.show(im)\n",
    "\n",
    "# feed it to the net and display the confidence scores\n",
    "scores =  net( im.view(1,3072)) \n",
    "probs= F.softmax(scores, dim=1)\n",
    "utils.show_prob_cifar(probs)"
   ]
  },
  {
   "cell_type": "code",
   "execution_count": null,
   "metadata": {},
   "outputs": [],
   "source": []
  }
 ],
 "metadata": {
  "kernelspec": {
   "display_name": "Python 3",
   "language": "python",
   "name": "python3"
  },
  "language_info": {
   "codemirror_mode": {
    "name": "ipython",
    "version": 3
   },
   "file_extension": ".py",
   "mimetype": "text/x-python",
   "name": "python",
   "nbconvert_exporter": "python",
   "pygments_lexer": "ipython3",
   "version": "3.6.6"
  }
 },
 "nbformat": 4,
 "nbformat_minor": 2
}
