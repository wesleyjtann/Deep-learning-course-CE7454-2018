{
 "cells": [
  {
   "cell_type": "markdown",
   "metadata": {},
   "source": [
    "# Lab 07: Vanilla neural networks -- demo\n",
    "\n",
    "# Creating a two-layer network"
   ]
  },
  {
   "cell_type": "code",
   "execution_count": 1,
   "metadata": {},
   "outputs": [],
   "source": [
    "import torch\n",
    "import torch.nn as nn\n",
    "import torch.nn.functional as F"
   ]
  },
  {
   "cell_type": "markdown",
   "metadata": {},
   "source": [
    "### In Pytorch, networks are defined as classes"
   ]
  },
  {
   "cell_type": "code",
   "execution_count": 2,
   "metadata": {},
   "outputs": [],
   "source": [
    "class two_layer_net(nn.Module):\n",
    "\n",
    "    def __init__(self, input_size, hidden_size, output_size):\n",
    "        super(two_layer_net , self).__init__()\n",
    "        \n",
    "        self.layer1 = nn.Linear( input_size, hidden_size , bias=True)\n",
    "        self.layer2 = nn.Linear( hidden_size, output_size , bias=True)        \n",
    "        \n",
    "    def forward(self, x):\n",
    "        \n",
    "        x = self.layer1(x)\n",
    "        x = F.relu(x)\n",
    "        x = self.layer2(x)\n",
    "        p = F.softmax(x, dim=0)\n",
    "        \n",
    "        return p"
   ]
  },
  {
   "cell_type": "markdown",
   "metadata": {},
   "source": [
    "### Create an instance that takes input of size 2, then transform it into something of size 5, then into something of size 3\n",
    "$$\n",
    "\\begin{bmatrix}\n",
    "\\times \\\\ \\times \n",
    "\\end{bmatrix}\n",
    "\\longrightarrow\n",
    "\\begin{bmatrix}\n",
    "\\times \\\\ \\times \\\\ \\times \\\\ \\times \\\\ \\times\n",
    "\\end{bmatrix}\n",
    "\\longrightarrow\n",
    "\\begin{bmatrix}\n",
    "\\times \\\\ \\times \\\\ \\times\n",
    "\\end{bmatrix}\n",
    "$$"
   ]
  },
  {
   "cell_type": "code",
   "execution_count": 3,
   "metadata": {},
   "outputs": [
    {
     "name": "stdout",
     "output_type": "stream",
     "text": [
      "two_layer_net(\n",
      "  (layer1): Linear(in_features=2, out_features=5, bias=True)\n",
      "  (layer2): Linear(in_features=5, out_features=3, bias=True)\n",
      ")\n"
     ]
    }
   ],
   "source": [
    "net= two_layer_net(2,5,3)\n",
    "print(net)"
   ]
  },
  {
   "cell_type": "markdown",
   "metadata": {},
   "source": [
    "### Now we are going to make an input vector and feed it to the network:"
   ]
  },
  {
   "cell_type": "code",
   "execution_count": 4,
   "metadata": {},
   "outputs": [
    {
     "name": "stdout",
     "output_type": "stream",
     "text": [
      "tensor([1., 1.])\n"
     ]
    }
   ],
   "source": [
    "x=torch.Tensor([1,1])\n",
    "print(x)"
   ]
  },
  {
   "cell_type": "code",
   "execution_count": 5,
   "metadata": {},
   "outputs": [
    {
     "name": "stdout",
     "output_type": "stream",
     "text": [
      "tensor([0.3834, 0.1755, 0.4411], grad_fn=<SoftmaxBackward>)\n"
     ]
    }
   ],
   "source": [
    "p=net.forward(x)\n",
    "print(p)"
   ]
  },
  {
   "cell_type": "markdown",
   "metadata": {},
   "source": [
    "### Syntactic easy for the forward method"
   ]
  },
  {
   "cell_type": "code",
   "execution_count": 6,
   "metadata": {},
   "outputs": [
    {
     "name": "stdout",
     "output_type": "stream",
     "text": [
      "tensor([0.3834, 0.1755, 0.4411], grad_fn=<SoftmaxBackward>)\n"
     ]
    }
   ],
   "source": [
    "p=net(x)\n",
    "print(p)"
   ]
  },
  {
   "cell_type": "markdown",
   "metadata": {},
   "source": [
    "### Let's check that the probability vector indeed sum to 1:"
   ]
  },
  {
   "cell_type": "code",
   "execution_count": 7,
   "metadata": {},
   "outputs": [
    {
     "name": "stdout",
     "output_type": "stream",
     "text": [
      "tensor(1., grad_fn=<SumBackward0>)\n"
     ]
    }
   ],
   "source": [
    "print( p.sum() )"
   ]
  },
  {
   "cell_type": "markdown",
   "metadata": {},
   "source": [
    "### This network is composed of two Linear modules that we have called layer1 and layer2. We can see this when we type:"
   ]
  },
  {
   "cell_type": "code",
   "execution_count": 8,
   "metadata": {},
   "outputs": [
    {
     "name": "stdout",
     "output_type": "stream",
     "text": [
      "two_layer_net(\n",
      "  (layer1): Linear(in_features=2, out_features=5, bias=True)\n",
      "  (layer2): Linear(in_features=5, out_features=3, bias=True)\n",
      ")\n"
     ]
    }
   ],
   "source": [
    "print(net)"
   ]
  },
  {
   "cell_type": "markdown",
   "metadata": {},
   "source": [
    "### We can access the first module as follow:"
   ]
  },
  {
   "cell_type": "code",
   "execution_count": 9,
   "metadata": {},
   "outputs": [
    {
     "name": "stdout",
     "output_type": "stream",
     "text": [
      "Linear(in_features=2, out_features=5, bias=True)\n"
     ]
    }
   ],
   "source": [
    "print(net.layer1)"
   ]
  },
  {
   "cell_type": "markdown",
   "metadata": {},
   "source": [
    "### To get the weights and bias of the first layer we do:"
   ]
  },
  {
   "cell_type": "code",
   "execution_count": 10,
   "metadata": {},
   "outputs": [
    {
     "name": "stdout",
     "output_type": "stream",
     "text": [
      "Parameter containing:\n",
      "tensor([[-0.2154, -0.1284],\n",
      "        [ 0.6623, -0.0772],\n",
      "        [ 0.5384, -0.3124],\n",
      "        [ 0.6685,  0.2045],\n",
      "        [ 0.1906, -0.6400]], requires_grad=True)\n"
     ]
    }
   ],
   "source": [
    "print(net.layer1.weight)"
   ]
  },
  {
   "cell_type": "code",
   "execution_count": 11,
   "metadata": {
    "scrolled": true
   },
   "outputs": [
    {
     "name": "stdout",
     "output_type": "stream",
     "text": [
      "Parameter containing:\n",
      "tensor([-0.6961,  0.1117, -0.6932,  0.6247, -0.3533], requires_grad=True)\n"
     ]
    }
   ],
   "source": [
    "print(net.layer1.bias)"
   ]
  },
  {
   "cell_type": "markdown",
   "metadata": {},
   "source": [
    "### So to change the first row of the weights from layer 1 you would do:"
   ]
  },
  {
   "cell_type": "code",
   "execution_count": 12,
   "metadata": {},
   "outputs": [
    {
     "name": "stdout",
     "output_type": "stream",
     "text": [
      "Parameter containing:\n",
      "tensor([[10.0000, 20.0000],\n",
      "        [ 0.6623, -0.0772],\n",
      "        [ 0.5384, -0.3124],\n",
      "        [ 0.6685,  0.2045],\n",
      "        [ 0.1906, -0.6400]], grad_fn=<CopySlices>)\n"
     ]
    }
   ],
   "source": [
    "net.layer1.weight[0,0]=10\n",
    "net.layer1.weight[0,1]=20\n",
    "\n",
    "print(net.layer1.weight)"
   ]
  },
  {
   "cell_type": "markdown",
   "metadata": {},
   "source": [
    "### Now we are gong to feed  $x=\\begin{bmatrix}1\\\\1 \\end{bmatrix}$ to this modified network:"
   ]
  },
  {
   "cell_type": "code",
   "execution_count": 13,
   "metadata": {},
   "outputs": [
    {
     "name": "stdout",
     "output_type": "stream",
     "text": [
      "tensor([4.2115e-03, 1.1709e-07, 9.9579e-01], grad_fn=<SoftmaxBackward>)\n"
     ]
    }
   ],
   "source": [
    "p=net(x)\n",
    "print(p)"
   ]
  },
  {
   "cell_type": "markdown",
   "metadata": {},
   "source": [
    "### Alternatively, all the parameters of the network can be accessed by net.parameters(). "
   ]
  },
  {
   "cell_type": "code",
   "execution_count": 14,
   "metadata": {},
   "outputs": [
    {
     "name": "stdout",
     "output_type": "stream",
     "text": [
      "[Parameter containing:\n",
      "tensor([[10.0000, 20.0000],\n",
      "        [ 0.6623, -0.0772],\n",
      "        [ 0.5384, -0.3124],\n",
      "        [ 0.6685,  0.2045],\n",
      "        [ 0.1906, -0.6400]], grad_fn=<CopySlices>), Parameter containing:\n",
      "tensor([-0.6961,  0.1117, -0.6932,  0.6247, -0.3533], requires_grad=True), Parameter containing:\n",
      "tensor([[-0.0788, -0.4054,  0.2040,  0.2302, -0.4201],\n",
      "        [-0.4101, -0.3834, -0.2318, -0.1299, -0.3589],\n",
      "        [ 0.1029, -0.2742,  0.1420,  0.4409,  0.2585]], requires_grad=True), Parameter containing:\n",
      "tensor([ 0.0557, -0.2020, -0.2112], requires_grad=True)]\n"
     ]
    }
   ],
   "source": [
    "list_of_param = list( net.parameters() )\n",
    "print(list_of_param)"
   ]
  },
  {
   "cell_type": "code",
   "execution_count": null,
   "metadata": {},
   "outputs": [],
   "source": []
  }
 ],
 "metadata": {
  "kernelspec": {
   "display_name": "dl_CE7454",
   "language": "python",
   "name": "dl_ce7454"
  },
  "language_info": {
   "codemirror_mode": {
    "name": "ipython",
    "version": 3
   },
   "file_extension": ".py",
   "mimetype": "text/x-python",
   "name": "python",
   "nbconvert_exporter": "python",
   "pygments_lexer": "ipython3",
   "version": "3.6.6"
  }
 },
 "nbformat": 4,
 "nbformat_minor": 2
}
