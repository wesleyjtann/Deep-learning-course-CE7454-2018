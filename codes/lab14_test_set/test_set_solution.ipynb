{
 "cells": [
  {
   "cell_type": "markdown",
   "metadata": {},
   "source": [
    "# Lab 14: Test set evaluation -- solution"
   ]
  },
  {
   "cell_type": "code",
   "execution_count": 1,
   "metadata": {},
   "outputs": [],
   "source": [
    "import torch\n",
    "import torch.nn as nn\n",
    "import torch.nn.functional as F\n",
    "import torch.optim as optim\n",
    "from random import randint\n",
    "import utils"
   ]
  },
  {
   "cell_type": "markdown",
   "metadata": {},
   "source": [
    "### Download the CIFAR dataset -- check the size carefully!"
   ]
  },
  {
   "cell_type": "code",
   "execution_count": 2,
   "metadata": {},
   "outputs": [
    {
     "name": "stdout",
     "output_type": "stream",
     "text": [
      "torch.Size([50000, 3, 32, 32])\n"
     ]
    }
   ],
   "source": [
    "train_data=torch.load('../data/cifar/train_data.pt')\n",
    "train_label=torch.load('../data/cifar/train_label.pt')\n",
    "test_data=torch.load('../data/cifar/test_data.pt')\n",
    "test_label=torch.load('../data/cifar/test_label.pt')\n",
    "\n",
    "print(train_data.size())"
   ]
  },
  {
   "cell_type": "markdown",
   "metadata": {},
   "source": [
    "### Make a ONE layer net class. "
   ]
  },
  {
   "cell_type": "code",
   "execution_count": 3,
   "metadata": {},
   "outputs": [],
   "source": [
    "class one_layer_net(nn.Module):\n",
    "\n",
    "    def __init__(self, input_size, output_size):\n",
    "        super(one_layer_net , self).__init__()\n",
    "        self.linear_layer = nn.Linear( input_size, output_size , bias=True)\n",
    "        \n",
    "    def forward(self, x):\n",
    "        scores = self.linear_layer(x)\n",
    "        return scores"
   ]
  },
  {
   "cell_type": "markdown",
   "metadata": {},
   "source": [
    "### Build the net. "
   ]
  },
  {
   "cell_type": "code",
   "execution_count": 4,
   "metadata": {},
   "outputs": [
    {
     "name": "stdout",
     "output_type": "stream",
     "text": [
      "one_layer_net(\n",
      "  (linear_layer): Linear(in_features=3072, out_features=10, bias=True)\n",
      ")\n"
     ]
    }
   ],
   "source": [
    "net=one_layer_net(3072,10)\n",
    "print(net)"
   ]
  },
  {
   "cell_type": "markdown",
   "metadata": {},
   "source": [
    "### Choose the criterion and optimizer. Also choose:\n"
   ]
  },
  {
   "cell_type": "code",
   "execution_count": 5,
   "metadata": {},
   "outputs": [],
   "source": [
    "criterion = nn.CrossEntropyLoss()\n",
    "optimizer=torch.optim.SGD( net.parameters() , lr=0.01 )\n",
    "bs=20"
   ]
  },
  {
   "cell_type": "markdown",
   "metadata": {},
   "source": [
    "### Do 50 passes through the training set."
   ]
  },
  {
   "cell_type": "code",
   "execution_count": 6,
   "metadata": {},
   "outputs": [
    {
     "name": "stdout",
     "output_type": "stream",
     "text": [
      "epoch= 0 \t loss= 1.9606445921421052 \t error= 69.72800000667571 percent\n",
      "epoch= 1 \t loss= 1.86200466299057 \t error= 65.27199998378754 percent\n",
      "epoch= 2 \t loss= 1.8408433421611785 \t error= 64.29999990940094 percent\n",
      "epoch= 3 \t loss= 1.8168387707710265 \t error= 63.289999988079074 percent\n",
      "epoch= 4 \t loss= 1.8066944542884826 \t error= 62.80400000095368 percent\n",
      "epoch= 5 \t loss= 1.7945659608364106 \t error= 62.18799994707107 percent\n",
      "epoch= 6 \t loss= 1.788796676683426 \t error= 61.978000006675714 percent\n",
      "epoch= 7 \t loss= 1.7866448153018952 \t error= 61.93799997329712 percent\n",
      "epoch= 8 \t loss= 1.778327439212799 \t error= 61.56600001335144 percent\n",
      "epoch= 9 \t loss= 1.7725445796012878 \t error= 61.37400002479553 percent\n",
      "epoch= 10 \t loss= 1.7689770634651185 \t error= 61.0940000128746 percent\n",
      "epoch= 11 \t loss= 1.7637074474573136 \t error= 60.77200000524521 percent\n",
      "epoch= 12 \t loss= 1.7649710573673247 \t error= 60.968000025749205 percent\n",
      "epoch= 13 \t loss= 1.7562139580011369 \t error= 60.63199997663497 percent\n",
      "epoch= 14 \t loss= 1.7596729868888854 \t error= 60.983999953269965 percent\n",
      "epoch= 15 \t loss= 1.7525114797115326 \t error= 60.582000033855444 percent\n",
      "epoch= 16 \t loss= 1.748472971367836 \t error= 60.31800006628036 percent\n",
      "epoch= 17 \t loss= 1.7493482628583907 \t error= 60.61400000572205 percent\n",
      "epoch= 18 \t loss= 1.746622069168091 \t error= 60.37000000476838 percent\n",
      "epoch= 19 \t loss= 1.7441513356924057 \t error= 60.49800001382828 percent\n",
      "epoch= 20 \t loss= 1.7406386129379272 \t error= 59.95599997043609 percent\n",
      "epoch= 21 \t loss= 1.7427597580909728 \t error= 60.058000018596644 percent\n",
      "epoch= 22 \t loss= 1.7409333873271942 \t error= 59.99400001287461 percent\n",
      "epoch= 23 \t loss= 1.7393230455875397 \t error= 59.96200005292892 percent\n",
      "epoch= 24 \t loss= 1.734567226576805 \t error= 59.56599997520446 percent\n",
      "epoch= 25 \t loss= 1.7331416736364365 \t error= 59.67799993753433 percent\n",
      "epoch= 26 \t loss= 1.7343105752944947 \t error= 59.67000001668929 percent\n",
      "epoch= 27 \t loss= 1.7325075832128525 \t error= 59.64400003433228 percent\n",
      "epoch= 28 \t loss= 1.734445096230507 \t error= 59.75799997329712 percent\n",
      "epoch= 29 \t loss= 1.732524048614502 \t error= 59.667999975681305 percent\n",
      "epoch= 30 \t loss= 1.7298183567523957 \t error= 59.346000006198885 percent\n",
      "epoch= 31 \t loss= 1.724690782237053 \t error= 59.292000050544736 percent\n",
      "epoch= 32 \t loss= 1.7272480617046355 \t error= 59.26200011730194 percent\n",
      "epoch= 33 \t loss= 1.7252271740913392 \t error= 59.434000060558326 percent\n",
      "epoch= 34 \t loss= 1.724490095424652 \t error= 59.42600001096725 percent\n",
      "epoch= 35 \t loss= 1.726795250749588 \t error= 59.3420000576973 percent\n",
      "epoch= 36 \t loss= 1.7200615767240524 \t error= 59.16999994277954 percent\n",
      "epoch= 37 \t loss= 1.721089314031601 \t error= 59.08600003957748 percent\n",
      "epoch= 38 \t loss= 1.7200979746818543 \t error= 59.28800006628037 percent\n",
      "epoch= 39 \t loss= 1.719936470937729 \t error= 59.26800000667573 percent\n",
      "epoch= 40 \t loss= 1.7172103118419648 \t error= 59.11800001621247 percent\n",
      "epoch= 41 \t loss= 1.7186074729442598 \t error= 59.070000042915346 percent\n",
      "epoch= 42 \t loss= 1.7151687094211578 \t error= 58.8740000128746 percent\n",
      "epoch= 43 \t loss= 1.7137847528219223 \t error= 58.97400008440018 percent\n",
      "epoch= 44 \t loss= 1.716673305630684 \t error= 59.06199999332428 percent\n",
      "epoch= 45 \t loss= 1.7140540648698808 \t error= 58.71399996519089 percent\n",
      "epoch= 46 \t loss= 1.710301333475113 \t error= 58.86599997282028 percent\n",
      "epoch= 47 \t loss= 1.7149981040239335 \t error= 58.88600004911423 percent\n",
      "epoch= 48 \t loss= 1.7117472350597382 \t error= 58.693999960422516 percent\n",
      "epoch= 49 \t loss= 1.7146368760824204 \t error= 58.82399999141693 percent\n"
     ]
    }
   ],
   "source": [
    "for epoch in range(50):\n",
    "    \n",
    "    running_loss=0\n",
    "    running_error=0\n",
    "    num_batches=0\n",
    "    \n",
    "    shuffled_indices=torch.randperm(50000)\n",
    " \n",
    "    for count in range(0,50000,bs):\n",
    "    \n",
    "        # Set the gradients to zeros\n",
    "        optimizer.zero_grad()\n",
    "        \n",
    "        # create a minibatch       \n",
    "        indices=shuffled_indices[count:count+bs]\n",
    "        minibatch_data =  train_data[indices]\n",
    "        minibatch_label= train_label[indices]\n",
    "\n",
    "        # reshape the minibatch\n",
    "        inputs = minibatch_data.view(bs,3072)\n",
    "\n",
    "        # tell Pytorch to start tracking all operations that will be done on \"inputs\"\n",
    "        inputs.requires_grad_()\n",
    "\n",
    "        # forward the minibatch through the net \n",
    "        scores=net( inputs ) \n",
    "\n",
    "        # Compute the average of the losses of the data points in the minibatch\n",
    "        loss =  criterion( scores , minibatch_label) \n",
    "        \n",
    "        # backward pass to compute dL/dU, dL/dV and dL/dW   \n",
    "        loss.backward()\n",
    "\n",
    "        # do one step of stochastic gradient descent: U=U-lr(dL/dU), V=V-lr(dL/dU), ...\n",
    "        optimizer.step()\n",
    "        \n",
    "        # START COMPUTING STATS\n",
    "        \n",
    "        # add the loss of this batch to the running loss\n",
    "        running_loss += loss.detach().item()\n",
    "        \n",
    "        # compute the error made on this batch and add it to the running error       \n",
    "        error = utils.get_error( scores.detach() , minibatch_label)\n",
    "        running_error += error.item()\n",
    "        \n",
    "        num_batches+=1\n",
    "    \n",
    "    \n",
    "    # compute stats for the full training set\n",
    "    total_loss = running_loss/num_batches\n",
    "    total_error = running_error/num_batches\n",
    "    \n",
    "    print('epoch=',epoch, '\\t loss=', total_loss , '\\t error=', total_error*100 ,'percent')\n",
    "        \n",
    "    \n",
    "        \n",
    "        "
   ]
  },
  {
   "cell_type": "markdown",
   "metadata": {},
   "source": [
    "# You only have to complete this cell"
   ]
  },
  {
   "cell_type": "markdown",
   "metadata": {},
   "source": [
    "### So we are doing around 59% error on the training set, how much are we doing on test set?"
   ]
  },
  {
   "cell_type": "code",
   "execution_count": 7,
   "metadata": {},
   "outputs": [
    {
     "name": "stdout",
     "output_type": "stream",
     "text": [
      "error rate on test set = 64.39000008106231 percent\n"
     ]
    }
   ],
   "source": [
    "running_error=0\n",
    "num_batches=0\n",
    "\n",
    "\n",
    "for i in range(0,10000,bs):\n",
    "\n",
    "    # extract the minibatch\n",
    "    minibatch_data =  test_data[i:i+bs]\n",
    "    minibatch_label= test_label[i:i+bs]\n",
    "\n",
    "    # reshape the minibatch\n",
    "    inputs = minibatch_data.view(bs,3072)\n",
    "\n",
    "    # feed it to the network\n",
    "    scores=net( inputs ) \n",
    "\n",
    "    # compute the error made on this batch\n",
    "    error = utils.get_error( scores , minibatch_label)\n",
    "    \n",
    "    # add it to the running error\n",
    "    running_error += error.item()\n",
    "\n",
    "    num_batches+=1\n",
    "\n",
    "\n",
    "# compute error rate on the full test set\n",
    "total_error = running_error/num_batches\n",
    "\n",
    "print( 'error rate on test set =', total_error*100 ,'percent')"
   ]
  },
  {
   "cell_type": "markdown",
   "metadata": {},
   "source": [
    "### Choose image at random from the test set and see how good/bad are the predictions"
   ]
  },
  {
   "cell_type": "code",
   "execution_count": 8,
   "metadata": {},
   "outputs": [
    {
     "data": {
      "image/png": "[encoded data removed]",
      "text/plain": [
       "<Figure size 432x288 with 1 Axes>"
      ]
     },
     "metadata": {},
     "output_type": "display_data"
    },
    {
     "data": {
      "image/png": "[encoded data removed]",
      "text/plain": [
       "<Figure size 640x480 with 1 Axes>"
      ]
     },
     "metadata": {},
     "output_type": "display_data"
    }
   ],
   "source": [
    "# choose a picture at random\n",
    "idx=randint(0, 10000-1)\n",
    "im=test_data[idx]\n",
    "\n",
    "# diplay the picture\n",
    "utils.show(im)\n",
    "\n",
    "# feed it to the net and display the confidence scores\n",
    "scores =  net( im.view(1,3072)) \n",
    "probs= F.softmax(scores, dim=1)\n",
    "utils.show_prob_cifar(probs)"
   ]
  },
  {
   "cell_type": "code",
   "execution_count": null,
   "metadata": {},
   "outputs": [],
   "source": []
  }
 ],
 "metadata": {
  "kernelspec": {
   "display_name": "Python 3",
   "language": "python",
   "name": "python3"
  },
  "language_info": {
   "codemirror_mode": {
    "name": "ipython",
    "version": 3
   },
   "file_extension": ".py",
   "mimetype": "text/x-python",
   "name": "python",
   "nbconvert_exporter": "python",
   "pygments_lexer": "ipython3",
   "version": "3.6.6"
  }
 },
 "nbformat": 4,
 "nbformat_minor": 2
}
