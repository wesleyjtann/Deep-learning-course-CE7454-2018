{
 "cells": [
  {
   "cell_type": "markdown",
   "metadata": {},
   "source": [
    "# Lab 01: Introduction to Python"
   ]
  },
  {
   "cell_type": "markdown",
   "metadata": {},
   "source": [
    "### Strings"
   ]
  },
  {
   "cell_type": "code",
   "execution_count": 1,
   "metadata": {},
   "outputs": [
    {
     "name": "stdout",
     "output_type": "stream",
     "text": [
      "hello\n"
     ]
    }
   ],
   "source": [
    "s1='hello'\n",
    "print(s1)"
   ]
  },
  {
   "cell_type": "code",
   "execution_count": 2,
   "metadata": {},
   "outputs": [
    {
     "data": {
      "text/plain": [
       "str"
      ]
     },
     "execution_count": 2,
     "metadata": {},
     "output_type": "execute_result"
    }
   ],
   "source": [
    "type(s1)"
   ]
  },
  {
   "cell_type": "code",
   "execution_count": 3,
   "metadata": {},
   "outputs": [
    {
     "name": "stdout",
     "output_type": "stream",
     "text": [
      "hello world\n"
     ]
    }
   ],
   "source": [
    "s2='world'\n",
    "print(s1,s2)"
   ]
  },
  {
   "cell_type": "code",
   "execution_count": 4,
   "metadata": {},
   "outputs": [
    {
     "name": "stdout",
     "output_type": "stream",
     "text": [
      "hello \t world\n"
     ]
    }
   ],
   "source": [
    "print(s1,'\\t',s2)"
   ]
  },
  {
   "cell_type": "code",
   "execution_count": 5,
   "metadata": {},
   "outputs": [
    {
     "name": "stdout",
     "output_type": "stream",
     "text": [
      "HELLO\n"
     ]
    }
   ],
   "source": [
    "print(s1.upper())"
   ]
  },
  {
   "cell_type": "markdown",
   "metadata": {},
   "source": [
    "### Numbers"
   ]
  },
  {
   "cell_type": "code",
   "execution_count": 6,
   "metadata": {},
   "outputs": [
    {
     "name": "stdout",
     "output_type": "stream",
     "text": [
      "5\n",
      "-0.3\n"
     ]
    }
   ],
   "source": [
    "x=5\n",
    "y=-0.3\n",
    "print(x)\n",
    "print(y)"
   ]
  },
  {
   "cell_type": "code",
   "execution_count": 7,
   "metadata": {},
   "outputs": [
    {
     "data": {
      "text/plain": [
       "int"
      ]
     },
     "execution_count": 7,
     "metadata": {},
     "output_type": "execute_result"
    }
   ],
   "source": [
    "type(x)"
   ]
  },
  {
   "cell_type": "code",
   "execution_count": 8,
   "metadata": {},
   "outputs": [
    {
     "data": {
      "text/plain": [
       "float"
      ]
     },
     "execution_count": 8,
     "metadata": {},
     "output_type": "execute_result"
    }
   ],
   "source": [
    "type(y)"
   ]
  },
  {
   "cell_type": "code",
   "execution_count": 9,
   "metadata": {},
   "outputs": [
    {
     "name": "stdout",
     "output_type": "stream",
     "text": [
      "4.7\n"
     ]
    }
   ],
   "source": [
    "z=x+y\n",
    "print(z)"
   ]
  },
  {
   "cell_type": "code",
   "execution_count": 10,
   "metadata": {},
   "outputs": [
    {
     "name": "stdout",
     "output_type": "stream",
     "text": [
      "x+y = 4.7\n"
     ]
    }
   ],
   "source": [
    "print('x+y =' , z)"
   ]
  },
  {
   "cell_type": "code",
   "execution_count": 11,
   "metadata": {},
   "outputs": [
    {
     "name": "stdout",
     "output_type": "stream",
     "text": [
      "x=2.35789, x=2.4\n"
     ]
    }
   ],
   "source": [
    "x=2.35789202950400\n",
    "print('x={:2.5f}, x={:.1f}'.format(x,x))"
   ]
  },
  {
   "cell_type": "markdown",
   "metadata": {},
   "source": [
    "### Boolean"
   ]
  },
  {
   "cell_type": "code",
   "execution_count": 12,
   "metadata": {},
   "outputs": [
    {
     "name": "stdout",
     "output_type": "stream",
     "text": [
      "True\n",
      "False\n"
     ]
    }
   ],
   "source": [
    "b1=True\n",
    "b2=False\n",
    "\n",
    "print(b1)\n",
    "print(b2)"
   ]
  },
  {
   "cell_type": "code",
   "execution_count": 13,
   "metadata": {},
   "outputs": [
    {
     "data": {
      "text/plain": [
       "bool"
      ]
     },
     "execution_count": 13,
     "metadata": {},
     "output_type": "execute_result"
    }
   ],
   "source": [
    "type(b1)"
   ]
  },
  {
   "cell_type": "markdown",
   "metadata": {},
   "source": [
    "### Loops"
   ]
  },
  {
   "cell_type": "code",
   "execution_count": 14,
   "metadata": {},
   "outputs": [
    {
     "name": "stdout",
     "output_type": "stream",
     "text": [
      "0\n",
      "1\n",
      "2\n",
      "3\n",
      "4\n",
      "5\n",
      "6\n",
      "7\n",
      "8\n",
      "9\n"
     ]
    }
   ],
   "source": [
    "for i in range(0,10):\n",
    "    print(i)"
   ]
  },
  {
   "cell_type": "code",
   "execution_count": 15,
   "metadata": {},
   "outputs": [
    {
     "name": "stdout",
     "output_type": "stream",
     "text": [
      "i= 1 \t i^2= 1\n",
      "i= 2 \t i^2= 4\n",
      "i= 3 \t i^2= 9\n",
      "i= 4 \t i^2= 16\n",
      "i= 5 \t i^2= 25\n",
      "i= 6 \t i^2= 36\n",
      "i= 7 \t i^2= 49\n",
      "i= 8 \t i^2= 64\n",
      "i= 9 \t i^2= 81\n"
     ]
    }
   ],
   "source": [
    "for i in range(1,10):\n",
    "    print('i=', i , '\\t i^2=', i**2)"
   ]
  },
  {
   "cell_type": "markdown",
   "metadata": {},
   "source": [
    "### Loops with step size"
   ]
  },
  {
   "cell_type": "code",
   "execution_count": 16,
   "metadata": {},
   "outputs": [
    {
     "name": "stdout",
     "output_type": "stream",
     "text": [
      "0\n",
      "2\n",
      "4\n",
      "6\n",
      "8\n"
     ]
    }
   ],
   "source": [
    "for i in range(0,10,2):\n",
    "    print(i)"
   ]
  },
  {
   "cell_type": "markdown",
   "metadata": {},
   "source": [
    "### If statement"
   ]
  },
  {
   "cell_type": "code",
   "execution_count": 17,
   "metadata": {},
   "outputs": [
    {
     "name": "stdout",
     "output_type": "stream",
     "text": [
      "x is non zero\n"
     ]
    }
   ],
   "source": [
    "x=5\n",
    "\n",
    "if x == 0:\n",
    "    print('x equal zero')\n",
    "else:\n",
    "    print('x is non zero')"
   ]
  },
  {
   "cell_type": "code",
   "execution_count": 18,
   "metadata": {},
   "outputs": [
    {
     "name": "stdout",
     "output_type": "stream",
     "text": [
      "hello\n"
     ]
    }
   ],
   "source": [
    "loud=False\n",
    "mystring='hello'\n",
    "\n",
    "if loud:\n",
    "    print(mystring.upper())\n",
    "else:\n",
    "    print(mystring)"
   ]
  },
  {
   "cell_type": "markdown",
   "metadata": {},
   "source": [
    "### Intendation"
   ]
  },
  {
   "cell_type": "code",
   "execution_count": 19,
   "metadata": {},
   "outputs": [
    {
     "name": "stdout",
     "output_type": "stream",
     "text": [
      "-3  is negative\n",
      "-2  is negative\n",
      "-1  is negative\n",
      "0  is equal to zero\n",
      "1  is positive\n",
      "2  is positive\n",
      "out of the loop\n"
     ]
    }
   ],
   "source": [
    "for i in range(-3,3):\n",
    "    \n",
    "    if i<0:\n",
    "        print(i , ' is negative')\n",
    "    elif i>0:\n",
    "        print(i,' is positive' )\n",
    "    else:\n",
    "        print(i,' is equal to zero')\n",
    "        \n",
    "print('out of the loop')"
   ]
  },
  {
   "cell_type": "code",
   "execution_count": 20,
   "metadata": {},
   "outputs": [
    {
     "name": "stdout",
     "output_type": "stream",
     "text": [
      "-3  is negative\n",
      "in the loop\n",
      "-2  is negative\n",
      "in the loop\n",
      "-1  is negative\n",
      "in the loop\n",
      "0  is equal to zero\n",
      "in the loop\n",
      "1  is positive\n",
      "in the loop\n",
      "2  is positive\n",
      "in the loop\n"
     ]
    }
   ],
   "source": [
    "for i in range(-3,3):\n",
    "    \n",
    "    if i<0:\n",
    "        print(i , ' is negative')\n",
    "    elif i>0:\n",
    "        print(i,' is positive' )\n",
    "    else:\n",
    "        print(i,' is equal to zero')\n",
    "        \n",
    "    print('in the loop')"
   ]
  },
  {
   "cell_type": "code",
   "execution_count": 21,
   "metadata": {},
   "outputs": [
    {
     "name": "stdout",
     "output_type": "stream",
     "text": [
      "-3  is negative\n",
      "-2  is negative\n",
      "-1  is negative\n",
      "0  is equal to zero\n",
      "in the else statement\n",
      "1  is positive\n",
      "2  is positive\n"
     ]
    }
   ],
   "source": [
    "for i in range(-3,3):\n",
    "    \n",
    "    if i<0:\n",
    "        print(i , ' is negative')\n",
    "    elif i>0:\n",
    "        print(i,' is positive' )\n",
    "    else:\n",
    "        print(i,' is equal to zero')\n",
    "        \n",
    "        print('in the else statement')"
   ]
  },
  {
   "cell_type": "markdown",
   "metadata": {},
   "source": [
    "### Load libraries"
   ]
  },
  {
   "cell_type": "markdown",
   "metadata": {},
   "source": [
    "List all libraries modudels: lib. + tab\n",
    "\n",
    "List properties of the module: lib.abs + shit + tab"
   ]
  },
  {
   "cell_type": "code",
   "execution_count": 22,
   "metadata": {},
   "outputs": [],
   "source": [
    "import numpy as np"
   ]
  },
  {
   "cell_type": "code",
   "execution_count": 23,
   "metadata": {},
   "outputs": [
    {
     "data": {
      "text/plain": [
       "<ufunc 'absolute'>"
      ]
     },
     "execution_count": 23,
     "metadata": {},
     "output_type": "execute_result"
    }
   ],
   "source": [
    "np.abs"
   ]
  },
  {
   "cell_type": "markdown",
   "metadata": {},
   "source": [
    "### Functions "
   ]
  },
  {
   "cell_type": "code",
   "execution_count": 24,
   "metadata": {},
   "outputs": [],
   "source": [
    "def myfun(x,y):\n",
    "    \n",
    "    z = x**2 + y\n",
    "    \n",
    "    return z"
   ]
  },
  {
   "cell_type": "code",
   "execution_count": 25,
   "metadata": {
    "scrolled": true
   },
   "outputs": [
    {
     "name": "stdout",
     "output_type": "stream",
     "text": [
      "10\n"
     ]
    }
   ],
   "source": [
    "z=myfun(3,1)\n",
    "print(z)"
   ]
  },
  {
   "cell_type": "markdown",
   "metadata": {},
   "source": [
    "### Functions are just another type of object, like strings, floats, or boolean"
   ]
  },
  {
   "cell_type": "code",
   "execution_count": 26,
   "metadata": {},
   "outputs": [
    {
     "data": {
      "text/plain": [
       "function"
      ]
     },
     "execution_count": 26,
     "metadata": {},
     "output_type": "execute_result"
    }
   ],
   "source": [
    "type(myfun)"
   ]
  },
  {
   "cell_type": "markdown",
   "metadata": {},
   "source": [
    "### The sign function"
   ]
  },
  {
   "cell_type": "code",
   "execution_count": 27,
   "metadata": {},
   "outputs": [],
   "source": [
    "def sign(x):\n",
    "    \n",
    "    if x > 0:\n",
    "        mystring='positive'\n",
    "    elif x < 0:\n",
    "        mystring= 'negative'\n",
    "    else:\n",
    "        mystring= 'zero'\n",
    "        \n",
    "    return mystring"
   ]
  },
  {
   "cell_type": "code",
   "execution_count": 28,
   "metadata": {},
   "outputs": [
    {
     "name": "stdout",
     "output_type": "stream",
     "text": [
      "positive\n"
     ]
    }
   ],
   "source": [
    "string= sign(0.5)\n",
    "print(string)"
   ]
  },
  {
   "cell_type": "markdown",
   "metadata": {},
   "source": [
    "### The greeting function"
   ]
  },
  {
   "cell_type": "code",
   "execution_count": 29,
   "metadata": {},
   "outputs": [],
   "source": [
    "def hello(name, loud):\n",
    "    \n",
    "    if loud:\n",
    "        print('HELLO', name.upper(), '!')\n",
    "    else:\n",
    "        print('Hello', name)\n",
    "        "
   ]
  },
  {
   "cell_type": "code",
   "execution_count": 30,
   "metadata": {},
   "outputs": [
    {
     "name": "stdout",
     "output_type": "stream",
     "text": [
      "Hello Bob\n",
      "HELLO FRED !\n"
     ]
    }
   ],
   "source": [
    "hello('Bob', False) \n",
    "hello('Fred', True)  # Prints \"HELLO, FRED!\""
   ]
  },
  {
   "cell_type": "markdown",
   "metadata": {},
   "source": [
    "### Classes"
   ]
  },
  {
   "cell_type": "markdown",
   "metadata": {},
   "source": [
    "### A simple class for complex numbers : real + i imag"
   ]
  },
  {
   "cell_type": "code",
   "execution_count": 31,
   "metadata": {},
   "outputs": [],
   "source": [
    "class Complex:\n",
    "    \n",
    "    # constructor:\n",
    "    def __init__( self,  real_part,  imaginary_part ):\n",
    "        self.re = real_part\n",
    "        self.im = imaginary_part\n",
    "        \n",
    "    # methods/functions:\n",
    "    \n",
    "    def display(self):\n",
    "        print( self.re,'+',self.im,'i')\n",
    "            \n",
    "    def compute_modulus(self):\n",
    "        modulus = ( self.re**2 + self.im**2 )**(1/2)\n",
    "        return modulus\n",
    "    \n",
    "    def multiply_by(self,scalar):\n",
    "        self.re = self.re * scalar\n",
    "        self.im = self.im * scalar\n",
    "    "
   ]
  },
  {
   "cell_type": "code",
   "execution_count": 32,
   "metadata": {},
   "outputs": [
    {
     "name": "stdout",
     "output_type": "stream",
     "text": [
      "<__main__.Complex object at 0x10544a710>\n"
     ]
    }
   ],
   "source": [
    "# Create an instance\n",
    "z=Complex(4,3)\n",
    "print(z)"
   ]
  },
  {
   "cell_type": "code",
   "execution_count": 33,
   "metadata": {},
   "outputs": [
    {
     "name": "stdout",
     "output_type": "stream",
     "text": [
      "4\n",
      "3\n"
     ]
    }
   ],
   "source": [
    "# Access the attributes\n",
    "print(z.re)\n",
    "print(z.im)"
   ]
  },
  {
   "cell_type": "code",
   "execution_count": 34,
   "metadata": {},
   "outputs": [
    {
     "name": "stdout",
     "output_type": "stream",
     "text": [
      "4 + 3 i\n"
     ]
    }
   ],
   "source": [
    "# Use the display() method\n",
    "z.display()"
   ]
  },
  {
   "cell_type": "code",
   "execution_count": 35,
   "metadata": {},
   "outputs": [
    {
     "name": "stdout",
     "output_type": "stream",
     "text": [
      "5.0\n"
     ]
    }
   ],
   "source": [
    "# Compute the modulus\n",
    "m=z.compute_modulus()\n",
    "print(m)"
   ]
  },
  {
   "cell_type": "code",
   "execution_count": 36,
   "metadata": {},
   "outputs": [
    {
     "name": "stdout",
     "output_type": "stream",
     "text": [
      "20 + 15 i\n",
      "20\n"
     ]
    }
   ],
   "source": [
    "# Change the attributes\n",
    "z.multiply_by(5)\n",
    "z.display()\n",
    "print(z.re)\n"
   ]
  },
  {
   "cell_type": "markdown",
   "metadata": {},
   "source": [
    "### Optional"
   ]
  },
  {
   "cell_type": "markdown",
   "metadata": {},
   "source": [
    "### Load and save data"
   ]
  },
  {
   "cell_type": "code",
   "execution_count": 37,
   "metadata": {},
   "outputs": [
    {
     "data": {
      "text/plain": [
       "'/Users/xbresson/Documents/10_NTU_2017_now/04_Teaching/27_CE7454_S1_2018/07_codes/lab01_python'"
      ]
     },
     "execution_count": 37,
     "metadata": {},
     "output_type": "execute_result"
    }
   ],
   "source": [
    "pwd"
   ]
  },
  {
   "cell_type": "code",
   "execution_count": 38,
   "metadata": {},
   "outputs": [
    {
     "name": "stdout",
     "output_type": "stream",
     "text": [
      "total 184\r\n",
      "drwxr-xr-x   4 xbresson  staff    128 Aug  9 11:29 \u001b[1m\u001b[36m.\u001b[m\u001b[m/\r\n",
      "drwxr-xr-x  23 xbresson  staff    736 Aug 13 19:01 \u001b[1m\u001b[36m..\u001b[m\u001b[m/\r\n",
      "drwxr-xr-x   3 xbresson  staff     96 Aug  9 11:28 \u001b[1m\u001b[36m.ipynb_checkpoints\u001b[m\u001b[m/\r\n",
      "-rw-r--r--@  1 xbresson  staff  91777 Aug  9 11:29 python_introduction.ipynb\r\n"
     ]
    }
   ],
   "source": [
    "ls -al"
   ]
  },
  {
   "cell_type": "code",
   "execution_count": 39,
   "metadata": {},
   "outputs": [
    {
     "name": "stdout",
     "output_type": "stream",
     "text": [
      "/Users/xbresson/Documents/10_NTU_2017_now/04_Teaching/27_CE7454_S1_2018/07_codes\n"
     ]
    }
   ],
   "source": [
    "cd .."
   ]
  },
  {
   "cell_type": "code",
   "execution_count": 40,
   "metadata": {},
   "outputs": [
    {
     "data": {
      "text/plain": [
       "'/Users/xbresson/Documents/10_NTU_2017_now/04_Teaching/27_CE7454_S1_2018/07_codes'"
      ]
     },
     "execution_count": 40,
     "metadata": {},
     "output_type": "execute_result"
    }
   ],
   "source": [
    "pwd"
   ]
  },
  {
   "cell_type": "code",
   "execution_count": 41,
   "metadata": {},
   "outputs": [
    {
     "name": "stdout",
     "output_type": "stream",
     "text": [
      "/Users/xbresson/Documents/10_NTU_2017_now/04_Teaching/27_CE7454_S1_2018/07_codes/lab01_python\n"
     ]
    }
   ],
   "source": [
    "cd lab01_python"
   ]
  },
  {
   "cell_type": "code",
   "execution_count": 42,
   "metadata": {},
   "outputs": [
    {
     "name": "stdout",
     "output_type": "stream",
     "text": [
      "[[  6.1101   17.592  ]\n",
      " [  5.5277    9.1302 ]\n",
      " [  8.5186   13.662  ]\n",
      " [  7.0032   11.854  ]\n",
      " [  5.8598    6.8233 ]\n",
      " [  8.3829   11.886  ]\n",
      " [  7.4764    4.3483 ]\n",
      " [  8.5781   12.     ]\n",
      " [  6.4862    6.5987 ]\n",
      " [  5.0546    3.8166 ]\n",
      " [  5.7107    3.2522 ]\n",
      " [ 14.164    15.505  ]\n",
      " [  5.734     3.1551 ]\n",
      " [  8.4084    7.2258 ]\n",
      " [  5.6407    0.71618]\n",
      " [  5.3794    3.5129 ]\n",
      " [  6.3654    5.3048 ]\n",
      " [  5.1301    0.56077]\n",
      " [  6.4296    3.6518 ]\n",
      " [  7.0708    5.3893 ]\n",
      " [  6.1891    3.1386 ]\n",
      " [ 20.27     21.767  ]\n",
      " [  5.4901    4.263  ]\n",
      " [  6.3261    5.1875 ]\n",
      " [  5.5649    3.0825 ]\n",
      " [ 18.945    22.638  ]\n",
      " [ 12.828    13.501  ]\n",
      " [ 10.957     7.0467 ]\n",
      " [ 13.176    14.692  ]\n",
      " [ 22.203    24.147  ]\n",
      " [  5.2524   -1.22   ]\n",
      " [  6.5894    5.9966 ]\n",
      " [  9.2482   12.134  ]\n",
      " [  5.8918    1.8495 ]\n",
      " [  8.2111    6.5426 ]\n",
      " [  7.9334    4.5623 ]\n",
      " [  8.0959    4.1164 ]\n",
      " [  5.6063    3.3928 ]\n",
      " [ 12.836    10.117  ]\n",
      " [  6.3534    5.4974 ]\n",
      " [  5.4069    0.55657]\n",
      " [  6.8825    3.9115 ]\n",
      " [ 11.708     5.3854 ]\n",
      " [  5.7737    2.4406 ]\n",
      " [  7.8247    6.7318 ]\n",
      " [  7.0931    1.0463 ]\n",
      " [  5.0702    5.1337 ]\n",
      " [  5.8014    1.844  ]\n",
      " [ 11.7       8.0043 ]\n",
      " [  5.5416    1.0179 ]\n",
      " [  7.5402    6.7504 ]\n",
      " [  5.3077    1.8396 ]\n",
      " [  7.4239    4.2885 ]\n",
      " [  7.6031    4.9981 ]\n",
      " [  6.3328    1.4233 ]\n",
      " [  6.3589   -1.4211 ]\n",
      " [  6.2742    2.4756 ]\n",
      " [  5.6397    4.6042 ]\n",
      " [  9.3102    3.9624 ]\n",
      " [  9.4536    5.4141 ]\n",
      " [  8.8254    5.1694 ]\n",
      " [  5.1793   -0.74279]\n",
      " [ 21.279    17.929  ]\n",
      " [ 14.908    12.054  ]\n",
      " [ 18.959    17.054  ]\n",
      " [  7.2182    4.8852 ]\n",
      " [  8.2951    5.7442 ]\n",
      " [ 10.236     7.7754 ]\n",
      " [  5.4994    1.0173 ]\n",
      " [ 20.341    20.992  ]\n",
      " [ 10.136     6.6799 ]\n",
      " [  7.3345    4.0259 ]\n",
      " [  6.0062    1.2784 ]\n",
      " [  7.2259    3.3411 ]\n",
      " [  5.0269   -2.6807 ]\n",
      " [  6.5479    0.29678]\n",
      " [  7.5386    3.8845 ]\n",
      " [  5.0365    5.7014 ]\n",
      " [ 10.274     6.7526 ]\n",
      " [  5.1077    2.0576 ]\n",
      " [  5.7292    0.47953]\n",
      " [  5.1884    0.20421]\n",
      " [  6.3557    0.67861]\n",
      " [  9.7687    7.5435 ]\n",
      " [  6.5159    5.3436 ]\n",
      " [  8.5172    4.2415 ]\n",
      " [  9.1802    6.7981 ]\n",
      " [  6.002     0.92695]\n",
      " [  5.5204    0.152  ]\n",
      " [  5.0594    2.8214 ]\n",
      " [  5.7077    1.8451 ]\n",
      " [  7.6366    4.2959 ]\n",
      " [  5.8707    7.2029 ]\n",
      " [  5.3054    1.9869 ]\n",
      " [  8.2934    0.14454]\n",
      " [ 13.394     9.0551 ]\n",
      " [  5.4369    0.61705]]\n"
     ]
    }
   ],
   "source": [
    "data = np.loadtxt('../data/misc/profit_population.txt', delimiter=',')\n",
    "print(data)"
   ]
  },
  {
   "cell_type": "code",
   "execution_count": 43,
   "metadata": {},
   "outputs": [],
   "source": [
    "new_data = 2* data\n",
    "np.savetxt('../data/misc/profit_population_new.txt', new_data, delimiter=',', fmt='%2.5f')"
   ]
  },
  {
   "cell_type": "code",
   "execution_count": 44,
   "metadata": {},
   "outputs": [
    {
     "name": "stdout",
     "output_type": "stream",
     "text": [
      "Variable   Type        Data/Info\n",
      "--------------------------------\n",
      "Complex    type        <class '__main__.Complex'>\n",
      "b1         bool        True\n",
      "b2         bool        False\n",
      "data       ndarray     97x2: 194 elems, type `float64`, 1552 bytes\n",
      "hello      function    <function hello at 0x10544b400>\n",
      "i          int         2\n",
      "loud       bool        False\n",
      "m          float       5.0\n",
      "myfun      function    <function myfun at 0x105447c80>\n",
      "mystring   str         hello\n",
      "new_data   ndarray     97x2: 194 elems, type `float64`, 1552 bytes\n",
      "np         module      <module 'numpy' from '/Us<...>kages/numpy/__init__.py'>\n",
      "s1         str         hello\n",
      "s2         str         world\n",
      "sign       function    <function sign at 0x10544b268>\n",
      "string     str         positive\n",
      "x          int         5\n",
      "y          float       -0.3\n",
      "z          Complex     <__main__.Complex object at 0x10544a710>\n"
     ]
    }
   ],
   "source": [
    "%whos"
   ]
  },
  {
   "cell_type": "markdown",
   "metadata": {},
   "source": [
    "### Plotting data"
   ]
  },
  {
   "cell_type": "code",
   "execution_count": 45,
   "metadata": {},
   "outputs": [],
   "source": [
    "# Visualization library\n",
    "%matplotlib inline\n",
    "from IPython.display import set_matplotlib_formats\n",
    "set_matplotlib_formats('png2x','pdf')\n",
    "import matplotlib.pyplot as plt"
   ]
  },
  {
   "cell_type": "code",
   "execution_count": 46,
   "metadata": {},
   "outputs": [
    {
     "data": {
      "application/pdf": "[encoded data removed]",
      "image/png": "[encoded data removed]",
      "text/plain": [
       "<Figure size 432x288 with 1 Axes>"
      ]
     },
     "metadata": {
      "image/png": {
       "height": 277,
       "width": 402
      }
     },
     "output_type": "display_data"
    }
   ],
   "source": [
    "x = np.linspace(0,6*np.pi,100)\n",
    "#print(x)\n",
    "y = np.sin(x)\n",
    "\n",
    "plt.figure(1)\n",
    "plt.plot(x, y,label='sin'.format(i=1))\n",
    "plt.legend(loc='best')\n",
    "plt.title('Sin plotting')\n",
    "plt.xlabel('x')\n",
    "plt.ylabel('y')\n",
    "plt.show()"
   ]
  },
  {
   "cell_type": "markdown",
   "metadata": {},
   "source": [
    "### Vectorization and efficient linear algebra computations"
   ]
  },
  {
   "cell_type": "markdown",
   "metadata": {},
   "source": [
    "### No vectorization"
   ]
  },
  {
   "cell_type": "code",
   "execution_count": 47,
   "metadata": {},
   "outputs": [],
   "source": [
    "import time"
   ]
  },
  {
   "cell_type": "code",
   "execution_count": 48,
   "metadata": {},
   "outputs": [],
   "source": [
    "n = 10**7\n",
    "x = np.linspace(0,1,n)\n",
    "y = np.linspace(0,2,n)"
   ]
  },
  {
   "cell_type": "code",
   "execution_count": null,
   "metadata": {},
   "outputs": [],
   "source": [
    "start = time.time()\n",
    "z = 0\n",
    "for i in range(len(x)):\n",
    "    z += x[i]*y[i]\n",
    "end = time.time() - start\n",
    "print(z)\n",
    "print('Time=',end)"
   ]
  },
  {
   "cell_type": "markdown",
   "metadata": {},
   "source": [
    "### Vectorization"
   ]
  },
  {
   "cell_type": "code",
   "execution_count": null,
   "metadata": {},
   "outputs": [],
   "source": [
    "start = time.time()\n",
    "z = x.T.dot(y)\n",
    "end = time.time() - start\n",
    "print(z)\n",
    "print('Time=',end)"
   ]
  },
  {
   "cell_type": "markdown",
   "metadata": {},
   "source": [
    "Speed of vectorized codes maybe 2-3 orders of magnitude faster than unvectorized codes.\n",
    "\n",
    "Vectorized codes (with vectors, matrices) benefit from fast linear algebra libraries (BLAS, LAPACK) and adapted architectures for CPUs, multi-core CPUs, and GPUs."
   ]
  },
  {
   "cell_type": "code",
   "execution_count": null,
   "metadata": {},
   "outputs": [],
   "source": []
  }
 ],
 "metadata": {
  "kernelspec": {
   "display_name": "Python 3",
   "language": "python",
   "name": "python3"
  },
  "language_info": {
   "codemirror_mode": {
    "name": "ipython",
    "version": 3
   },
   "file_extension": ".py",
   "mimetype": "text/x-python",
   "name": "python",
   "nbconvert_exporter": "python",
   "pygments_lexer": "ipython3",
   "version": "3.6.6"
  }
 },
 "nbformat": 4,
 "nbformat_minor": 2
}
