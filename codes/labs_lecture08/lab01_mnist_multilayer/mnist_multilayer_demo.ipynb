{
 "cells": [
  {
   "cell_type": "markdown",
   "metadata": {},
   "source": [
    "# Lab 16: MNIST multi-layer -- demo"
   ]
  },
  {
   "cell_type": "code",
   "execution_count": 1,
   "metadata": {},
   "outputs": [],
   "source": [
    "import torch\n",
    "import torch.nn as nn\n",
    "import torch.nn.functional as F\n",
    "import torch.optim as optim\n",
    "from random import randint\n",
    "import time\n",
    "import utils"
   ]
  },
  {
   "cell_type": "markdown",
   "metadata": {},
   "source": [
    "### Download the data"
   ]
  },
  {
   "cell_type": "code",
   "execution_count": 2,
   "metadata": {},
   "outputs": [],
   "source": [
    "from utils import check_mnist_dataset_exists\n",
    "check_mnist_dataset_exists()\n",
    "\n",
    "train_data=torch.load('../data/mnist/train_data.pt')\n",
    "train_label=torch.load('../data/mnist/train_label.pt')\n",
    "test_data=torch.load('../data/mnist/test_data.pt')\n",
    "test_label=torch.load('../data/mnist/test_label.pt')"
   ]
  },
  {
   "cell_type": "markdown",
   "metadata": {},
   "source": [
    "### Make a two layer net class. "
   ]
  },
  {
   "cell_type": "code",
   "execution_count": 5,
   "metadata": {},
   "outputs": [],
   "source": [
    "class two_layer_net(nn.Module):\n",
    "\n",
    "    def __init__(self, input_size, hidden_size,  output_size):\n",
    "        super(two_layer_net , self).__init__()\n",
    "        \n",
    "        self.layer1 = nn.Linear(  input_size   , hidden_size  , bias=False  )\n",
    "        self.layer2 = nn.Linear(  hidden_size  , output_size   , bias=False  )\n",
    "        \n",
    "        \n",
    "    def forward(self, x):\n",
    "        \n",
    "        y       = self.layer1(x)\n",
    "        y_hat   = F.relu(y)\n",
    "        scores  = self.layer2(y_hat)\n",
    "        \n",
    "        return scores"
   ]
  },
  {
   "cell_type": "markdown",
   "metadata": {},
   "source": [
    "### Build the net (recall that a one layer net had 7,840 parameters)"
   ]
  },
  {
   "cell_type": "code",
   "execution_count": 6,
   "metadata": {},
   "outputs": [
    {
     "name": "stdout",
     "output_type": "stream",
     "text": [
      "two_layer_net(\n",
      "  (layer1): Linear(in_features=784, out_features=50, bias=False)\n",
      "  (layer2): Linear(in_features=50, out_features=10, bias=False)\n",
      ")\n",
      "There are 39700 (0.04 million) parameters in this neural network\n"
     ]
    }
   ],
   "source": [
    "net=two_layer_net(784,50,10)\n",
    "\n",
    "print(net)\n",
    "utils.display_num_param(net)"
   ]
  },
  {
   "cell_type": "markdown",
   "metadata": {},
   "source": [
    "### Choose the criterion, optimizer, batchsize, learning rate"
   ]
  },
  {
   "cell_type": "code",
   "execution_count": 7,
   "metadata": {},
   "outputs": [],
   "source": [
    "criterion = nn.CrossEntropyLoss()\n",
    "\n",
    "optimizer=torch.optim.SGD( net.parameters() , lr=0.01 )\n",
    "\n",
    "bs=20"
   ]
  },
  {
   "cell_type": "markdown",
   "metadata": {},
   "source": [
    "### Evaluate on test set"
   ]
  },
  {
   "cell_type": "code",
   "execution_count": 8,
   "metadata": {},
   "outputs": [],
   "source": [
    "def eval_on_test_set():\n",
    "\n",
    "    running_error=0\n",
    "    num_batches=0\n",
    "\n",
    "    for i in range(0,10000,bs):\n",
    "\n",
    "        minibatch_data =  test_data[i:i+bs]\n",
    "        minibatch_label= test_label[i:i+bs]\n",
    "\n",
    "        inputs = minibatch_data.view(bs,784)\n",
    "\n",
    "        scores=net( inputs ) \n",
    "\n",
    "        error = utils.get_error( scores , minibatch_label)\n",
    "\n",
    "        running_error += error.item()\n",
    "\n",
    "        num_batches+=1\n",
    "\n",
    "\n",
    "    total_error = running_error/num_batches\n",
    "    print( 'test error  = ', total_error*100 ,'percent')"
   ]
  },
  {
   "cell_type": "markdown",
   "metadata": {},
   "source": [
    "### Training loop"
   ]
  },
  {
   "cell_type": "code",
   "execution_count": 9,
   "metadata": {
    "scrolled": false
   },
   "outputs": [
    {
     "name": "stdout",
     "output_type": "stream",
     "text": [
      " \n",
      "epoch= 0 \t time= 8.170487880706787 \t loss= 0.7238321902304887 \t error= 17.688333467642465 percent\n",
      "test error  =  10.000000357627869 percent\n",
      " \n",
      "epoch= 5 \t time= 35.404051780700684 \t loss= 0.21441881583537906 \t error= 5.966667441527049 percent\n",
      "test error  =  5.910000538825988 percent\n",
      " \n",
      "epoch= 10 \t time= 67.2175612449646 \t loss= 0.14803181210129213 \t error= 4.173334050178528 percent\n",
      "test error  =  4.480000603199005 percent\n",
      " \n",
      "epoch= 15 \t time= 111.21993970870972 \t loss= 0.11472403498870941 \t error= 3.2333339313666025 percent\n",
      "test error  =  3.7100005388259887 percent\n",
      " \n",
      "epoch= 20 \t time= 158.08158588409424 \t loss= 0.09487685111739362 \t error= 2.7100005368391673 percent\n",
      "test error  =  3.310000443458557 percent\n",
      " \n",
      "epoch= 25 \t time= 200.57110166549683 \t loss= 0.08092296878085471 \t error= 2.296667162577311 percent\n",
      "test error  =  3.070000445842743 percent\n",
      " \n",
      "epoch= 30 \t time= 243.32893991470337 \t loss= 0.07056844081768456 \t error= 1.9750004331270852 percent\n",
      "test error  =  2.9300004482269286 percent\n",
      " \n",
      "epoch= 35 \t time= 289.166264295578 \t loss= 0.06251833666405097 \t error= 1.7800004025300342 percent\n",
      "test error  =  2.870000469684601 percent\n",
      " \n",
      "epoch= 40 \t time= 327.4653625488281 \t loss= 0.05596517136268085 \t error= 1.5466670175393422 percent\n",
      "test error  =  2.820000445842743 percent\n",
      " \n",
      "epoch= 45 \t time= 349.7629370689392 \t loss= 0.050394458689862705 \t error= 1.3583336333433786 percent\n",
      "test error  =  2.7800004243850704 percent\n",
      " \n",
      "epoch= 50 \t time= 388.4961040019989 \t loss= 0.046007914497943905 \t error= 1.2216669559478759 percent\n",
      "test error  =  2.7800004601478574 percent\n",
      " \n",
      "epoch= 55 \t time= 413.5781888961792 \t loss= 0.041809729017938176 \t error= 1.0916669170061748 percent\n",
      "test error  =  2.7900004267692564 percent\n",
      " \n",
      "epoch= 60 \t time= 451.06327748298645 \t loss= 0.03847875907521423 \t error= 0.9666668951511384 percent\n",
      "test error  =  2.7900004148483277 percent\n",
      " \n",
      "epoch= 65 \t time= 507.0664038658142 \t loss= 0.03504829531197902 \t error= 0.8616668681303661 percent\n",
      "test error  =  2.810000467300415 percent\n",
      " \n",
      "epoch= 70 \t time= 552.3674387931824 \t loss= 0.03257523816645456 \t error= 0.7733335177103678 percent\n",
      "test error  =  2.7000004053115845 percent\n",
      " \n",
      "epoch= 75 \t time= 579.9749481678009 \t loss= 0.029998871075804345 \t error= 0.7066668331623077 percent\n",
      "test error  =  2.780000436306 percent\n",
      " \n",
      "epoch= 80 \t time= 604.4869549274445 \t loss= 0.027731203079141172 \t error= 0.6100001414616902 percent\n",
      "test error  =  2.7600004076957703 percent\n",
      " \n",
      "epoch= 85 \t time= 635.5791983604431 \t loss= 0.025527541053010888 \t error= 0.5466667970021566 percent\n",
      "test error  =  2.7500004529953004 percent\n",
      " \n",
      "epoch= 90 \t time= 665.5512714385986 \t loss= 0.023766545982881023 \t error= 0.4816667815049489 percent\n",
      "test error  =  2.7000004172325136 percent\n",
      " \n",
      "epoch= 95 \t time= 710.321179151535 \t loss= 0.022062541245635656 \t error= 0.4416667719682058 percent\n",
      "test error  =  2.720000433921814 percent\n",
      " \n",
      "epoch= 100 \t time= 752.3348395824432 \t loss= 0.020412060111411848 \t error= 0.32666674455006917 percent\n",
      "test error  =  2.6900004506111146 percent\n",
      " \n",
      "epoch= 105 \t time= 797.6407301425934 \t loss= 0.01911582283136037 \t error= 0.3283334116141001 percent\n",
      "test error  =  2.7600004076957703 percent\n",
      " \n",
      "epoch= 110 \t time= 834.413655757904 \t loss= 0.01775297928056534 \t error= 0.286666735013326 percent\n",
      "test error  =  2.810000419616699 percent\n",
      " \n",
      "epoch= 115 \t time= 871.7597367763519 \t loss= 0.016561409507470672 \t error= 0.23666672309239709 percent\n",
      "test error  =  2.7500003933906556 percent\n",
      " \n",
      "epoch= 120 \t time= 908.4642481803894 \t loss= 0.015335108576279404 \t error= 0.2100000500679016 percent\n",
      "test error  =  2.660000395774841 percent\n",
      " \n",
      "epoch= 125 \t time= 942.2931759357452 \t loss= 0.014498958369151903 \t error= 0.1833333770434062 percent\n",
      "test error  =  2.6800003767013547 percent\n",
      " \n",
      "epoch= 130 \t time= 990.8617024421692 \t loss= 0.013586452188965875 \t error= 0.16500003933906554 percent\n",
      "test error  =  2.7500003933906556 percent\n",
      " \n",
      "epoch= 135 \t time= 1020.3109192848206 \t loss= 0.012707886349683879 \t error= 0.12333336273829142 percent\n",
      "test error  =  2.7000003933906553 percent\n",
      " \n",
      "epoch= 140 \t time= 1053.341361284256 \t loss= 0.011926519506998374 \t error= 0.1050000250339508 percent\n",
      "test error  =  2.770000386238098 percent\n",
      " \n",
      "epoch= 145 \t time= 1093.318808555603 \t loss= 0.01120350456128411 \t error= 0.09833335677782694 percent\n",
      "test error  =  2.6900003910064694 percent\n",
      " \n",
      "epoch= 150 \t time= 1136.6412589550018 \t loss= 0.010494517013298416 \t error= 0.08500002026557922 percent\n",
      "test error  =  2.7600003838539124 percent\n",
      " \n",
      "epoch= 155 \t time= 1161.4326329231262 \t loss= 0.00989544154198605 \t error= 0.0716666837533315 percent\n",
      "test error  =  2.7400003910064696 percent\n",
      " \n",
      "epoch= 160 \t time= 1197.837208032608 \t loss= 0.009344956504249846 \t error= 0.06333334843317667 percent\n",
      "test error  =  2.7600003838539124 percent\n",
      " \n",
      "epoch= 165 \t time= 1249.1683859825134 \t loss= 0.008796870546436063 \t error= 0.05500001311302185 percent\n",
      "test error  =  2.820000410079956 percent\n",
      " \n",
      "epoch= 170 \t time= 1276.2085630893707 \t loss= 0.008320629441738371 \t error= 0.04833334485689799 percent\n",
      "test error  =  2.6900003910064694 percent\n",
      " \n",
      "epoch= 175 \t time= 1303.2795112133026 \t loss= 0.00789437642602267 \t error= 0.043333343664805096 percent\n",
      "test error  =  2.7600004076957703 percent\n",
      " \n",
      "epoch= 180 \t time= 1331.240725517273 \t loss= 0.0074768118551061585 \t error= 0.038333342472712195 percent\n",
      "test error  =  2.7100004315376283 percent\n",
      " \n",
      "epoch= 185 \t time= 1370.9540467262268 \t loss= 0.00709789876831807 \t error= 0.038333342472712195 percent\n",
      "test error  =  2.7400004148483275 percent\n",
      " \n",
      "epoch= 190 \t time= 1428.4242820739746 \t loss= 0.006765812736606676 \t error= 0.031666674216588336 percent\n",
      "test error  =  2.7500004172325134 percent\n",
      " \n",
      "epoch= 195 \t time= 1470.3378376960754 \t loss= 0.0064355641572556126 \t error= 0.023333338896433513 percent\n",
      "test error  =  2.710000419616699 percent\n"
     ]
    }
   ],
   "source": [
    "start = time.time()\n",
    "\n",
    "for epoch in range(200):\n",
    "    \n",
    "    running_loss=0\n",
    "    running_error=0\n",
    "    num_batches=0\n",
    "    \n",
    "    shuffled_indices=torch.randperm(60000)\n",
    " \n",
    "    for count in range(0,60000,bs):\n",
    "        \n",
    "        # forward and backward pass\n",
    "    \n",
    "        optimizer.zero_grad()\n",
    "        \n",
    "        indices=shuffled_indices[count:count+bs]\n",
    "        minibatch_data =  train_data[indices]\n",
    "        minibatch_label= train_label[indices]\n",
    "\n",
    "        inputs = minibatch_data.view(bs,784)\n",
    "\n",
    "        inputs.requires_grad_()\n",
    "\n",
    "        scores=net( inputs ) \n",
    "\n",
    "        loss =  criterion( scores , minibatch_label) \n",
    "        \n",
    "        loss.backward()\n",
    "\n",
    "        optimizer.step()\n",
    "        \n",
    "        \n",
    "        # compute some stats\n",
    "        \n",
    "        running_loss += loss.detach().item()\n",
    "               \n",
    "        error = utils.get_error( scores.detach() , minibatch_label)\n",
    "        running_error += error.item()\n",
    "        \n",
    "        num_batches+=1\n",
    "    \n",
    "    \n",
    "    # once the epoch is finished we divide the \"running quantities\"\n",
    "    # by the number of batches\n",
    "    \n",
    "    total_loss = running_loss/num_batches\n",
    "    total_error = running_error/num_batches\n",
    "    elapsed_time = time.time() - start\n",
    "    \n",
    "    # every 10 epoch we display the stats \n",
    "    # and compute the error rate on the test set  \n",
    "    \n",
    "    if epoch % 5 == 0 : \n",
    "    \n",
    "        print(' ')\n",
    "        \n",
    "        print('epoch=',epoch, '\\t time=', elapsed_time,\n",
    "              '\\t loss=', total_loss , '\\t error=', total_error*100 ,'percent')\n",
    "        \n",
    "        eval_on_test_set()\n",
    "               "
   ]
  },
  {
   "cell_type": "markdown",
   "metadata": {},
   "source": [
    "### Choose image at random from the test set and see how good/bad are the predictions"
   ]
  },
  {
   "cell_type": "code",
   "execution_count": 10,
   "metadata": {},
   "outputs": [
    {
     "data": {
      "image/png": "[encoded data removed]",
      "text/plain": [
       "<Figure size 432x288 with 1 Axes>"
      ]
     },
     "metadata": {},
     "output_type": "display_data"
    },
    {
     "data": {
      "image/png": "[encoded data removed]",
      "text/plain": [
       "<Figure size 640x480 with 1 Axes>"
      ]
     },
     "metadata": {},
     "output_type": "display_data"
    }
   ],
   "source": [
    "# choose a picture at random\n",
    "idx=randint(0, 10000-1)\n",
    "im=test_data[idx]\n",
    "\n",
    "# diplay the picture\n",
    "utils.show(im)\n",
    "\n",
    "# feed it to the net and display the confidence scores\n",
    "scores =  net( im.view(1,784)) \n",
    "probs= F.softmax(scores, dim=1)\n",
    "utils.show_prob_mnist(probs)"
   ]
  },
  {
   "cell_type": "code",
   "execution_count": null,
   "metadata": {},
   "outputs": [],
   "source": []
  }
 ],
 "metadata": {
  "kernelspec": {
   "display_name": "dl_CE7454",
   "language": "python",
   "name": "dl_ce7454"
  },
  "language_info": {
   "codemirror_mode": {
    "name": "ipython",
    "version": 3
   },
   "file_extension": ".py",
   "mimetype": "text/x-python",
   "name": "python",
   "nbconvert_exporter": "python",
   "pygments_lexer": "ipython3",
   "version": "3.6.6"
  }
 },
 "nbformat": 4,
 "nbformat_minor": 2
}
