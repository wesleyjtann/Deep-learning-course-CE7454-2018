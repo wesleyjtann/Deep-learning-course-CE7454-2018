{
 "cells": [
  {
   "cell_type": "markdown",
   "metadata": {},
   "source": [
    "# Lab 17: CIFAR multi-layer -- solution"
   ]
  },
  {
   "cell_type": "code",
   "execution_count": 2,
   "metadata": {},
   "outputs": [],
   "source": [
    "import torch\n",
    "import torch.nn as nn\n",
    "import torch.nn.functional as F\n",
    "import torch.optim as optim\n",
    "from random import randint\n",
    "import utils\n",
    "import time"
   ]
  },
  {
   "cell_type": "markdown",
   "metadata": {},
   "source": [
    "### With or without GPU?"
   ]
  },
  {
   "cell_type": "code",
   "execution_count": 2,
   "metadata": {},
   "outputs": [
    {
     "name": "stdout",
     "output_type": "stream",
     "text": [
      "cuda\n"
     ]
    }
   ],
   "source": [
    "device= torch.device(\"cuda\")\n",
    "#device= torch.device(\"cpu\")\n",
    "print(device)"
   ]
  },
  {
   "cell_type": "markdown",
   "metadata": {},
   "source": [
    "### Download the CIFAR dataset "
   ]
  },
  {
   "cell_type": "code",
   "execution_count": 3,
   "metadata": {},
   "outputs": [
    {
     "name": "stdout",
     "output_type": "stream",
     "text": [
      "torch.Size([50000, 3, 32, 32])\n"
     ]
    }
   ],
   "source": [
    "from utils import check_cifar_dataset_exists\n",
    "check_cifar_dataset_exists() \n",
    "\n",
    "train_data=torch.load('../data/cifar/train_data.pt')\n",
    "train_label=torch.load('../data/cifar/train_label.pt')\n",
    "test_data=torch.load('../data/cifar/test_data.pt')\n",
    "test_label=torch.load('../data/cifar/test_label.pt')\n",
    "\n",
    "print(train_data.size())"
   ]
  },
  {
   "cell_type": "markdown",
   "metadata": {},
   "source": [
    "### Make a Three layer net class. "
   ]
  },
  {
   "cell_type": "code",
   "execution_count": 4,
   "metadata": {
    "collapsed": true
   },
   "outputs": [],
   "source": [
    "class three_layer_net(nn.Module):\n",
    "\n",
    "    def __init__(self, input_size, hidden_size1, hidden_size2,  output_size):\n",
    "        super(three_layer_net , self).__init__()\n",
    "\n",
    "        self.layer1 = nn.Linear(  input_size   , hidden_size1  , bias=False  )\n",
    "        self.layer2 = nn.Linear(  hidden_size1 , hidden_size2  , bias=False  )\n",
    "        self.layer3 = nn.Linear(  hidden_size2 , output_size   , bias=False  )        \n",
    "        \n",
    "    def forward(self, x):\n",
    "        \n",
    "        y       = self.layer1(x)\n",
    "        y_hat   = F.relu(y)\n",
    "        z       = self.layer2(y_hat)\n",
    "        z_hat   = F.relu(z)\n",
    "        scores  = self.layer3(z_hat)\n",
    "        \n",
    "        return scores"
   ]
  },
  {
   "cell_type": "markdown",
   "metadata": {},
   "source": [
    "### Build the net with the following size:\n",
    "* input size = 3,072\n",
    "* hidden size 1 = 500\n",
    "* hidden size 2 = 500\n",
    "* output size = 10\n",
    "### How many parameters in total? (the one layer net had 30,000 parameters)"
   ]
  },
  {
   "cell_type": "code",
   "execution_count": 5,
   "metadata": {},
   "outputs": [
    {
     "name": "stdout",
     "output_type": "stream",
     "text": [
      "three_layer_net(\n",
      "  (layer1): Linear(in_features=3072, out_features=500, bias=False)\n",
      "  (layer2): Linear(in_features=500, out_features=500, bias=False)\n",
      "  (layer3): Linear(in_features=500, out_features=10, bias=False)\n",
      ")\n",
      "There are 1791000 (1.79 million) parameters in this neural network\n"
     ]
    }
   ],
   "source": [
    "net=three_layer_net(3072,500,500,10)\n",
    "print(net)\n",
    "utils.display_num_param(net)"
   ]
  },
  {
   "cell_type": "markdown",
   "metadata": {},
   "source": [
    "### Send the weights of the networks to the GPU"
   ]
  },
  {
   "cell_type": "code",
   "execution_count": null,
   "metadata": {},
   "outputs": [],
   "source": [
    "net = net.to(device)"
   ]
  },
  {
   "cell_type": "markdown",
   "metadata": {},
   "source": [
    "### Choose the criterion and optimizer. Also choose:\n",
    "* batch size =200\n",
    "* learning rate =0.01\n"
   ]
  },
  {
   "cell_type": "code",
   "execution_count": 7,
   "metadata": {
    "collapsed": true
   },
   "outputs": [],
   "source": [
    "criterion = nn.CrossEntropyLoss()\n",
    "optimizer=torch.optim.SGD( net.parameters() , lr=0.01 )\n",
    "bs= 200"
   ]
  },
  {
   "cell_type": "markdown",
   "metadata": {},
   "source": [
    "### Function to evaluate the network on the test set"
   ]
  },
  {
   "cell_type": "code",
   "execution_count": 8,
   "metadata": {
    "collapsed": true
   },
   "outputs": [],
   "source": [
    "def eval_on_test_set():\n",
    "\n",
    "    running_error=0\n",
    "    num_batches=0\n",
    "\n",
    "\n",
    "    for i in range(0,10000,bs):\n",
    "\n",
    "        # extract the minibatch\n",
    "        minibatch_data =  test_data[i:i+bs]\n",
    "        minibatch_label= test_label[i:i+bs]\n",
    "\n",
    "        # send them to the gpu\n",
    "        minibatch_data=minibatch_data.to(device)\n",
    "        minibatch_label=minibatch_label.to(device)\n",
    "\n",
    "        # reshape the minibatch\n",
    "        inputs = minibatch_data.view(bs,3072)\n",
    "\n",
    "        # feed it to the network\n",
    "        scores=net( inputs ) \n",
    "\n",
    "        # compute the error made on this batch\n",
    "        error = utils.get_error( scores , minibatch_label)\n",
    "\n",
    "        # add it to the running error\n",
    "        running_error += error.item()\n",
    "\n",
    "        num_batches+=1\n",
    "\n",
    "\n",
    "    # compute error rate on the full test set\n",
    "    total_error = running_error/num_batches\n",
    "\n",
    "    print( 'error rate on test set =', total_error*100 ,'percent')"
   ]
  },
  {
   "cell_type": "markdown",
   "metadata": {},
   "source": [
    "### Do 200 passes through the training set."
   ]
  },
  {
   "cell_type": "code",
   "execution_count": 9,
   "metadata": {
    "scrolled": false
   },
   "outputs": [
    {
     "name": "stdout",
     "output_type": "stream",
     "text": [
      "epoch= 0 \t time= 1.0180513858795166 \t loss= 2.2436988945007323 \t error= 82.08200056552887 percent\n",
      "error rate on test set = 77.23999989032745 percent\n",
      " \n",
      "epoch= 20 \t time= 21.481289625167847 \t loss= 1.589706464290619 \t error= 55.88200109004975 percent\n",
      "error rate on test set = 55.90000140666962 percent\n",
      " \n",
      "epoch= 40 \t time= 41.989662885665894 \t loss= 1.416879979133606 \t error= 50.10800030231476 percent\n",
      "error rate on test set = 52.260000348091125 percent\n",
      " \n",
      "epoch= 60 \t time= 62.469945669174194 \t loss= 1.304539535522461 \t error= 46.102000927925104 percent\n",
      "error rate on test set = 50.82000005245209 percent\n",
      " \n",
      "epoch= 80 \t time= 82.98795866966248 \t loss= 1.2114149150848388 \t error= 42.56800122261048 percent\n",
      "error rate on test set = 48.39000070095062 percent\n",
      " \n",
      "epoch= 100 \t time= 103.45038080215454 \t loss= 1.1215246868133546 \t error= 39.36400127410889 percent\n",
      "error rate on test set = 46.62000072002411 percent\n",
      " \n",
      "epoch= 120 \t time= 123.73420190811157 \t loss= 1.0397299275398255 \t error= 36.44200167655945 percent\n",
      "error rate on test set = 46.410001039505005 percent\n",
      " \n",
      "epoch= 140 \t time= 144.13092231750488 \t loss= 0.9607777025699615 \t error= 33.6820015668869 percent\n",
      "error rate on test set = 46.02000069618225 percent\n",
      " \n",
      "epoch= 160 \t time= 164.5529682636261 \t loss= 0.8871188411712646 \t error= 30.972001576423647 percent\n",
      "error rate on test set = 48.39000070095062 percent\n",
      " \n",
      "epoch= 180 \t time= 184.7586314678192 \t loss= 0.8095093259811401 \t error= 28.036001634597778 percent\n",
      "error rate on test set = 45.210000872612 percent\n",
      " \n",
      "epoch= 200 \t time= 205.18503189086914 \t loss= 0.7479617295265197 \t error= 25.902001547813413 percent\n",
      "error rate on test set = 45.6700005531311 percent\n",
      " \n",
      "epoch= 220 \t time= 225.47064781188965 \t loss= 0.6778297692537307 \t error= 23.344001913070677 percent\n",
      "error rate on test set = 47.56000053882599 percent\n",
      " \n",
      "epoch= 240 \t time= 245.73093557357788 \t loss= 0.6384016155004502 \t error= 21.362001991271974 percent\n",
      "error rate on test set = 45.720001220703125 percent\n",
      " \n",
      "epoch= 260 \t time= 266.1388852596283 \t loss= 0.5509324731826782 \t error= 18.774001955986023 percent\n",
      "error rate on test set = 46.12000119686127 percent\n",
      " \n",
      "epoch= 280 \t time= 286.4004638195038 \t loss= 0.49144522213935854 \t error= 16.3660017490387 percent\n",
      "error rate on test set = 45.27000141143799 percent\n",
      " \n",
      "epoch= 300 \t time= 306.7568335533142 \t loss= 0.4304203588962555 \t error= 14.040001773834229 percent\n",
      "error rate on test set = 45.07000124454498 percent\n",
      " \n",
      "epoch= 320 \t time= 327.07153964042664 \t loss= 0.3823064288496971 \t error= 11.90800199508667 percent\n",
      "error rate on test set = 46.0200012922287 percent\n",
      " \n",
      "epoch= 340 \t time= 347.47207832336426 \t loss= 0.32736157459020615 \t error= 9.946001935005187 percent\n",
      "error rate on test set = 45.190001368522644 percent\n",
      " \n",
      "epoch= 360 \t time= 367.7901656627655 \t loss= 0.31307811534404756 \t error= 9.214001727104188 percent\n",
      "error rate on test set = 51.100000858306885 percent\n",
      " \n",
      "epoch= 380 \t time= 388.2332000732422 \t loss= 0.25181197154521945 \t error= 7.356001806259155 percent\n",
      "error rate on test set = 45.17000102996826 percent\n",
      " \n",
      "epoch= 400 \t time= 408.4189519882202 \t loss= 0.19919793671369554 \t error= 5.062002468109131 percent\n",
      "error rate on test set = 49.11000037193298 percent\n",
      " \n",
      "epoch= 420 \t time= 428.69844150543213 \t loss= 0.19738082152605058 \t error= 4.722002744674683 percent\n",
      "error rate on test set = 45.710000872612 percent\n",
      " \n",
      "epoch= 440 \t time= 448.9258711338043 \t loss= 0.18947883000969887 \t error= 4.228003001213073 percent\n",
      "error rate on test set = 45.83000135421753 percent\n",
      " \n",
      "epoch= 460 \t time= 469.07101821899414 \t loss= 0.08550765782594681 \t error= 1.4840030193328857 percent\n",
      "error rate on test set = 46.84000086784363 percent\n",
      " \n",
      "epoch= 480 \t time= 489.40260338783264 \t loss= 0.220170968785882 \t error= 4.9160021305084225 percent\n",
      "error rate on test set = 45.3900009393692 percent\n",
      " \n",
      "epoch= 500 \t time= 509.74343061447144 \t loss= 0.052928515642881396 \t error= 0.5720012903213502 percent\n",
      "error rate on test set = 45.55000114440918 percent\n",
      " \n",
      "epoch= 520 \t time= 529.8900647163391 \t loss= 0.05408691824972629 \t error= 0.6060015678405761 percent\n",
      "error rate on test set = 45.500001192092896 percent\n",
      " \n",
      "epoch= 540 \t time= 550.091260433197 \t loss= 0.04603663516044617 \t error= 0.4260008811950684 percent\n",
      "error rate on test set = 45.33000111579895 percent\n",
      " \n",
      "epoch= 560 \t time= 570.4668152332306 \t loss= 0.0296166465356946 \t error= 0.19800014495849608 percent\n",
      "error rate on test set = 45.74000084400177 percent\n",
      " \n",
      "epoch= 580 \t time= 590.6035671234131 \t loss= 0.30448868362605575 \t error= 6.486002159118652 percent\n",
      "error rate on test set = 46.04000115394592 percent\n",
      " \n",
      "epoch= 600 \t time= 610.8868522644043 \t loss= 0.026335903577506543 \t error= 0.15000002384185793 percent\n",
      "error rate on test set = 45.96000111103058 percent\n",
      " \n",
      "epoch= 620 \t time= 631.386709690094 \t loss= 0.02047942292690277 \t error= 0.10200006961822511 percent\n",
      "error rate on test set = 46.070001006126404 percent\n",
      " \n",
      "epoch= 640 \t time= 651.5761609077454 \t loss= 0.016504620634019376 \t error= 0.062000036239624016 percent\n",
      "error rate on test set = 45.58000123500824 percent\n",
      " \n",
      "epoch= 660 \t time= 672.0262265205383 \t loss= 0.014170431457459927 \t error= 0.03399996757507324 percent\n",
      "error rate on test set = 45.900001525878906 percent\n",
      " \n",
      "epoch= 680 \t time= 692.5427656173706 \t loss= 0.012294776486232877 \t error= 0.021999979019165037 percent\n",
      "error rate on test set = 45.93000113964081 percent\n",
      " \n",
      "epoch= 700 \t time= 713.0499789714813 \t loss= 0.010856685034930705 \t error= 0.015999984741210938 percent\n",
      "error rate on test set = 45.970001101493835 percent\n",
      " \n",
      "epoch= 720 \t time= 733.5210349559784 \t loss= 0.009635480085387825 \t error= 0.009999990463256836 percent\n",
      "error rate on test set = 45.95000088214874 percent\n",
      " \n",
      "epoch= 740 \t time= 753.973851442337 \t loss= 0.008625205617398024 \t error= 0.005999994277954101 percent\n",
      "error rate on test set = 46.24000108242035 percent\n",
      " \n",
      "epoch= 760 \t time= 774.4401710033417 \t loss= 0.007760452501475811 \t error= 0.0039999961853027345 percent\n",
      "error rate on test set = 46.04000115394592 percent\n",
      " \n",
      "epoch= 780 \t time= 794.7523629665375 \t loss= 0.00708654342778027 \t error= 0.0039999961853027345 percent\n",
      "error rate on test set = 46.02000105381012 percent\n",
      " \n",
      "epoch= 800 \t time= 815.0775194168091 \t loss= 0.006486977555789053 \t error= 0.0 percent\n",
      "error rate on test set = 46.190001130104065 percent\n",
      " \n",
      "epoch= 820 \t time= 835.3000817298889 \t loss= 0.005975097678601742 \t error= 0.0 percent\n",
      "error rate on test set = 45.970001220703125 percent\n",
      " \n",
      "epoch= 840 \t time= 855.5050003528595 \t loss= 0.005514673463068902 \t error= 0.0 percent\n",
      "error rate on test set = 45.9800009727478 percent\n",
      " \n",
      "epoch= 860 \t time= 875.8263041973114 \t loss= 0.005150616457685828 \t error= 0.0 percent\n",
      "error rate on test set = 45.93000102043152 percent\n",
      " \n",
      "epoch= 880 \t time= 896.2338182926178 \t loss= 0.004780052622780204 \t error= 0.0 percent\n",
      "error rate on test set = 45.80000126361847 percent\n",
      " \n",
      "epoch= 900 \t time= 916.6237218379974 \t loss= 0.004451223966665566 \t error= 0.0 percent\n",
      "error rate on test set = 46.02000093460083 percent\n",
      " \n",
      "epoch= 920 \t time= 937.1002261638641 \t loss= 0.004168510989286006 \t error= 0.0 percent\n",
      "error rate on test set = 45.89000082015991 percent\n",
      " \n",
      "epoch= 940 \t time= 957.5203282833099 \t loss= 0.003933261845260858 \t error= 0.0 percent\n",
      "error rate on test set = 46.06000101566315 percent\n",
      " \n",
      "epoch= 960 \t time= 977.9506537914276 \t loss= 0.0037061619283631445 \t error= 0.0 percent\n",
      "error rate on test set = 46.02000105381012 percent\n",
      " \n",
      "epoch= 980 \t time= 998.2301616668701 \t loss= 0.003524632254615426 \t error= 0.0 percent\n",
      "error rate on test set = 45.92000102996826 percent\n",
      " \n"
     ]
    }
   ],
   "source": [
    "start=time.time()\n",
    "\n",
    "for epoch in range(1000):\n",
    "    \n",
    "    running_loss=0\n",
    "    running_error=0\n",
    "    num_batches=0\n",
    "    \n",
    "    shuffled_indices=torch.randperm(50000)\n",
    " \n",
    "    for count in range(0,50000,bs):\n",
    "    \n",
    "        # Set the gradients to zeros\n",
    "        optimizer.zero_grad()\n",
    "        \n",
    "        # create a minibatch       \n",
    "        indices=shuffled_indices[count:count+bs]\n",
    "        minibatch_data =  train_data[indices]\n",
    "        minibatch_label=  train_label[indices]\n",
    "        \n",
    "        # send them to the gpu\n",
    "        minibatch_data=minibatch_data.to(device)\n",
    "        minibatch_label=minibatch_label.to(device)\n",
    "        \n",
    "        # reshape the minibatch\n",
    "        inputs = minibatch_data.view(bs,3072)\n",
    "\n",
    "        # tell Pytorch to start tracking all operations that will be done on \"inputs\"\n",
    "        inputs.requires_grad_()\n",
    "\n",
    "        # forward the minibatch through the net \n",
    "        scores=net( inputs ) \n",
    "\n",
    "        # Compute the average of the losses of the data points in the minibatch\n",
    "        loss =  criterion( scores , minibatch_label) \n",
    "        \n",
    "        # backward pass to compute dL/dU, dL/dV and dL/dW   \n",
    "        loss.backward()\n",
    "\n",
    "        # do one step of stochastic gradient descent: U=U-lr(dL/dU), V=V-lr(dL/dU), ...\n",
    "        optimizer.step()\n",
    "        \n",
    "\n",
    "        # START COMPUTING STATS\n",
    "        \n",
    "        # add the loss of this batch to the running loss\n",
    "        running_loss += loss.detach().item()\n",
    "        \n",
    "        # compute the error made on this batch and add it to the running error       \n",
    "        error = utils.get_error( scores.detach() , minibatch_label)\n",
    "        running_error += error.item()\n",
    "        \n",
    "        num_batches+=1        \n",
    "    \n",
    "    \n",
    "    # compute stats for the full training set\n",
    "    total_loss = running_loss/num_batches\n",
    "    total_error = running_error/num_batches\n",
    "    elapsed = time.time()-start\n",
    "    \n",
    "    if epoch%20 == 0:\n",
    "        print('epoch=',epoch, '\\t time=', elapsed, '\\t loss=', total_loss , '\\t error=', total_error*100 ,'percent')\n",
    "        eval_on_test_set() \n",
    "        print(' ')\n",
    "    \n",
    "    \n",
    "        \n",
    "        "
   ]
  },
  {
   "cell_type": "markdown",
   "metadata": {},
   "source": [
    "### Choose image at random from the test set and see how good/bad are the predictions"
   ]
  },
  {
   "cell_type": "code",
   "execution_count": 10,
   "metadata": {},
   "outputs": [
    {
     "data": {
      "image/png": "[encoded data removed]",
      "text/plain": [
       "<Figure size 432x288 with 1 Axes>"
      ]
     },
     "metadata": {},
     "output_type": "display_data"
    },
    {
     "data": {
      "image/png": "[encoded data removed]",
      "text/plain": [
       "<Figure size 640x480 with 1 Axes>"
      ]
     },
     "metadata": {},
     "output_type": "display_data"
    }
   ],
   "source": [
    "# choose a picture at random\n",
    "idx=randint(0, 10000-1)\n",
    "im=test_data[idx]\n",
    "\n",
    "# diplay the picture\n",
    "utils.show(im)\n",
    "\n",
    "# feed it to the net and display the confidence scores\n",
    "scores =  net( im.view(1,3072).to(device)) \n",
    "probs= F.softmax(scores, dim=1)\n",
    "utils.show_prob_cifar(probs.cpu())"
   ]
  },
  {
   "cell_type": "code",
   "execution_count": null,
   "metadata": {
    "collapsed": true
   },
   "outputs": [],
   "source": []
  }
 ],
 "metadata": {
  "kernelspec": {
   "display_name": "Python 3",
   "language": "python",
   "name": "python3"
  },
  "language_info": {
   "codemirror_mode": {
    "name": "ipython",
    "version": 3
   },
   "file_extension": ".py",
   "mimetype": "text/x-python",
   "name": "python",
   "nbconvert_exporter": "python",
   "pygments_lexer": "ipython3",
   "version": "3.6.6"
  }
 },
 "nbformat": 4,
 "nbformat_minor": 2
}
